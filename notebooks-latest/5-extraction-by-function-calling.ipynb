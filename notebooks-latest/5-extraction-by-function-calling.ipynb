{
 "cells": [
  {
   "cell_type": "code",
   "execution_count": 1,
   "metadata": {},
   "outputs": [],
   "source": [
    "from dotenv import load_dotenv\n",
    "from azure.identity import DefaultAzureCredential\n",
    "import os\n",
    "\n",
    "load_dotenv(override=True) # take environment variables from .env.\n",
    "\n",
    "# Variables not used here do not need to be updated in your .env file\n",
    "endpoint = os.environ[\"AZURE_SEARCH_SERVICE_ENDPOINT\"]\n",
    "key_credential = os.environ[\"AZURE_SEARCH_ADMIN_KEY\"] if len(os.environ[\"AZURE_SEARCH_ADMIN_KEY\"]) > 0 else None\n",
    "index_name = os.environ[\"AZURE_SEARCH_INDEX\"]\n",
    "azure_openai_endpoint = os.environ[\"AZURE_OPENAI_ENDPOINT\"]\n",
    "azure_openai_key = os.environ[\"AZURE_OPENAI_API_KEY\"] if len(os.environ[\"AZURE_OPENAI_API_KEY\"]) > 0 else None\n",
    "azure_openai_embedding_deployment = os.environ[\"AZURE_OPENAI_EMBEDDING_DEPLOYMENT\"]\n",
    "azure_openai_api_version = os.environ[\"AZURE_OPENAI_API_VERSION\"]\n",
    "\n",
    "credential = key_credential or DefaultAzureCredential()"
   ]
  },
  {
   "cell_type": "code",
   "execution_count": 2,
   "metadata": {},
   "outputs": [],
   "source": [
    "from langchain_openai import AzureOpenAIEmbeddings\n",
    "from azure.identity import DefaultAzureCredential, get_bearer_token_provider\n",
    "from langchain.vectorstores.azuresearch import AzureSearch\n",
    "\n",
    "openai_credential = DefaultAzureCredential()\n",
    "token_provider = get_bearer_token_provider(openai_credential, \"https://cognitiveservices.azure.com/.default\")\n",
    "\n",
    "# Use API key if provided, otherwise use RBAC authentication\n",
    "embeddings = AzureOpenAIEmbeddings(\n",
    "    azure_deployment=azure_openai_embedding_deployment,\n",
    "    openai_api_version=azure_openai_api_version,\n",
    "    azure_endpoint=azure_openai_endpoint,\n",
    "    api_key=azure_openai_key,\n",
    "    azure_ad_token_provider=token_provider if not azure_openai_key else None\n",
    ")   \n",
    "\n",
    "vector_store = AzureSearch(\n",
    "    azure_search_endpoint=endpoint,\n",
    "    azure_search_key=key_credential,\n",
    "    index_name=index_name,\n",
    "    embedding_function=embeddings.embed_query,\n",
    "    semantic_configuration_name=\"contoso-semantic-config\"\n",
    ") "
   ]
  },
  {
   "cell_type": "code",
   "execution_count": 3,
   "metadata": {},
   "outputs": [],
   "source": [
    "from langsmith import Client\n",
    "client = Client()\n",
    "\n",
    "os.environ['LANGCHAIN_PROJECT'] = \"contoso-coffee-extraction\""
   ]
  },
  {
   "cell_type": "code",
   "execution_count": 4,
   "metadata": {},
   "outputs": [
    {
     "data": {
      "text/plain": [
       "[HumanMessage(content='What french options do you have?'),\n",
       " AIMessage(content=\"We have a few French-inspired items on our menu:\\n\\n1. Pain au Chocolat: A classic French pastry filled with chocolate. It's priced at $3.5.\\n2. Croissant: A buttery, flaky pastry, freshly baked to golden perfection. It's priced at $2.0.\\n3. Cafe au Lait: A coffee drink made with strong hot coffee and scalded milk. It's priced at $3.5.\\n\\nPlease let me know if you'd like more information about these items or if you're ready to place an order.\"),\n",
       " HumanMessage(content='can I have 2 of each?'),\n",
       " AIMessage(content=\"Absolutely, I've added these to your order:\\n\\n1. 2x Pain au Chocolat ($3.5 each)\\n2. 2x Croissant ($2.0 each)\\n3. 2x Cafe au Lait ($3.5 each)\\n\\nIs there anything else you would like to add to your order?\"),\n",
       " HumanMessage(content='can you make my coffees hot?'),\n",
       " AIMessage(content=\"Definitely! We'll ensure that your Cafe au Lait drinks are served hot. I've made a note of this in your order. Is there anything else you would like to specify or add to your order?\"),\n",
       " HumanMessage(content='Thanks, my name is shiva chittamuru'),\n",
       " AIMessage(content='Thank you, Shiva Chittamuru. Your order is confirmed and will be ready for pickup at our cafe in 15 minutes. Please make your payment at the store. Enjoy your meal!'),\n",
       " HumanMessage(content='thats it! thank you!'),\n",
       " AIMessage(content=\"You're welcome, Shiva Chittamuru! Thank you for choosing Contoso Coffee. We hope you enjoy your order!\")]"
      ]
     },
     "execution_count": 4,
     "metadata": {},
     "output_type": "execute_result"
    }
   ],
   "source": [
    "from langchain_community.chat_message_histories.cosmos_db import CosmosDBChatMessageHistory\n",
    "\n",
    "cosmos = CosmosDBChatMessageHistory(\n",
    "        cosmos_endpoint=os.environ['AZURE_COSMOSDB_ENDPOINT'],\n",
    "        cosmos_database=os.environ['AZURE_COSMOSDB_NAME'],\n",
    "        cosmos_container=os.environ['AZURE_COSMOSDB_CONTAINER_NAME'],\n",
    "        connection_string=os.environ['AZURE_COMOSDB_CONNECTION_STRING'],\n",
    "        session_id=\"abc123\",\n",
    "        user_id=\"shivac\"\n",
    "    )\n",
    "cosmos.prepare_cosmos()\n",
    "cosmos.messages\n"
   ]
  },
  {
   "cell_type": "code",
   "execution_count": 5,
   "metadata": {},
   "outputs": [
    {
     "name": "stdout",
     "output_type": "stream",
     "text": [
      "Customer: What french options do you have?\n",
      "Cafe Bot: We have a few French-inspired items on our menu:\n",
      "\n",
      "1. Pain au Chocolat: A classic French pastry filled with chocolate. It's priced at $3.5.\n",
      "2. Croissant: A buttery, flaky pastry, freshly baked to golden perfection. It's priced at $2.0.\n",
      "3. Cafe au Lait: A coffee drink made with strong hot coffee and scalded milk. It's priced at $3.5.\n",
      "\n",
      "Please let me know if you'd like more information about these items or if you're ready to place an order.\n",
      "Customer: can I have 2 of each?\n",
      "Cafe Bot: Absolutely, I've added these to your order:\n",
      "\n",
      "1. 2x Pain au Chocolat ($3.5 each)\n",
      "2. 2x Croissant ($2.0 each)\n",
      "3. 2x Cafe au Lait ($3.5 each)\n",
      "\n",
      "Is there anything else you would like to add to your order?\n",
      "Customer: can you make my coffees hot?\n",
      "Cafe Bot: Definitely! We'll ensure that your Cafe au Lait drinks are served hot. I've made a note of this in your order. Is there anything else you would like to specify or add to your order?\n",
      "Customer: Thanks, my name is shiva chittamuru\n",
      "Cafe Bot: Thank you, Shiva Chittamuru. Your order is confirmed and will be ready for pickup at our cafe in 15 minutes. Please make your payment at the store. Enjoy your meal!\n",
      "Customer: thats it! thank you!\n",
      "Cafe Bot: You're welcome, Shiva Chittamuru! Thank you for choosing Contoso Coffee. We hope you enjoy your order!\n",
      "\n"
     ]
    }
   ],
   "source": [
    "def cosmos_messages_to_string(messages: list) -> str:\n",
    "    \"\"\"\n",
    "    Converts a list of messages to a string.\n",
    "    \"\"\"\n",
    "    chat_str = \"\"\n",
    "    for message in cosmos.messages:\n",
    "        if message.type == \"human\":\n",
    "            chat_str += \"Customer: \" + message.content + \"\\n\"\n",
    "        if message.type == \"ai\":\n",
    "            chat_str += \"Cafe Bot: \" + message.content + \"\\n\"\n",
    "    return chat_str\n",
    "\n",
    "chat_str = cosmos_messages_to_string(cosmos.messages)\n",
    "print(chat_str)"
   ]
  },
  {
   "cell_type": "code",
   "execution_count": 6,
   "metadata": {},
   "outputs": [],
   "source": [
    "from langchain_openai.chat_models import AzureChatOpenAI\n",
    "llm = AzureChatOpenAI(\n",
    "    api_key=os.environ[\"AZURE_OPENAI_API_KEY\"],\n",
    "    azure_endpoint=os.environ[\"AZURE_OPENAI_ENDPOINT\"],\n",
    "    api_version=os.environ[\"AZURE_OPENAI_API_VERSION\"],\n",
    "    azure_deployment=\"gpt-4\",\n",
    "    streaming=True,\n",
    ")"
   ]
  },
  {
   "cell_type": "code",
   "execution_count": 7,
   "metadata": {},
   "outputs": [
    {
     "name": "stdout",
     "output_type": "stream",
     "text": [
      "{\n",
      "    \"name\": \"OrderInfo\",\n",
      "    \"description\": \"Input is a transcript of a conversation between a customer and an AI assistant discussing an order made at a restaurant.\\nExtract order details such item name, quantity, price, and any additional notes for each item.\",\n",
      "    \"parameters\": {\n",
      "        \"type\": \"object\",\n",
      "        \"properties\": {\n",
      "            \"order\": {\n",
      "                \"description\": \"List of items ordered and their details\",\n",
      "                \"type\": \"array\",\n",
      "                \"items\": {\n",
      "                    \"description\": \"Information about each ordered item such as item name, quantity, price and additional notes provided by the customer.\",\n",
      "                    \"type\": \"object\",\n",
      "                    \"properties\": {\n",
      "                        \"item\": {\n",
      "                            \"description\": \"Name of the item ordered\",\n",
      "                            \"type\": \"string\"\n",
      "                        },\n",
      "                        \"quantity\": {\n",
      "                            \"description\": \"Quantity of that ordered item\",\n",
      "                            \"type\": \"integer\"\n",
      "                        },\n",
      "                        \"price\": {\n",
      "                            \"description\": \"Price of that ordered item\",\n",
      "                            \"type\": \"number\"\n",
      "                        },\n",
      "                        \"item_notes\": {\n",
      "                            \"description\": \"Any additional notes about that item provided by the customer\",\n",
      "                            \"type\": \"string\"\n",
      "                        }\n",
      "                    },\n",
      "                    \"required\": [\n",
      "                        \"item\",\n",
      "                        \"quantity\",\n",
      "                        \"price\"\n",
      "                    ]\n",
      "                }\n",
      "            }\n",
      "        },\n",
      "        \"required\": [\n",
      "            \"order\"\n",
      "        ]\n",
      "    }\n",
      "}\n"
     ]
    }
   ],
   "source": [
    "from typing import List, Dict, Optional\n",
    "import json\n",
    "from langchain_core.pydantic_v1 import BaseModel, Field\n",
    "from langchain_core.utils.function_calling import convert_to_openai_function\n",
    "\n",
    "class OrderedItem(BaseModel):\n",
    "    \"\"\"\n",
    "    Information about each ordered item such as item name, quantity, price and additional notes provided by the customer.\n",
    "    \"\"\"\n",
    "    item: str = Field(description=\"Name of the item ordered\")\n",
    "    quantity: int = Field(description=\"Quantity of that ordered item\")\n",
    "    price: float = Field(description=\"Price of that ordered item\")\n",
    "    item_notes: Optional[str] = Field(description=\"Any additional notes about that item provided by the customer\")\n",
    "    \n",
    "class OrderInfo(BaseModel):\n",
    "    \"\"\"\n",
    "    Input is a transcript of a conversation between a customer and an AI assistant discussing an order made at a restaurant.\n",
    "    Extract order details such item name, quantity, price, and any additional notes for each item.\n",
    "    \"\"\"\n",
    "    order: List[OrderedItem] = Field(description=\"List of items ordered and their details\")\n",
    "\n",
    "order_schema = convert_to_openai_function(OrderInfo)\n",
    "print(json.dumps(order_schema, indent=4))"
   ]
  },
  {
   "cell_type": "code",
   "execution_count": 8,
   "metadata": {},
   "outputs": [
    {
     "name": "stdout",
     "output_type": "stream",
     "text": [
      "{\n",
      "    \"name\": \"CustomerName\",\n",
      "    \"description\": \"Input is a transcript of a conversation between a customer and an AI assistant discussing an order made at a restaurant.\\nExtract the customer's name.\",\n",
      "    \"parameters\": {\n",
      "        \"type\": \"object\",\n",
      "        \"properties\": {\n",
      "            \"customer_name\": {\n",
      "                \"description\": \"Name of the customer\",\n",
      "                \"type\": \"string\"\n",
      "            }\n",
      "        },\n",
      "        \"required\": [\n",
      "            \"customer_name\"\n",
      "        ]\n",
      "    }\n",
      "}\n"
     ]
    }
   ],
   "source": [
    "class CustomerName(BaseModel):\n",
    "    \"\"\"\n",
    "    Input is a transcript of a conversation between a customer and an AI assistant discussing an order made at a restaurant.\n",
    "    Extract the customer's name.\n",
    "    \"\"\"\n",
    "    customer_name: str = Field(description=\"Name of the customer\")\n",
    "    \n",
    "customer_name_schema = convert_to_openai_function(CustomerName)\n",
    "print(json.dumps(customer_name_schema, indent=4))"
   ]
  },
  {
   "cell_type": "code",
   "execution_count": 9,
   "metadata": {},
   "outputs": [
    {
     "name": "stdout",
     "output_type": "stream",
     "text": [
      "{\n",
      "    \"order\": [\n",
      "        {\n",
      "            \"item\": \"Pain au Chocolat\",\n",
      "            \"quantity\": 2,\n",
      "            \"price\": 3.5,\n",
      "            \"item_notes\": \"\"\n",
      "        },\n",
      "        {\n",
      "            \"item\": \"Croissant\",\n",
      "            \"quantity\": 2,\n",
      "            \"price\": 2.0,\n",
      "            \"item_notes\": \"\"\n",
      "        },\n",
      "        {\n",
      "            \"item\": \"Cafe au Lait\",\n",
      "            \"quantity\": 2,\n",
      "            \"price\": 3.5,\n",
      "            \"item_notes\": \"Serve hot\"\n",
      "        }\n",
      "    ]\n",
      "}\n"
     ]
    }
   ],
   "source": [
    "from langchain_core.prompts import ChatPromptTemplate\n",
    "from langchain_core.output_parsers.openai_functions import JsonOutputFunctionsParser\n",
    "\n",
    "extraction_functions = [order_schema]\n",
    "\n",
    "order_prompt = ChatPromptTemplate.from_messages([\n",
    "    (\"system\", \"\"\"\n",
    "            You are a world class algorithm for extracting information in structured formats from a restaurant order conversation between a customer and an AI assistant.\n",
    "            Your task is to extract and save the pertinent details, specifically the ordered food items, quantity ordered, their prices and any additional notes requested for each ordered item included in the order. \n",
    "            Make sure to extract only those items that were ordered.\n",
    "        \"\"\"),\n",
    "    (\"user\", \"{input}\")\n",
    "])\n",
    "\n",
    "extraction_model = llm.bind(\n",
    "    functions=extraction_functions,\n",
    "    function_call={\"name\": \"OrderInfo\"}\n",
    ")\n",
    "\n",
    "order_extraction_chain = order_prompt | extraction_model | JsonOutputFunctionsParser()\n",
    "order_result = order_extraction_chain.invoke({\"input\": chat_str})\n",
    "print(json.dumps(order_result, indent=4))\n"
   ]
  },
  {
   "cell_type": "code",
   "execution_count": 10,
   "metadata": {},
   "outputs": [
    {
     "name": "stdout",
     "output_type": "stream",
     "text": [
      "Customer name: shiva chittamuru\n"
     ]
    }
   ],
   "source": [
    "extraction_functions = [customer_name_schema]\n",
    "\n",
    "name_prompt = ChatPromptTemplate.from_messages([\n",
    "    (\"system\", \"\"\"\n",
    "            You are a world class algorithm for extracting information in structured formats from a restaurant order conversation between a customer and an AI assistant.\n",
    "            Your task is to extract the customer's name included in the order.\n",
    "        \"\"\"),\n",
    "    (\"user\", \"{input}\")\n",
    "])\n",
    "\n",
    "extraction_model = llm.bind(\n",
    "    functions=extraction_functions,\n",
    "    function_call={\"name\": \"CustomerName\"}\n",
    ")\n",
    "\n",
    "name_extraction_chain = name_prompt | extraction_model | JsonOutputFunctionsParser()\n",
    "name = name_extraction_chain.invoke({\"input\": chat_str})\n",
    "customer_name = name[\"customer_name\"]\n",
    "print(f\"Customer name: {customer_name}\")"
   ]
  },
  {
   "cell_type": "code",
   "execution_count": 14,
   "metadata": {},
   "outputs": [
    {
     "data": {
      "text/html": [
       "<div>\n",
       "<style scoped>\n",
       "    .dataframe tbody tr th:only-of-type {\n",
       "        vertical-align: middle;\n",
       "    }\n",
       "\n",
       "    .dataframe tbody tr th {\n",
       "        vertical-align: top;\n",
       "    }\n",
       "\n",
       "    .dataframe thead th {\n",
       "        text-align: right;\n",
       "    }\n",
       "</style>\n",
       "<table border=\"1\" class=\"dataframe\">\n",
       "  <thead>\n",
       "    <tr style=\"text-align: right;\">\n",
       "      <th></th>\n",
       "      <th>item</th>\n",
       "      <th>quantity</th>\n",
       "      <th>price</th>\n",
       "      <th>item_notes</th>\n",
       "    </tr>\n",
       "  </thead>\n",
       "  <tbody>\n",
       "    <tr>\n",
       "      <th>0</th>\n",
       "      <td>pain au chocolat</td>\n",
       "      <td>2</td>\n",
       "      <td>3.5</td>\n",
       "      <td></td>\n",
       "    </tr>\n",
       "    <tr>\n",
       "      <th>1</th>\n",
       "      <td>croissant</td>\n",
       "      <td>2</td>\n",
       "      <td>2.0</td>\n",
       "      <td></td>\n",
       "    </tr>\n",
       "    <tr>\n",
       "      <th>2</th>\n",
       "      <td>cafe au lait</td>\n",
       "      <td>2</td>\n",
       "      <td>3.5</td>\n",
       "      <td>Serve hot</td>\n",
       "    </tr>\n",
       "  </tbody>\n",
       "</table>\n",
       "</div>"
      ],
      "text/plain": [
       "               item  quantity  price item_notes\n",
       "0  pain au chocolat         2    3.5           \n",
       "1         croissant         2    2.0           \n",
       "2      cafe au lait         2    3.5  Serve hot"
      ]
     },
     "execution_count": 14,
     "metadata": {},
     "output_type": "execute_result"
    }
   ],
   "source": [
    "import pandas as pd\n",
    "\n",
    "order_df = pd.DataFrame(order_result[\"order\"])\n",
    "order_df['item'] = order_df['item'].str.strip().str.lower()\n",
    "order_df"
   ]
  },
  {
   "cell_type": "code",
   "execution_count": 18,
   "metadata": {},
   "outputs": [
    {
     "name": "stdout",
     "output_type": "stream",
     "text": [
      "{'item': 'Pain au Chocolat', 'quantity': 2, 'price': 3.5, 'item_notes': '', 'id': 'b009'}\n",
      "{'item': 'Croissant', 'quantity': 2, 'price': 2.0, 'item_notes': '', 'id': 'b002'}\n",
      "{'item': 'Cafe au Lait', 'quantity': 2, 'price': 3.5, 'item_notes': 'Serve hot', 'id': 'c015'}\n"
     ]
    }
   ],
   "source": [
    "import pandas as pd  \n",
    "from fuzzywuzzy import process  \n",
    "\n",
    "menu_data = pd.read_json('../data/contoso.json') \n",
    "  \n",
    "# Convert the 'Item_Name' column to lower case for standardization  \n",
    "menu_data['item'] = menu_data['item'].str.lower()  \n",
    "  \n",
    "# Create a dictionary to store the item_ids  \n",
    "item_ids = dict(zip(menu_data['item'], menu_data['id']))  \n",
    "  \n",
    "# Extract the item_ids for the item_names in final_order_json_list  \n",
    "for item in order_result[\"order\"]:  \n",
    "    item_name = item['item'].lower()  \n",
    "  \n",
    "    # Use fuzzy matching to find the closest matching item in the menu  \n",
    "    matched_item, _ = process.extractOne(item_name, item_ids.keys())  \n",
    "  \n",
    "    id = item_ids.get(matched_item)  \n",
    "    item['id'] = id  \n",
    "  \n",
    "# Print the updated final_order_json_list  \n",
    "for item in order_result[\"order\"]:  \n",
    "    print(item) "
   ]
  },
  {
   "cell_type": "code",
   "execution_count": 19,
   "metadata": {},
   "outputs": [
    {
     "name": "stdout",
     "output_type": "stream",
     "text": [
      "Your total is: 18.0$\n"
     ]
    }
   ],
   "source": [
    "def calculate_total(order_result):\n",
    "    sum = 0\n",
    "    for item in order_result:\n",
    "        sum += item['price']*item['quantity']\n",
    "    return sum\n",
    "\n",
    "print(\"Your total is: {0}$\".format(calculate_total(order_result['order'])))"
   ]
  },
  {
   "cell_type": "code",
   "execution_count": 20,
   "metadata": {},
   "outputs": [
    {
     "name": "stdout",
     "output_type": "stream",
     "text": [
      "-----------Contoso Coffee Inc-----------\n",
      "\n",
      "Pain au Chocolat x 2 = 7.0$\n",
      "Croissant x 2 = 4.0$\n",
      "Cafe au Lait x 2 = 7.0$\n",
      "\t Notes: Serve hot\n",
      "\n",
      "Subtotal: 18.0$\n",
      "Tax: 1.71$\n",
      "Total: 19.71$\n",
      "\n",
      "Thank you for dining with us, Shiva Chittamuru!\n"
     ]
    }
   ],
   "source": [
    "def print_receipt(order_result, customer_name, tax_percent=0.095):\n",
    "    print(\"-----------Contoso Coffee Inc-----------\\n\")\n",
    "    for item in order_result:\n",
    "        print(\"{0} x {1} = {2}$\".format(item['item'], item['quantity'], round(item['price']*item['quantity'], 2)))\n",
    "        if item['item_notes'] != \"\":\n",
    "            print(\"\\t Notes: {0}\".format(item['item_notes']))\n",
    "    \n",
    "    subtotal = calculate_total(order_result)\n",
    "    tax = round(tax_percent*subtotal , 2)\n",
    "    total = round(subtotal + tax, 2)\n",
    "    print(\"\\nSubtotal: {0}$\".format(subtotal))\n",
    "    print(\"Tax: {0}$\".format(tax))\n",
    "    print(\"Total: {0}$\".format(total))   \n",
    "    \n",
    "    print(f\"\\nThank you for dining with us, {customer_name.title()}!\")\n",
    "    \n",
    "print_receipt(order_result['order'], customer_name)"
   ]
  },
  {
   "cell_type": "code",
   "execution_count": null,
   "metadata": {},
   "outputs": [],
   "source": []
  }
 ],
 "metadata": {
  "kernelspec": {
   "display_name": "food",
   "language": "python",
   "name": "python3"
  },
  "language_info": {
   "codemirror_mode": {
    "name": "ipython",
    "version": 3
   },
   "file_extension": ".py",
   "mimetype": "text/x-python",
   "name": "python",
   "nbconvert_exporter": "python",
   "pygments_lexer": "ipython3",
   "version": "3.11.8"
  }
 },
 "nbformat": 4,
 "nbformat_minor": 2
}
