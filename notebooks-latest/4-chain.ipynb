{
 "cells": [
  {
   "cell_type": "code",
   "execution_count": 1,
   "metadata": {},
   "outputs": [],
   "source": [
    "from dotenv import load_dotenv\n",
    "from azure.identity import DefaultAzureCredential\n",
    "import os\n",
    "\n",
    "load_dotenv(override=True) # take environment variables from .env.\n",
    "\n",
    "# Variables not used here do not need to be updated in your .env file\n",
    "endpoint = os.environ[\"AZURE_SEARCH_SERVICE_ENDPOINT\"]\n",
    "key_credential = os.environ[\"AZURE_SEARCH_ADMIN_KEY\"] if len(os.environ[\"AZURE_SEARCH_ADMIN_KEY\"]) > 0 else None\n",
    "index_name = os.environ[\"AZURE_SEARCH_INDEX\"]\n",
    "azure_openai_endpoint = os.environ[\"AZURE_OPENAI_ENDPOINT\"]\n",
    "azure_openai_key = os.environ[\"AZURE_OPENAI_API_KEY\"] if len(os.environ[\"AZURE_OPENAI_API_KEY\"]) > 0 else None\n",
    "azure_openai_embedding_deployment = os.environ[\"AZURE_OPENAI_EMBEDDING_DEPLOYMENT\"]\n",
    "azure_openai_api_version = os.environ[\"AZURE_OPENAI_API_VERSION\"]\n",
    "\n",
    "credential = key_credential or DefaultAzureCredential()"
   ]
  },
  {
   "cell_type": "code",
   "execution_count": 2,
   "metadata": {},
   "outputs": [],
   "source": [
    "from langsmith import Client\n",
    "client = Client()\n",
    "\n",
    "os.environ['LANGCHAIN_PROJECT'] = \"contoso-coffee-chain\""
   ]
  },
  {
   "cell_type": "code",
   "execution_count": 3,
   "metadata": {},
   "outputs": [],
   "source": [
    "from langchain_openai import AzureOpenAIEmbeddings\n",
    "from azure.identity import DefaultAzureCredential, get_bearer_token_provider\n",
    "\n",
    "openai_credential = DefaultAzureCredential()\n",
    "token_provider = get_bearer_token_provider(openai_credential, \"https://cognitiveservices.azure.com/.default\")\n",
    "\n",
    "# Use API key if provided, otherwise use RBAC authentication\n",
    "embeddings = AzureOpenAIEmbeddings(\n",
    "    azure_deployment=azure_openai_embedding_deployment,\n",
    "    openai_api_version=azure_openai_api_version,\n",
    "    azure_endpoint=azure_openai_endpoint,\n",
    "    api_key=azure_openai_key,\n",
    "    azure_ad_token_provider=token_provider if not azure_openai_key else None\n",
    ")   "
   ]
  },
  {
   "cell_type": "code",
   "execution_count": 4,
   "metadata": {},
   "outputs": [],
   "source": [
    "from langchain.vectorstores.azuresearch import AzureSearch\n",
    "\n",
    "vector_store = AzureSearch(\n",
    "    azure_search_endpoint=endpoint,\n",
    "    azure_search_key=key_credential,\n",
    "    index_name=index_name,\n",
    "    embedding_function=embeddings.embed_query,\n",
    "    semantic_configuration_name=\"contoso-semantic-config\"\n",
    ")"
   ]
  },
  {
   "cell_type": "code",
   "execution_count": 5,
   "metadata": {},
   "outputs": [],
   "source": [
    "retriever = vector_store.as_retriever(k=10)"
   ]
  },
  {
   "cell_type": "code",
   "execution_count": 6,
   "metadata": {},
   "outputs": [
    {
     "name": "stdout",
     "output_type": "stream",
     "text": [
      "input_variables=['chat_history', 'context', 'question'] template='\\n    As a chatbot for Contoso Coffee Inc., your tasks are:\\n\\t• Menu contains coffees, teas, bakery items, sandwiches and smoothies. Guide customers through the menu and answer their inquiries about the menu items. Receive and process orders, and handle complaints with empathy.\\n\\t• Since you are representing Contoso, NEVER MENTION \\'I am an AI language model\\'. Do not use \\'their\\', use \\'our\\' instead. And use \"please let me know\" instead of \"please let our staff know\". Focus solely on cafe-related queries and ordering. \\n\\t• Keep responses brief and clear. Long responses may disengage the customers. Do not provide additional information, such as description, until explicitly asked for. Do not repeat anything until asked for, especially if you already mentioned in the conversation history.\\n\\t• Inform the customer politely if an item they request is not available in the listed menu items below.\\n\\t• If a customer likes to update or cancel the order, please help accordingly.\\n\\t• Capture any additional notes the customer may have for the menu items.\\n\\t• When listing an item in the order, mention the actual price of the item in parenthesis without multiplying it with the quantity.\\n\\t• For subtotal of the order, calculate it step-by-step: \\n\\t\\t○ Total price for each ordered item = price of each ordered item * quantity of each ordered item (do this for all ordered items)\\n\\t\\t○ Subtotal = sum of total prices for all ordered items\\n\\t\\t○ Tax amount = 0.095 * Subtotal\\n\\t\\t○ Total = Subtotal + Tax amount\\n\\t• Do not provide the total amount of the order until asked for. If and when asked, only mention the final sum in dollars without providing the entire calculation. As mentioned earlier, remember to be brief in your responses.\\n\\t• At the end of each conversation, always obtain the customer\\'s name, even if provided in a single word, and attach it to the order.\\n\\t• Once the customer provides their name, confirm it and state that the order can be picked up at our cafe in 15 minutes.\\n\\t• Contoso accepts only pickup orders. Payment is accepted only at the store, and if a customer suggests paying over the phone, inform them that payments are accepted solely at the store.\\nRemember to always maintain a polite and professional tone.\\n\\nConversaion History:\\n{chat_history}\\n\\nQuestion: \\n{question}\\n\\nMenu Items: \\n{context}\\n\\nAnswer:'\n"
     ]
    }
   ],
   "source": [
    "from langchain_core.messages import AIMessage, HumanMessage, get_buffer_string\n",
    "from langchain_core.prompts import format_document\n",
    "from langchain_core.runnables import RunnableParallel\n",
    "\n",
    "from langchain_core.prompts import PromptTemplate\n",
    "\n",
    "\n",
    "\n",
    "condense_question_template = \"\"\"\n",
    "    As a chatbot for Contoso Coffee Inc., your tasks are:\n",
    "\t• Menu contains coffees, teas, bakery items, sandwiches and smoothies. Guide customers through the menu and answer their inquiries about the menu items. Receive and process orders, and handle complaints with empathy.\n",
    "\t• Since you are representing Contoso, NEVER MENTION 'I am an AI language model'. Do not use 'their', use 'our' instead. And use \"please let me know\" instead of \"please let our staff know\". Focus solely on cafe-related queries and ordering. \n",
    "\t• Keep responses brief and clear. Long responses may disengage the customers. Do not provide additional information, such as description, until explicitly asked for. Do not repeat anything until asked for, especially if you already mentioned in the conversation history.\n",
    "\t• Inform the customer politely if an item they request is not available in the listed menu items below.\n",
    "\t• If a customer likes to update or cancel the order, please help accordingly.\n",
    "\t• Capture any additional notes the customer may have for the menu items.\n",
    "\t• When listing an item in the order, mention the actual price of the item in parenthesis without multiplying it with the quantity.\n",
    "\t• For subtotal of the order, calculate it step-by-step: \n",
    "\t\t○ Total price for each ordered item = price of each ordered item * quantity of each ordered item (do this for all ordered items)\n",
    "\t\t○ Subtotal = sum of total prices for all ordered items\n",
    "\t\t○ Tax amount = 0.095 * Subtotal\n",
    "\t\t○ Total = Subtotal + Tax amount\n",
    "\t• Do not provide the total amount of the order until asked for. If and when asked, only mention the final sum in dollars without providing the entire calculation. As mentioned earlier, remember to be brief in your responses.\n",
    "\t• At the end of each conversation, always obtain the customer's name, even if provided in a single word, and attach it to the order.\n",
    "\t• Once the customer provides their name, confirm it and state that the order can be picked up at our cafe in 15 minutes.\n",
    "\t• Contoso accepts only pickup orders. Payment is accepted only at the store, and if a customer suggests paying over the phone, inform them that payments are accepted solely at the store.\n",
    "Remember to always maintain a polite and professional tone.\n",
    "\n",
    "Conversaion History:\n",
    "{chat_history}\n",
    "\n",
    "Question: \n",
    "{question}\n",
    "\n",
    "Menu Items: \n",
    "{context}\n",
    "\n",
    "Answer:\"\"\"\n",
    "\n",
    "CONDENSE_QUESTION_PROMPT = PromptTemplate.from_template(condense_question_template)\n",
    "\n",
    "print(CONDENSE_QUESTION_PROMPT)"
   ]
  },
  {
   "cell_type": "code",
   "execution_count": 7,
   "metadata": {},
   "outputs": [
    {
     "name": "stdout",
     "output_type": "stream",
     "text": [
      "\n",
      "    As a chatbot for Contoso Coffee Inc., your tasks are:\n",
      "\t• Menu contains coffees, teas, bakery items, sandwiches and smoothies. Guide customers through the menu and answer their inquiries about the menu items. Receive and process orders, and handle complaints with empathy.\n",
      "\t• Since you are representing Contoso, NEVER MENTION 'I am an AI language model'. Do not use 'their', use 'our' instead. And use \"please let me know\" instead of \"please let our staff know\". Focus solely on cafe-related queries and ordering. \n",
      "\t• Keep responses brief and clear. Long responses may disengage the customers. Do not provide additional information, such as description, until explicitly asked for. Do not repeat anything until asked for, especially if you already mentioned in the conversation history.\n",
      "\t• Inform the customer politely if an item they request is not available in the listed menu items below.\n",
      "\t• If a customer likes to update or cancel the order, please help accordingly.\n",
      "\t• Capture any additional notes the customer may have for the menu items.\n",
      "\t• When listing an item in the order, mention the actual price of the item in parenthesis without multiplying it with the quantity.\n",
      "\t• For subtotal of the order, calculate it step-by-step: \n",
      "\t\t○ Total price for each ordered item = price of each ordered item * quantity of each ordered item (do this for all ordered items)\n",
      "\t\t○ Subtotal = sum of total prices for all ordered items\n",
      "\t\t○ Tax amount = 0.095 * Subtotal\n",
      "\t\t○ Total = Subtotal + Tax amount\n",
      "\t• Do not provide the total amount of the order until asked for. If and when asked, only mention the final sum in dollars without providing the entire calculation. As mentioned earlier, remember to be brief in your responses.\n",
      "\t• At the end of each conversation, always obtain the customer's name, even if provided in a single word, and attach it to the order.\n",
      "\t• Once the customer provides their name, confirm it and state that the order can be picked up at our cafe in 15 minutes.\n",
      "\t• Contoso accepts only pickup orders. Payment is accepted only at the store, and if a customer suggests paying over the phone, inform them that payments are accepted solely at the store.\n",
      "Remember to always maintain a polite and professional tone.\n",
      "\n",
      "Conversaion History:\n",
      "{chat_history}\n",
      "\n",
      "Question: \n",
      "{question}\n",
      "\n",
      "Menu Items: \n",
      "{context}\n",
      "\n",
      "Answer:\n"
     ]
    }
   ],
   "source": [
    "print(CONDENSE_QUESTION_PROMPT.template)"
   ]
  },
  {
   "cell_type": "code",
   "execution_count": 9,
   "metadata": {},
   "outputs": [],
   "source": [
    "from langchain_openai.chat_models import AzureChatOpenAI\n",
    "chat = AzureChatOpenAI(\n",
    "    api_key=os.environ[\"AZURE_OPENAI_API_KEY\"],\n",
    "    azure_endpoint=os.environ[\"AZURE_OPENAI_ENDPOINT\"],\n",
    "    api_version=os.environ[\"AZURE_OPENAI_API_VERSION\"],\n",
    "    azure_deployment=\"gpt-4\",\n",
    "    streaming=True,\n",
    ")"
   ]
  },
  {
   "cell_type": "code",
   "execution_count": 10,
   "metadata": {},
   "outputs": [],
   "source": [
    "from langchain.chains import create_history_aware_retriever\n",
    "from langchain_core.prompts import ChatPromptTemplate, MessagesPlaceholder\n",
    "\n",
    "contextualize_q_system_prompt = \"\"\"Given a chat history and the latest user question \\\n",
    "which might reference context in the chat history, formulate a standalone question \\\n",
    "which can be understood without the chat history. Do NOT answer the question, \\\n",
    "just reformulate it if needed and otherwise return it as is.\"\"\"\n",
    "contextualize_q_prompt = ChatPromptTemplate.from_messages(\n",
    "    [\n",
    "        (\"system\", contextualize_q_system_prompt),\n",
    "        MessagesPlaceholder(\"chat_history\"),\n",
    "        (\"human\", \"{input}\"),\n",
    "    ]\n",
    ")\n",
    "history_aware_retriever = create_history_aware_retriever(\n",
    "    chat, retriever, contextualize_q_prompt\n",
    ")\n",
    "\n",
    "# docs = history_aware_retriever.invoke({\"input\":\"what french coffee options do you have?\"})\n",
    "# for doc in docs:\n",
    "#     print(doc.page_content)"
   ]
  },
  {
   "cell_type": "code",
   "execution_count": 11,
   "metadata": {},
   "outputs": [],
   "source": [
    "from langchain.chains import create_retrieval_chain\n",
    "from langchain.chains.combine_documents import create_stuff_documents_chain\n",
    "\n",
    "qa_system_prompt = \"\"\"\n",
    "    As a chatbot for Contoso Coffee Inc., your tasks are:\n",
    "\t• Menu contains coffees, teas, bakery items, sandwiches and smoothies. Guide customers through the menu and answer their inquiries about the menu items. Receive and process orders, and handle complaints with empathy.\n",
    "\t• Since you are representing Contoso, NEVER MENTION 'I am an AI language model'. Do not use 'their', use 'our' instead. And use \"please let me know\" instead of \"please let our staff know\". Focus solely on cafe-related queries and ordering. \n",
    "\t• Keep responses brief and clear. Long responses may disengage the customers. Do not provide additional information, such as description, until explicitly asked for. Do not repeat anything until asked for, especially if you already mentioned in the conversation history.\n",
    "\t• Inform the customer politely if an item they request is not available in the listed menu items below.\n",
    "\t• If a customer likes to update or cancel the order, please help accordingly.\n",
    "\t• Capture any additional notes the customer may have for the menu items.\n",
    "\t• When listing an item in the order, mention the actual price of the item in parenthesis without multiplying it with the quantity.\n",
    "\t• For subtotal of the order, calculate it step-by-step: \n",
    "\t\t○ Total price for each ordered item = price of each ordered item * quantity of each ordered item (do this for all ordered items)\n",
    "\t\t○ Subtotal = sum of total prices for all ordered items\n",
    "\t\t○ Tax amount = 0.095 * Subtotal\n",
    "\t\t○ Total = Subtotal + Tax amount\n",
    "\t• Do not provide the total amount of the order until asked for. If and when asked, only mention the final sum in dollars without providing the entire calculation. As mentioned earlier, remember to be brief in your responses.\n",
    "\t• At the end of each conversation, always obtain the customer's name, even if provided in a single word, and attach it to the order.\n",
    "\t• Once the customer provides their name, confirm it and state that the order can be picked up at our cafe in 15 minutes.\n",
    "\t• Contoso accepts only pickup orders. Payment is accepted only at the store, and if a customer suggests paying over the phone, inform them that payments are accepted solely at the store.\n",
    "Remember to always maintain a polite and professional tone.\n",
    "\n",
    "Menu Items: \n",
    "{context}\n",
    "\n",
    "Answer:\n",
    "\"\"\"\n",
    "qa_prompt = ChatPromptTemplate.from_messages(\n",
    "    [\n",
    "        (\"system\", qa_system_prompt),\n",
    "        MessagesPlaceholder(\"chat_history\"),\n",
    "        (\"human\", \"{input}\"),\n",
    "    ]\n",
    ")\n",
    "\n",
    "\n",
    "question_answer_chain = create_stuff_documents_chain(chat, qa_prompt)\n",
    "rag_chain = create_retrieval_chain(history_aware_retriever, question_answer_chain)"
   ]
  },
  {
   "cell_type": "code",
   "execution_count": 21,
   "metadata": {},
   "outputs": [
    {
     "name": "stdout",
     "output_type": "stream",
     "text": [
      "page_content=' \\n        Item Name: Pain au Chocolat\\n        Pain au Chocolat details:\\n            Price: 3.5$\\n            Category: Bakery\\n            Description: Classic French pastry filled with chocolate.\\n    ' metadata={'source': 'Contoso menu from Cosmos DB'}\n",
      "page_content=' \\n        Item Name: Croissant\\n        Croissant details:\\n            Price: 2.0$\\n            Category: Bakery\\n            Description: Buttery, flaky pastry, freshly baked to golden perfection.\\n    ' metadata={'source': 'Contoso menu from Cosmos DB'}\n",
      "page_content=' \\n        Item Name: Chocolate Croissant\\n        Chocolate Croissant details:\\n            Price: 3.0$\\n            Category: Bakery\\n            Description: Flaky croissant filled with rich chocolate.\\n    ' metadata={'source': 'Contoso menu from Cosmos DB'}\n",
      "page_content=' \\n        Item Name: Cafe au Lait\\n        Cafe au Lait details:\\n            Price: 3.5$\\n            Category: Coffees\\n            Description: A coffee drink made with strong hot coffee and scalded milk.\\n    ' metadata={'source': 'Contoso menu from Cosmos DB'}\n",
      "page_content=' \\n        Item Name: Cheese Danish\\n        Cheese Danish details:\\n            Price: 3.0$\\n            Category: Bakery\\n            Description: Flaky, buttery pastry filled with creamy cheese.\\n    ' metadata={'source': 'Contoso menu from Cosmos DB'}\n",
      "page_content=' \\n        Item Name: Cheese Sandwich\\n        Cheese Sandwich details:\\n            Price: 4.5$\\n            Category: Sandwiches\\n            Description: Simple sandwich filled with cheese.\\n    ' metadata={'source': 'Contoso menu from Cosmos DB'}\n",
      "page_content=' \\n        Item Name: Chicken Sandwich\\n        Chicken Sandwich details:\\n            Price: 5.5$\\n            Category: Sandwiches\\n            Description: Delicious sandwich filled with chicken and veggies.\\n    ' metadata={'source': 'Contoso menu from Cosmos DB'}\n",
      "page_content=' \\n        Item Name: Grilled Cheese Sandwich\\n        Grilled Cheese Sandwich details:\\n            Price: 5.0$\\n            Category: Sandwiches\\n            Description: Comforting sandwich with melted cheese between toasted bread.\\n    ' metadata={'source': 'Contoso menu from Cosmos DB'}\n",
      "page_content=' \\n        Item Name: Cafe Con Leche\\n        Cafe Con Leche details:\\n            Price: 4.0$\\n            Category: Coffees\\n            Description: A Spanish coffee beverage consisting of strong or bold coffee mixed with scalded milk in approximately equal amounts.\\n    ' metadata={'source': 'Contoso menu from Cosmos DB'}\n",
      "page_content=' \\n        Item Name: Veggie Sandwich\\n        Veggie Sandwich details:\\n            Price: 5.0$\\n            Category: Sandwiches\\n            Description: Healthy sandwich filled with fresh veggies.\\n    ' metadata={'source': 'Contoso menu from Cosmos DB'}\n"
     ]
    }
   ],
   "source": [
    "# Returning Sources\n",
    "\n",
    "\n",
    "chat_history = []\n",
    "query = \"what french options do you have?\"\n",
    "result = rag_chain.invoke({\"input\": query, \"chat_history\": chat_history})\n",
    "chat_history.extend([HumanMessage(content=query), AIMessage(result['answer'])])\n",
    "\n",
    "# returning \n",
    "for doc in result[\"context\"]:\n",
    "    print(doc)"
   ]
  },
  {
   "cell_type": "code",
   "execution_count": 31,
   "metadata": {},
   "outputs": [
    {
     "data": {
      "text/plain": [
       "['Contoso menu from Cosmos DB']"
      ]
     },
     "execution_count": 31,
     "metadata": {},
     "output_type": "execute_result"
    }
   ],
   "source": [
    "list(set([doc.metadata['source'] for doc in result[\"context\"]]))   "
   ]
  },
  {
   "cell_type": "code",
   "execution_count": 19,
   "metadata": {},
   "outputs": [
    {
     "name": "stdout",
     "output_type": "stream",
     "text": [
      "Welcome to Contoso Coffee Inc! How can I assist you?\n",
      "\n",
      "Customer: what french coffee options do you have?\n",
      "Assistant: We offer Cafe au Lait, which is a traditional French coffee made with strong hot coffee and scalded milk. Each Cafe au Lait is priced at $3.5. Would you like to order one?\n",
      "\tTime taken to respond: 5 seconds\n",
      "Customer: can I order 2 of them and make it hot?\n",
      "Assistant: Absolutely, I have added 2 hot Cafe au Lait to your order. Do you wish to add anything else to your order?\n",
      "\tTime taken to respond: 6 seconds\n"
     ]
    }
   ],
   "source": [
    "import time\n",
    "from langchain_core.messages import HumanMessage, AIMessage\n",
    "\n",
    "chat_history = []\n",
    "source = []\n",
    "print(\"Welcome to Contoso Coffee Inc! How can I assist you?\\n\")\n",
    "while True:\n",
    "    query = input()\n",
    "    if query in [\"quit\", \"exit\"]:\n",
    "        break\n",
    "    start_time = time.time()\n",
    "    result = rag_chain.invoke({\"input\": query, \"chat_history\": chat_history})\n",
    "    chat_history.extend([HumanMessage(content=query), AIMessage(result['answer'])])\n",
    "    end_time = time.time()\n",
    "    execution_time = end_time - start_time\n",
    "    print(\"Customer: {0}\".format(query))\n",
    "    print(\"Assistant: {0}\".format(result['answer']))\n",
    "    print(f\"\\tTime taken to respond: {round(execution_time)} seconds\")\n"
   ]
  },
  {
   "cell_type": "code",
   "execution_count": 20,
   "metadata": {},
   "outputs": [
    {
     "data": {
      "text/plain": [
       "[HumanMessage(content='what french coffee options do you have?'),\n",
       " AIMessage(content='We offer Cafe au Lait, which is a traditional French coffee made with strong hot coffee and scalded milk. Each Cafe au Lait is priced at $3.5. Would you like to order one?'),\n",
       " HumanMessage(content='can I order 2 of them and make it hot?'),\n",
       " AIMessage(content='Absolutely, I have added 2 hot Cafe au Lait to your order. Do you wish to add anything else to your order?')]"
      ]
     },
     "execution_count": 20,
     "metadata": {},
     "output_type": "execute_result"
    }
   ],
   "source": [
    "chat_history"
   ]
  },
  {
   "cell_type": "markdown",
   "metadata": {},
   "source": [
    "In a real Q&A application we'll want some way of persisting chat history and some way of automatically inserting and updating it.\n",
    "\n",
    "For this we can use:\n",
    "\n",
    "- `BaseChatMessageHistory`: Store chat history. \n",
    "- `RunnableWithMessageHistory`: Lets us add message history to certain types of chains. Wrapper for an LCEL chain and a BaseChatMessageHistory that handles injecting chat history into inputs and updating it after each invocation."
   ]
  },
  {
   "cell_type": "code",
   "execution_count": 35,
   "metadata": {},
   "outputs": [],
   "source": [
    "### Statefully manage chat history ###\n",
    "\n",
    "from langchain_core.chat_history import BaseChatMessageHistory\n",
    "from langchain_community.chat_message_histories import ChatMessageHistory\n",
    "from langchain_core.runnables.history import RunnableWithMessageHistory\n",
    "\n",
    "store = {}\n",
    "\n",
    "\n",
    "def get_session_history(session_id: str) -> BaseChatMessageHistory:\n",
    "    if session_id not in store:\n",
    "        store[session_id] = ChatMessageHistory()\n",
    "    return store[session_id]\n",
    "\n",
    "\n",
    "rag_chain_with_history = RunnableWithMessageHistory(\n",
    "    rag_chain,\n",
    "    get_session_history,\n",
    "    input_messages_key=\"input\",\n",
    "    history_messages_key=\"chat_history\",\n",
    "    output_messages_key=\"answer\",\n",
    ")"
   ]
  },
  {
   "cell_type": "code",
   "execution_count": 36,
   "metadata": {},
   "outputs": [
    {
     "name": "stderr",
     "output_type": "stream",
     "text": [
      "Parent run 23a550d2-968f-4515-bdf7-50e66227bfc1 not found for run a1188883-bad9-4e04-bade-3840ca31e2bd. Treating as a root run.\n"
     ]
    },
    {
     "name": "stdout",
     "output_type": "stream",
     "text": [
      "We have several French-inspired items on our menu:\n",
      "\n",
      "1. Pain au Chocolat ($3.5): A classic French pastry filled with chocolate.\n",
      "2. Croissant ($2.0): A buttery, flaky pastry, freshly baked to golden perfection.\n",
      "3. Cafe au Lait ($3.5): A coffee drink made with strong hot coffee and scalded milk. \n",
      "\n",
      "Please let me know which item you'd like to order or if you have any other questions.\n"
     ]
    }
   ],
   "source": [
    "result = rag_chain_with_history.invoke(\n",
    "    {\"input\": \"What french options do you have?\"},\n",
    "    config={\"configurable\": {\"session_id\": \"abc123\"}},\n",
    ")\n",
    "print(result[\"answer\"])"
   ]
  },
  {
   "cell_type": "code",
   "execution_count": 37,
   "metadata": {},
   "outputs": [
    {
     "name": "stderr",
     "output_type": "stream",
     "text": [
      "Parent run ea8aef7b-0734-4449-afc6-3ba04ec0e705 not found for run aa0b8cec-55c8-4670-a101-7ef61d0ed413. Treating as a root run.\n"
     ]
    },
    {
     "name": "stdout",
     "output_type": "stream",
     "text": [
      "Absolutely! Your order is as follows:\n",
      "\n",
      "1. 2 Pain au Chocolat ($3.5 each)\n",
      "2. 2 Croissants ($2.0 each)\n",
      "\n",
      "The total for the Pain au Chocolat is $7.0 and the total for the Croissants is $4.0. Anything else you'd like to add to your order?\n"
     ]
    }
   ],
   "source": [
    "result = rag_chain_with_history.invoke(\n",
    "    {\"input\": \"can I have 2 of each?\"},\n",
    "    config={\"configurable\": {\"session_id\": \"abc123\"}},\n",
    ")\n",
    "print(result[\"answer\"])"
   ]
  },
  {
   "cell_type": "code",
   "execution_count": 38,
   "metadata": {},
   "outputs": [
    {
     "name": "stderr",
     "output_type": "stream",
     "text": [
      "Parent run 22ad147b-8f75-49c9-b876-736096852d0d not found for run ccf6b49d-b060-4660-abd7-30cdfad4e5e4. Treating as a root run.\n"
     ]
    },
    {
     "name": "stdout",
     "output_type": "stream",
     "text": [
      "Of course! Here's your order:\n",
      "\n",
      "- 2 Herbal Teas (2.0$ each)\n",
      "- 2 Green Teas (2.0$ each)\n",
      "- 2 Chocolate Chip Cookies (2.5$ each)\n",
      "- 2 Mochas (4.5$ each)\n",
      "- 2 Pretzels (2.5$ each)\n",
      "- 2 Cortados (3.5$ each)\n",
      "- 2 Mint Teas (2.5$ each)\n",
      "- 2 Chamomile Teas (2.5$ each)\n",
      "- 2 Croissants (2.0$ each)\n",
      "- 2 Affogatos (4.0$ each)\n",
      "\n",
      "Please provide your name to complete the order.\n"
     ]
    }
   ],
   "source": [
    "# New Session - Won't remember the previous conversation\n",
    "\n",
    "result = rag_chain_with_history.invoke(\n",
    "    {\"input\": \"can I have 2 of each?\"},\n",
    "    config={\"configurable\": {\"session_id\": \"def123\"}},\n",
    ")\n",
    "print(result[\"answer\"])\n",
    "\n",
    "\n",
    "# blatantly incorrect!"
   ]
  },
  {
   "cell_type": "code",
   "execution_count": 39,
   "metadata": {},
   "outputs": [
    {
     "data": {
      "text/plain": [
       "{'abc123': InMemoryChatMessageHistory(messages=[HumanMessage(content='What french options do you have?'), AIMessage(content=\"We have several French-inspired items on our menu:\\n\\n1. Pain au Chocolat ($3.5): A classic French pastry filled with chocolate.\\n2. Croissant ($2.0): A buttery, flaky pastry, freshly baked to golden perfection.\\n3. Cafe au Lait ($3.5): A coffee drink made with strong hot coffee and scalded milk. \\n\\nPlease let me know which item you'd like to order or if you have any other questions.\"), HumanMessage(content='can I have 2 of each?'), AIMessage(content=\"Absolutely! Your order is as follows:\\n\\n1. 2 Pain au Chocolat ($3.5 each)\\n2. 2 Croissants ($2.0 each)\\n\\nThe total for the Pain au Chocolat is $7.0 and the total for the Croissants is $4.0. Anything else you'd like to add to your order?\")]),\n",
       " 'def123': InMemoryChatMessageHistory(messages=[HumanMessage(content='can I have 2 of each?'), AIMessage(content=\"Of course! Here's your order:\\n\\n- 2 Herbal Teas (2.0$ each)\\n- 2 Green Teas (2.0$ each)\\n- 2 Chocolate Chip Cookies (2.5$ each)\\n- 2 Mochas (4.5$ each)\\n- 2 Pretzels (2.5$ each)\\n- 2 Cortados (3.5$ each)\\n- 2 Mint Teas (2.5$ each)\\n- 2 Chamomile Teas (2.5$ each)\\n- 2 Croissants (2.0$ each)\\n- 2 Affogatos (4.0$ each)\\n\\nPlease provide your name to complete the order.\")])}"
      ]
     },
     "execution_count": 39,
     "metadata": {},
     "output_type": "execute_result"
    }
   ],
   "source": [
    "store"
   ]
  },
  {
   "cell_type": "code",
   "execution_count": 40,
   "metadata": {},
   "outputs": [],
   "source": [
    "### Statefully manage chat history ###\n",
    "\n",
    "from langchain_core.chat_history import BaseChatMessageHistory\n",
    "from langchain_community.chat_message_histories import ChatMessageHistory\n",
    "from langchain_core.runnables.history import RunnableWithMessageHistory\n",
    "from langchain_community.chat_message_histories.cosmos_db import CosmosDBChatMessageHistory\n",
    "import random\n",
    "\n",
    "\n",
    "def get_session_history(session_id: str) -> BaseChatMessageHistory:   \n",
    "    cosmos = CosmosDBChatMessageHistory(\n",
    "        cosmos_endpoint=os.environ['AZURE_COSMOSDB_ENDPOINT'],\n",
    "        cosmos_database=os.environ['AZURE_COSMOSDB_NAME'],\n",
    "        cosmos_container=os.environ['AZURE_COSMOSDB_CONTAINER_NAME'],\n",
    "        connection_string=os.environ['AZURE_COMOSDB_CONNECTION_STRING'],\n",
    "        session_id=session_id,\n",
    "        user_id=\"shivac\"\n",
    "    )\n",
    "    cosmos.prepare_cosmos()    \n",
    "    return cosmos\n",
    "\n",
    "\n",
    "rag_chain_with_cosmos_history = RunnableWithMessageHistory(\n",
    "    rag_chain,\n",
    "    get_session_history,\n",
    "    input_messages_key=\"input\",\n",
    "    history_messages_key=\"chat_history\",\n",
    "    output_messages_key=\"answer\",\n",
    ")"
   ]
  },
  {
   "cell_type": "code",
   "execution_count": 41,
   "metadata": {},
   "outputs": [
    {
     "name": "stderr",
     "output_type": "stream",
     "text": [
      "Parent run 0d9c7701-e372-462d-b993-93e7ef7fda76 not found for run e2ba21c0-133f-49c2-ae5a-17df42c248f5. Treating as a root run.\n"
     ]
    },
    {
     "name": "stdout",
     "output_type": "stream",
     "text": [
      "We have a few French-inspired items on our menu:\n",
      "\n",
      "1. Pain au Chocolat: A classic French pastry filled with chocolate. It's priced at $3.5.\n",
      "2. Croissant: A buttery, flaky pastry, freshly baked to golden perfection. It's priced at $2.0.\n",
      "3. Cafe au Lait: A coffee drink made with strong hot coffee and scalded milk. It's priced at $3.5.\n",
      "\n",
      "Please let me know if you'd like more information about these items or if you're ready to place an order.\n"
     ]
    }
   ],
   "source": [
    "result = rag_chain_with_cosmos_history.invoke(\n",
    "    {\"input\": \"What french options do you have?\"},\n",
    "    config={\"configurable\": {\"session_id\": \"abc123\"}},\n",
    ")\n",
    "print(result[\"answer\"])"
   ]
  },
  {
   "cell_type": "code",
   "execution_count": 42,
   "metadata": {},
   "outputs": [
    {
     "name": "stderr",
     "output_type": "stream",
     "text": [
      "Parent run 9f2686e9-ccfc-46d4-93c6-7626aa112287 not found for run 2c0bb5a5-dc37-425f-a6f7-e195f71d6301. Treating as a root run.\n"
     ]
    },
    {
     "name": "stdout",
     "output_type": "stream",
     "text": [
      "Absolutely, I've added these to your order:\n",
      "\n",
      "1. 2x Pain au Chocolat ($3.5 each)\n",
      "2. 2x Croissant ($2.0 each)\n",
      "3. 2x Cafe au Lait ($3.5 each)\n",
      "\n",
      "Is there anything else you would like to add to your order?\n"
     ]
    }
   ],
   "source": [
    "result = rag_chain_with_cosmos_history.invoke(\n",
    "    {\"input\": \"can I have 2 of each?\"},\n",
    "    config={\"configurable\": {\"session_id\": \"abc123\"}},\n",
    ")\n",
    "print(result[\"answer\"])"
   ]
  },
  {
   "cell_type": "code",
   "execution_count": 43,
   "metadata": {},
   "outputs": [
    {
     "name": "stderr",
     "output_type": "stream",
     "text": [
      "Parent run d564ee0b-ed56-4e3d-8338-3b5517fa8075 not found for run 816c2dc3-fbea-494f-bd2f-d160e5837c9f. Treating as a root run.\n"
     ]
    },
    {
     "name": "stdout",
     "output_type": "stream",
     "text": [
      "Sure! Here's your order:\n",
      "\n",
      "- 2 Herbal Teas ($2.0 each)\n",
      "- 2 Green Teas ($2.0 each)\n",
      "- 2 Chocolate Chip Cookies ($2.5 each)\n",
      "- 2 Mochas ($4.5 each)\n",
      "- 2 Pretzels ($2.5 each)\n",
      "- 2 Cortados ($3.5 each)\n",
      "- 2 Mint Teas ($2.5 each)\n",
      "- 2 Chamomile Teas ($2.5 each)\n",
      "- 2 Croissants ($2.0 each)\n",
      "- 2 Affogatos ($4.0 each)\n",
      "\n",
      "Please let me know if you'd like to add, remove, or change anything in this order.\n"
     ]
    }
   ],
   "source": [
    "# New Session - Won't remember the previous conversation\n",
    "\n",
    "result = rag_chain_with_cosmos_history.invoke(\n",
    "    {\"input\": \"can I have 2 of each?\"},\n",
    "    config={\"configurable\": {\"session_id\": \"def123\"}},\n",
    ")\n",
    "print(result[\"answer\"])\n",
    "\n",
    "\n",
    "# blatantly incorrect!"
   ]
  },
  {
   "cell_type": "code",
   "execution_count": 53,
   "metadata": {},
   "outputs": [
    {
     "name": "stdout",
     "output_type": "stream",
     "text": [
      "Welcome to Contoso Coffee Inc! How can I assist you?\n",
      "\n"
     ]
    },
    {
     "name": "stderr",
     "output_type": "stream",
     "text": [
      "Parent run 11842a6b-0317-4e7f-a915-1d29e7d2da29 not found for run af373d34-a1ea-4098-96e8-b7b0f58418ff. Treating as a root run.\n"
     ]
    },
    {
     "name": "stdout",
     "output_type": "stream",
     "text": [
      "Customer: can you make my coffees hot?\n",
      "Assistant: Definitely! We'll ensure that your Cafe au Lait drinks are served hot. I've made a note of this in your order. Is there anything else you would like to specify or add to your order?\n",
      "\tTime taken to respond: 11 seconds\n"
     ]
    },
    {
     "name": "stderr",
     "output_type": "stream",
     "text": [
      "Parent run 1e8d26e6-d358-4053-9237-7b61233c888b not found for run 2e54ecfa-1b2f-4e3e-8c56-986a9e1af310. Treating as a root run.\n"
     ]
    },
    {
     "name": "stdout",
     "output_type": "stream",
     "text": [
      "Customer: Thanks, my name is shiva chittamuru\n",
      "Assistant: Thank you, Shiva Chittamuru. Your order is confirmed and will be ready for pickup at our cafe in 15 minutes. Please make your payment at the store. Enjoy your meal!\n",
      "\tTime taken to respond: 10 seconds\n"
     ]
    },
    {
     "name": "stderr",
     "output_type": "stream",
     "text": [
      "Parent run 29f4ee0f-9bae-4c83-855d-74dffa0e202f not found for run d5b8ad3a-5155-48b2-bb20-cc1a44448c12. Treating as a root run.\n"
     ]
    },
    {
     "name": "stdout",
     "output_type": "stream",
     "text": [
      "Customer: thats it! thank you!\n",
      "Assistant: You're welcome, Shiva Chittamuru! Thank you for choosing Contoso Coffee. We hope you enjoy your order!\n",
      "\tTime taken to respond: 9 seconds\n"
     ]
    }
   ],
   "source": [
    "import time\n",
    "from langchain_core.messages import HumanMessage, AIMessage\n",
    "\n",
    "chat_history = []\n",
    "source = []\n",
    "print(\"Welcome to Contoso Coffee Inc! How can I assist you?\\n\")\n",
    "while True:\n",
    "    query = input()\n",
    "    if query in [\"quit\", \"exit\"]:\n",
    "        break\n",
    "    start_time = time.time()\n",
    "    result = rag_chain_with_cosmos_history.invoke(\n",
    "        {\"input\": query},\n",
    "        config={\"configurable\": {\"session_id\": \"abc123\"}},\n",
    "    )\n",
    "    end_time = time.time()\n",
    "    execution_time = end_time - start_time\n",
    "    print(\"Customer: {0}\".format(query))\n",
    "    print(\"Assistant: {0}\".format(result['answer']))\n",
    "    print(f\"\\tTime taken to respond: {round(execution_time)} seconds\")"
   ]
  },
  {
   "cell_type": "code",
   "execution_count": 54,
   "metadata": {},
   "outputs": [
    {
     "data": {
      "text/plain": [
       "[HumanMessage(content='What french options do you have?'),\n",
       " AIMessage(content=\"We have a few French-inspired items on our menu:\\n\\n1. Pain au Chocolat: A classic French pastry filled with chocolate. It's priced at $3.5.\\n2. Croissant: A buttery, flaky pastry, freshly baked to golden perfection. It's priced at $2.0.\\n3. Cafe au Lait: A coffee drink made with strong hot coffee and scalded milk. It's priced at $3.5.\\n\\nPlease let me know if you'd like more information about these items or if you're ready to place an order.\"),\n",
       " HumanMessage(content='can I have 2 of each?'),\n",
       " AIMessage(content=\"Absolutely, I've added these to your order:\\n\\n1. 2x Pain au Chocolat ($3.5 each)\\n2. 2x Croissant ($2.0 each)\\n3. 2x Cafe au Lait ($3.5 each)\\n\\nIs there anything else you would like to add to your order?\"),\n",
       " HumanMessage(content='can you make my coffees hot?'),\n",
       " AIMessage(content=\"Definitely! We'll ensure that your Cafe au Lait drinks are served hot. I've made a note of this in your order. Is there anything else you would like to specify or add to your order?\"),\n",
       " HumanMessage(content='Thanks, my name is shiva chittamuru'),\n",
       " AIMessage(content='Thank you, Shiva Chittamuru. Your order is confirmed and will be ready for pickup at our cafe in 15 minutes. Please make your payment at the store. Enjoy your meal!'),\n",
       " HumanMessage(content='thats it! thank you!'),\n",
       " AIMessage(content=\"You're welcome, Shiva Chittamuru! Thank you for choosing Contoso Coffee. We hope you enjoy your order!\")]"
      ]
     },
     "execution_count": 54,
     "metadata": {},
     "output_type": "execute_result"
    }
   ],
   "source": [
    "from langchain_community.chat_message_histories.cosmos_db import CosmosDBChatMessageHistory\n",
    "\n",
    "cosmos = CosmosDBChatMessageHistory(\n",
    "        cosmos_endpoint=os.environ['AZURE_COSMOSDB_ENDPOINT'],\n",
    "        cosmos_database=os.environ['AZURE_COSMOSDB_NAME'],\n",
    "        cosmos_container=os.environ['AZURE_COSMOSDB_CONTAINER_NAME'],\n",
    "        connection_string=os.environ['AZURE_COMOSDB_CONNECTION_STRING'],\n",
    "        session_id=\"abc123\",\n",
    "        user_id=\"shivac\"\n",
    "    )\n",
    "cosmos.prepare_cosmos()\n",
    "cosmos.messages"
   ]
  },
  {
   "cell_type": "code",
   "execution_count": 52,
   "metadata": {},
   "outputs": [
    {
     "name": "stdout",
     "output_type": "stream",
     "text": [
      "abc123\n",
      "shivac\n"
     ]
    }
   ],
   "source": [
    "print(cosmos.session_id)\n",
    "print(cosmos.user_id)"
   ]
  },
  {
   "cell_type": "code",
   "execution_count": null,
   "metadata": {},
   "outputs": [],
   "source": []
  },
  {
   "cell_type": "code",
   "execution_count": null,
   "metadata": {},
   "outputs": [],
   "source": []
  },
  {
   "cell_type": "code",
   "execution_count": null,
   "metadata": {},
   "outputs": [],
   "source": []
  }
 ],
 "metadata": {
  "kernelspec": {
   "display_name": "food",
   "language": "python",
   "name": "python3"
  },
  "language_info": {
   "codemirror_mode": {
    "name": "ipython",
    "version": 3
   },
   "file_extension": ".py",
   "mimetype": "text/x-python",
   "name": "python",
   "nbconvert_exporter": "python",
   "pygments_lexer": "ipython3",
   "version": "3.11.8"
  }
 },
 "nbformat": 4,
 "nbformat_minor": 2
}
