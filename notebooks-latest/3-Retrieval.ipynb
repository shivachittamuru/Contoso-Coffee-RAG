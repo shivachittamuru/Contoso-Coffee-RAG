{
 "cells": [
  {
   "cell_type": "code",
   "execution_count": 1,
   "metadata": {},
   "outputs": [],
   "source": [
    "from dotenv import load_dotenv\n",
    "from azure.identity import DefaultAzureCredential\n",
    "import os\n",
    "\n",
    "load_dotenv(override=True) # take environment variables from .env.\n",
    "\n",
    "# Variables not used here do not need to be updated in your .env file\n",
    "endpoint = os.environ[\"AZURE_SEARCH_SERVICE_ENDPOINT\"]\n",
    "key_credential = os.environ[\"AZURE_SEARCH_ADMIN_KEY\"] if len(os.environ[\"AZURE_SEARCH_ADMIN_KEY\"]) > 0 else None\n",
    "index_name = os.environ[\"AZURE_SEARCH_INDEX\"]\n",
    "azure_openai_endpoint = os.environ[\"AZURE_OPENAI_ENDPOINT\"]\n",
    "azure_openai_key = os.environ[\"AZURE_OPENAI_API_KEY\"] if len(os.environ[\"AZURE_OPENAI_API_KEY\"]) > 0 else None\n",
    "azure_openai_embedding_deployment = os.environ[\"AZURE_OPENAI_EMBEDDING_DEPLOYMENT\"]\n",
    "azure_openai_api_version = os.environ[\"AZURE_OPENAI_API_VERSION\"]\n",
    "\n",
    "credential = key_credential or DefaultAzureCredential()"
   ]
  },
  {
   "cell_type": "code",
   "execution_count": 2,
   "metadata": {},
   "outputs": [],
   "source": [
    "from langsmith import Client\n",
    "client = Client()\n",
    "\n",
    "os.environ['LANGCHAIN_PROJECT'] = \"contoso-coffee-chain\""
   ]
  },
  {
   "cell_type": "code",
   "execution_count": 3,
   "metadata": {},
   "outputs": [],
   "source": [
    "from langchain_openai import AzureOpenAIEmbeddings\n",
    "from azure.identity import DefaultAzureCredential, get_bearer_token_provider\n",
    "\n",
    "openai_credential = DefaultAzureCredential()\n",
    "token_provider = get_bearer_token_provider(openai_credential, \"https://cognitiveservices.azure.com/.default\")\n",
    "\n",
    "# Use API key if provided, otherwise use RBAC authentication\n",
    "embeddings = AzureOpenAIEmbeddings(\n",
    "    azure_deployment=azure_openai_embedding_deployment,\n",
    "    openai_api_version=azure_openai_api_version,\n",
    "    azure_endpoint=azure_openai_endpoint,\n",
    "    api_key=azure_openai_key,\n",
    "    azure_ad_token_provider=token_provider if not azure_openai_key else None\n",
    ")   "
   ]
  },
  {
   "cell_type": "code",
   "execution_count": 4,
   "metadata": {},
   "outputs": [],
   "source": [
    "from langchain.vectorstores.azuresearch import AzureSearch\n",
    "\n",
    "vector_store = AzureSearch(\n",
    "    azure_search_endpoint=endpoint,\n",
    "    azure_search_key=key_credential,\n",
    "    index_name=index_name,\n",
    "    embedding_function=embeddings.embed_query,\n",
    "    semantic_configuration_name=\"contoso-semantic-config\"\n",
    ")"
   ]
  },
  {
   "cell_type": "markdown",
   "metadata": {},
   "source": [
    "### Similarity Vs. Relevance Test"
   ]
  },
  {
   "cell_type": "code",
   "execution_count": 13,
   "metadata": {},
   "outputs": [
    {
     "name": "stdout",
     "output_type": "stream",
     "text": [
      " \n",
      "        Item Name: Mocha\n",
      "        Mocha details:\n",
      "            Price: 4.5$\n",
      "            Category: Coffees\n",
      "            Description: Delicious combination of coffee, milk and chocolate.\n",
      "    \n",
      " \n",
      "        Item Name: Blueberry Smoothie\n",
      "        Blueberry Smoothie details:\n",
      "            Price: 5.5$\n",
      "            Category: Smoothies\n",
      "            Description: Delicious smoothie made with fresh blueberries.\n",
      "    \n",
      " \n",
      "        Item Name: Lemon Cake\n",
      "        Lemon Cake details:\n",
      "            Price: 4.0$\n",
      "            Category: Bakery\n",
      "            Description: Sweet and tangy lemon cake with a moist crumb.\n",
      "    \n",
      " \n",
      "        Item Name: Chocolate Smoothie\n",
      "        Chocolate Smoothie details:\n",
      "            Price: 6.0$\n",
      "            Category: Smoothies\n",
      "            Description: Rich and creamy smoothie made with chocolate.\n",
      "    \n",
      " \n",
      "        Item Name: Blueberry Muffin\n",
      "        Blueberry Muffin details:\n",
      "            Price: 2.5$\n",
      "            Category: Bakery\n",
      "            Description: Soft and moist muffin packed with fresh blueberries and a crumb topping.\n",
      "    \n",
      " \n",
      "        Item Name: Strawberry Banana Smoothie\n",
      "        Strawberry Banana Smoothie details:\n",
      "            Price: 5.0$\n",
      "            Category: Smoothies\n",
      "            Description: Refreshing smoothie made with strawberries and bananas.\n",
      "    \n",
      " \n",
      "        Item Name: Mango Banana Smoothie\n",
      "        Mango Banana Smoothie details:\n",
      "            Price: 5.5$\n",
      "            Category: Smoothies\n",
      "            Description: Tropical smoothie made with ripe mangoes, and banana.\n",
      "    \n",
      " \n",
      "        Item Name: Peach Smoothie\n",
      "        Peach Smoothie details:\n",
      "            Price: 5.5$\n",
      "            Category: Smoothies\n",
      "            Description: Delicious smoothie made with fresh peaches.\n",
      "    \n",
      " \n",
      "        Item Name: Chicken Sandwich\n",
      "        Chicken Sandwich details:\n",
      "            Price: 5.5$\n",
      "            Category: Sandwiches\n",
      "            Description: Delicious sandwich filled with chicken and veggies.\n",
      "    \n",
      " \n",
      "        Item Name: Carrot Cake\n",
      "        Carrot Cake details:\n",
      "            Price: 4.0$\n",
      "            Category: Bakery\n",
      "            Description: Moist, sweet cake with a rich carrot and cinnamon flavor.\n",
      "    \n"
     ]
    }
   ],
   "source": [
    "# Perform a vector search\n",
    "docs = vector_store.vector_search(\n",
    "    # query = \"What are your famous bakery items?\", \n",
    "    # query = \"I am in mood for French today. What are your french options?\",\n",
    "    query = \"Can I place an order for 1 Mocha, 1 lemon cake, 1 blueberry smoothie, and 1 Chicken sandwich?\",  \n",
    "    k=10,\n",
    ")\n",
    "\n",
    "for doc in docs:\n",
    "    print(doc.page_content)"
   ]
  },
  {
   "cell_type": "code",
   "execution_count": 15,
   "metadata": {},
   "outputs": [
    {
     "name": "stdout",
     "output_type": "stream",
     "text": [
      " \n",
      "        Item Name: Lemon Cake\n",
      "        Lemon Cake details:\n",
      "            Price: 4.0$\n",
      "            Category: Bakery\n",
      "            Description: Sweet and tangy lemon cake with a moist crumb.\n",
      "    \n",
      " \n",
      "        Item Name: Chicken Sandwich\n",
      "        Chicken Sandwich details:\n",
      "            Price: 5.5$\n",
      "            Category: Sandwiches\n",
      "            Description: Delicious sandwich filled with chicken and veggies.\n",
      "    \n",
      " \n",
      "        Item Name: Strawberry Banana Smoothie\n",
      "        Strawberry Banana Smoothie details:\n",
      "            Price: 5.0$\n",
      "            Category: Smoothies\n",
      "            Description: Refreshing smoothie made with strawberries and bananas.\n",
      "    \n",
      " \n",
      "        Item Name: Mocha\n",
      "        Mocha details:\n",
      "            Price: 4.5$\n",
      "            Category: Coffees\n",
      "            Description: Delicious combination of coffee, milk and chocolate.\n",
      "    \n",
      " \n",
      "        Item Name: Chocolate Smoothie\n",
      "        Chocolate Smoothie details:\n",
      "            Price: 6.0$\n",
      "            Category: Smoothies\n",
      "            Description: Rich and creamy smoothie made with chocolate.\n",
      "    \n",
      " \n",
      "        Item Name: Carrot Cake\n",
      "        Carrot Cake details:\n",
      "            Price: 4.0$\n",
      "            Category: Bakery\n",
      "            Description: Moist, sweet cake with a rich carrot and cinnamon flavor.\n",
      "    \n",
      " \n",
      "        Item Name: Blueberry Smoothie\n",
      "        Blueberry Smoothie details:\n",
      "            Price: 5.5$\n",
      "            Category: Smoothies\n",
      "            Description: Delicious smoothie made with fresh blueberries.\n",
      "    \n",
      " \n",
      "        Item Name: Mango Banana Smoothie\n",
      "        Mango Banana Smoothie details:\n",
      "            Price: 5.5$\n",
      "            Category: Smoothies\n",
      "            Description: Tropical smoothie made with ripe mangoes, and banana.\n",
      "    \n",
      " \n",
      "        Item Name: Blueberry Muffin\n",
      "        Blueberry Muffin details:\n",
      "            Price: 2.5$\n",
      "            Category: Bakery\n",
      "            Description: Soft and moist muffin packed with fresh blueberries and a crumb topping.\n",
      "    \n",
      " \n",
      "        Item Name: Peach Smoothie\n",
      "        Peach Smoothie details:\n",
      "            Price: 5.5$\n",
      "            Category: Smoothies\n",
      "            Description: Delicious smoothie made with fresh peaches.\n",
      "    \n"
     ]
    }
   ],
   "source": [
    "# Perform a hybrid search\n",
    "docs = vector_store.hybrid_search(\n",
    "    # query = \"What are your famous bakery items?\", \n",
    "    # query = \"I am in mood for French today. What are your french options?\",\n",
    "    query = \"Can I place an order for 1 Mocha, 1 lemon cake, 1 blueberry smoothie, and 1 Chicken sandwich?\",  \n",
    "    k=10,\n",
    ")\n",
    "\n",
    "for doc in docs:\n",
    "    print(doc.page_content)"
   ]
  },
  {
   "cell_type": "code",
   "execution_count": 16,
   "metadata": {},
   "outputs": [
    {
     "name": "stdout",
     "output_type": "stream",
     "text": [
      " \n",
      "        Item Name: Lemon Cake\n",
      "        Lemon Cake details:\n",
      "            Price: 4.0$\n",
      "            Category: Bakery\n",
      "            Description: Sweet and tangy lemon cake with a moist crumb.\n",
      "    \n",
      " \n",
      "        Item Name: Mocha\n",
      "        Mocha details:\n",
      "            Price: 4.5$\n",
      "            Category: Coffees\n",
      "            Description: Delicious combination of coffee, milk and chocolate.\n",
      "    \n",
      " \n",
      "        Item Name: Bagel\n",
      "        Bagel details:\n",
      "            Price: 1.5$\n",
      "            Category: Bakery\n",
      "            Description: Delicious, dense and chewy bread product, perfect for a quick breakfast.\n",
      "    \n",
      " \n",
      "        Item Name: Lemon Tea\n",
      "        Lemon Tea details:\n",
      "            Price: 2.5$\n",
      "            Category: Tea or Chai\n",
      "            Description: A tea with a lemon flavor.\n",
      "    \n",
      " \n",
      "        Item Name: Carrot Cake\n",
      "        Carrot Cake details:\n",
      "            Price: 4.0$\n",
      "            Category: Bakery\n",
      "            Description: Moist, sweet cake with a rich carrot and cinnamon flavor.\n",
      "    \n",
      " \n",
      "        Item Name: Blueberry Muffin\n",
      "        Blueberry Muffin details:\n",
      "            Price: 2.5$\n",
      "            Category: Bakery\n",
      "            Description: Soft and moist muffin packed with fresh blueberries and a crumb topping.\n",
      "    \n",
      " \n",
      "        Item Name: Pecan Pie\n",
      "        Pecan Pie details:\n",
      "            Price: 4.5$\n",
      "            Category: Bakery\n",
      "            Description: Classic dessert filled with sweet, nutty pecans and a flaky crust.\n",
      "    \n",
      " \n",
      "        Item Name: Red Velvet Cake\n",
      "        Red Velvet Cake details:\n",
      "            Price: 5.0$\n",
      "            Category: Bakery\n",
      "            Description: Rich, moist cake with a distinctive red color and a creamy frosting.\n",
      "    \n",
      " \n",
      "        Item Name: Apple Fritter\n",
      "        Apple Fritter details:\n",
      "            Price: 3.0$\n",
      "            Category: Bakery\n",
      "            Description: Sweet, fried doughnut filled with apple pieces and coated in sugar.\n",
      "    \n",
      " \n",
      "        Item Name: Scones\n",
      "        Scones details:\n",
      "            Price: 3.0$\n",
      "            Category: Bakery\n",
      "            Description: Buttery and crumbly traditional English baked good.\n",
      "    \n"
     ]
    }
   ],
   "source": [
    "# Perform a semantic hybrid search\n",
    "vector_store.semantic_configuration_name = \"contoso-semantic-config\"\n",
    "docs = vector_store.semantic_hybrid_search(\n",
    "    # query = \"What are your famous bakery items?\", \n",
    "    query = \"Can I place an order for 1 Mocha, 1 lemon cake, 1 blueberry smoothie, and 1 Chicken sandwich?\",  \n",
    "    k=10,\n",
    ")\n",
    "\n",
    "for doc in docs:\n",
    "    print(doc.page_content)"
   ]
  },
  {
   "cell_type": "code",
   "execution_count": 41,
   "metadata": {},
   "outputs": [
    {
     "data": {
      "text/plain": [
       "10"
      ]
     },
     "execution_count": 41,
     "metadata": {},
     "output_type": "execute_result"
    }
   ],
   "source": [
    "retriever = vector_store.as_retriever(k=10)\n",
    "query = \"Can I place an order for 1 Mocha, 1 lemon cake, 1 blueberry smoothie, and 1 Chicken sandwich?\"\n",
    "docs = retriever.invoke(query)\n",
    "len(docs)"
   ]
  },
  {
   "cell_type": "markdown",
   "metadata": {},
   "source": [
    "## Query Transformations\n",
    "\n",
    "Query transformations are a set of approaches focused on re-writing and/or modifying questions for retrieval"
   ]
  },
  {
   "cell_type": "code",
   "execution_count": 19,
   "metadata": {},
   "outputs": [],
   "source": [
    "os.environ[\"LANGCHAIN_TRACING_V2\"] = \"true\"\n",
    "os.environ[\"LANGCHAIN_PROJECT\"] = \"coffee-retrieval-techniques\""
   ]
  },
  {
   "cell_type": "code",
   "execution_count": 42,
   "metadata": {},
   "outputs": [],
   "source": [
    "from langchain_core.prompts import ChatPromptTemplate\n",
    "\n",
    "# Multi Query: Different Perspectives\n",
    "template = \"\"\"You are an AI language model assistant. Your task is to generate five \n",
    "different versions of the given user question to retrieve relevant documents from a vector \n",
    "database using hybrid search. By generating multiple perspectives on the user question, your goal is to help\n",
    "the user overcome some of the limitations of the distance-based similarity search. \n",
    "Provide these alternative questions separated by newlines. Original question: {question}\"\"\"\n",
    "prompt_perspectives = ChatPromptTemplate.from_template(template)\n",
    "\n",
    "from langchain_core.output_parsers import StrOutputParser\n",
    "from langchain_openai.chat_models import AzureChatOpenAI\n",
    "llm = AzureChatOpenAI(\n",
    "    api_key=os.environ[\"AZURE_OPENAI_API_KEY\"],\n",
    "    azure_endpoint=os.environ[\"AZURE_OPENAI_ENDPOINT\"],\n",
    "    api_version=os.environ[\"AZURE_OPENAI_API_VERSION\"],\n",
    "    azure_deployment=\"gpt-35-turbo\",\n",
    "    streaming=True,\n",
    ")\n",
    "\n",
    "generate_queries = (\n",
    "    prompt_perspectives \n",
    "    | llm\n",
    "    | StrOutputParser() \n",
    "    | (lambda x: x.split(\"\\n\"))\n",
    ")"
   ]
  },
  {
   "cell_type": "code",
   "execution_count": 43,
   "metadata": {},
   "outputs": [
    {
     "data": {
      "text/plain": [
       "['1. How can I order 1 Mocha, 1 lemon cake, 1 blueberry smoothie, and 1 Chicken sandwich?',\n",
       " '2. What is the process for placing an order for 1 Mocha, 1 lemon cake, 1 blueberry smoothie, and 1 Chicken sandwich?',\n",
       " '3. Is it possible to order 1 Mocha, 1 lemon cake, 1 blueberry smoothie, and 1 Chicken sandwich?',\n",
       " '4. How do I go about ordering 1 Mocha, 1 lemon cake, 1 blueberry smoothie, and 1 Chicken sandwich?',\n",
       " '5. What are the steps to place an order for 1 Mocha, 1 lemon cake, 1 blueberry smoothie, and 1 Chicken sandwich?']"
      ]
     },
     "execution_count": 43,
     "metadata": {},
     "output_type": "execute_result"
    }
   ],
   "source": [
    "question = \"Can I place an order for 1 Mocha, 1 lemon cake, 1 blueberry smoothie, and 1 Chicken sandwich?\"\n",
    "generate_queries.invoke(question)"
   ]
  },
  {
   "cell_type": "code",
   "execution_count": 52,
   "metadata": {},
   "outputs": [
    {
     "name": "stdout",
     "output_type": "stream",
     "text": [
      "9\n",
      "9\n",
      "9\n",
      "9\n",
      "9\n"
     ]
    }
   ],
   "source": [
    "retriever = vector_store.as_retriever(k=10) # Even with Query Transformation, K = 8 or 9 is not enough to get relevant results\n",
    "\n",
    "mid_chain = generate_queries | retriever.map() \n",
    "output  = mid_chain.invoke(question)\n",
    "for docs in output:\n",
    "    print(len(docs))"
   ]
  },
  {
   "cell_type": "code",
   "execution_count": 53,
   "metadata": {},
   "outputs": [
    {
     "data": {
      "text/plain": [
       "ChatPromptTemplate(input_variables=['question'], messages=[HumanMessagePromptTemplate(prompt=PromptTemplate(input_variables=['question'], template='You are an AI language model assistant. Your task is to generate five \\ndifferent versions of the given user question to retrieve relevant documents from a vector \\ndatabase using hybrid search. By generating multiple perspectives on the user question, your goal is to help\\nthe user overcome some of the limitations of the distance-based similarity search. \\nProvide these alternative questions separated by newlines. Original question: {question}'))])\n",
       "| AzureChatOpenAI(client=<openai.resources.chat.completions.Completions object at 0x000001C12B913F90>, async_client=<openai.resources.chat.completions.AsyncCompletions object at 0x000001C127ABDBD0>, openai_api_key=SecretStr('**********'), openai_proxy='', streaming=True, azure_endpoint='https://openaishiva.openai.azure.com/', deployment_name='gpt-35-turbo', openai_api_version='2024-02-01', openai_api_type='azure')\n",
       "| StrOutputParser()\n",
       "| RunnableLambda(...)\n",
       "| RunnableEach(bound=AzureSearchVectorStoreRetriever(tags=['AzureSearch'], vectorstore=<langchain_community.vectorstores.azuresearch.AzureSearch object at 0x000001C114900410>, k=9))\n",
       "| RunnableLambda(get_unique_union)"
      ]
     },
     "execution_count": 53,
     "metadata": {},
     "output_type": "execute_result"
    }
   ],
   "source": [
    "from langchain_core.load import dumps, loads\n",
    "\n",
    "def get_unique_union(documents: list[list]):\n",
    "    \"\"\" Unique union of retrieved docs \"\"\"\n",
    "    # Flatten list of lists, and convert each Document to string\n",
    "    flattened_docs = [dumps(doc) for sublist in documents for doc in sublist]\n",
    "    # Get unique documents\n",
    "    unique_docs = list(set(flattened_docs))\n",
    "    # Return\n",
    "    return [loads(doc) for doc in unique_docs]\n",
    "\n",
    "# Retrieve\n",
    "question = \"Can I place an order for 1 Mocha, 1 lemon cake, 1 blueberry smoothie, and 1 Chicken sandwich?\"\n",
    "retrieval_chain = generate_queries | retriever.map() | get_unique_union\n",
    "retrieval_chain"
   ]
  },
  {
   "cell_type": "code",
   "execution_count": 54,
   "metadata": {},
   "outputs": [
    {
     "name": "stdout",
     "output_type": "stream",
     "text": [
      " \n",
      "        Item Name: Pineapple Smoothie\n",
      "        Pineapple Smoothie details:\n",
      "            Price: 5.5$\n",
      "            Category: Smoothies\n",
      "            Description: Refreshing smoothie made with fresh pineapple.\n",
      "    \n",
      " \n",
      "        Item Name: Blueberry Muffin\n",
      "        Blueberry Muffin details:\n",
      "            Price: 2.5$\n",
      "            Category: Bakery\n",
      "            Description: Soft and moist muffin packed with fresh blueberries and a crumb topping.\n",
      "    \n",
      " \n",
      "        Item Name: Peach Smoothie\n",
      "        Peach Smoothie details:\n",
      "            Price: 5.5$\n",
      "            Category: Smoothies\n",
      "            Description: Delicious smoothie made with fresh peaches.\n",
      "    \n",
      " \n",
      "        Item Name: Blueberry Smoothie\n",
      "        Blueberry Smoothie details:\n",
      "            Price: 5.5$\n",
      "            Category: Smoothies\n",
      "            Description: Delicious smoothie made with fresh blueberries.\n",
      "    \n",
      " \n",
      "        Item Name: Strawberry Banana Smoothie\n",
      "        Strawberry Banana Smoothie details:\n",
      "            Price: 5.0$\n",
      "            Category: Smoothies\n",
      "            Description: Refreshing smoothie made with strawberries and bananas.\n",
      "    \n",
      " \n",
      "        Item Name: Carrot Cake\n",
      "        Carrot Cake details:\n",
      "            Price: 4.0$\n",
      "            Category: Bakery\n",
      "            Description: Moist, sweet cake with a rich carrot and cinnamon flavor.\n",
      "    \n",
      " \n",
      "        Item Name: Lemon Cake\n",
      "        Lemon Cake details:\n",
      "            Price: 4.0$\n",
      "            Category: Bakery\n",
      "            Description: Sweet and tangy lemon cake with a moist crumb.\n",
      "    \n",
      " \n",
      "        Item Name: Chocolate Smoothie\n",
      "        Chocolate Smoothie details:\n",
      "            Price: 6.0$\n",
      "            Category: Smoothies\n",
      "            Description: Rich and creamy smoothie made with chocolate.\n",
      "    \n",
      " \n",
      "        Item Name: Mocha\n",
      "        Mocha details:\n",
      "            Price: 4.5$\n",
      "            Category: Coffees\n",
      "            Description: Delicious combination of coffee, milk and chocolate.\n",
      "    \n",
      " \n",
      "        Item Name: Mango Banana Smoothie\n",
      "        Mango Banana Smoothie details:\n",
      "            Price: 5.5$\n",
      "            Category: Smoothies\n",
      "            Description: Tropical smoothie made with ripe mangoes, and banana.\n",
      "    \n"
     ]
    }
   ],
   "source": [
    "docs = retrieval_chain.invoke({\"question\":question})\n",
    "\n",
    "for doc in docs:\n",
    "    print(doc.page_content)"
   ]
  },
  {
   "cell_type": "code",
   "execution_count": 55,
   "metadata": {},
   "outputs": [
    {
     "data": {
      "text/plain": [
       "10"
      ]
     },
     "execution_count": 55,
     "metadata": {},
     "output_type": "execute_result"
    }
   ],
   "source": [
    "len(docs)"
   ]
  },
  {
   "cell_type": "markdown",
   "metadata": {},
   "source": [
    "## RAG Fusion"
   ]
  },
  {
   "cell_type": "code",
   "execution_count": 59,
   "metadata": {},
   "outputs": [],
   "source": [
    "from langchain_core.prompts import ChatPromptTemplate\n",
    "\n",
    "# RAG-Fusion: Related\n",
    "template = \"\"\"You are a helpful assistant that generates multiple search queries based on a single input query. Do NOT change the meaning of the question \\n\n",
    "Generate multiple search queries related to: {question} \\n\n",
    "Output (4 queries):\"\"\"\n",
    "prompt_rag_fusion = ChatPromptTemplate.from_template(template)"
   ]
  },
  {
   "cell_type": "code",
   "execution_count": 60,
   "metadata": {},
   "outputs": [],
   "source": [
    "from langchain_core.output_parsers import StrOutputParser\n",
    "from langchain_openai import ChatOpenAI\n",
    "\n",
    "generate_queries = (\n",
    "    prompt_rag_fusion \n",
    "    | llm\n",
    "    | StrOutputParser() \n",
    "    | (lambda x: x.split(\"\\n\"))\n",
    ")"
   ]
  },
  {
   "cell_type": "code",
   "execution_count": 61,
   "metadata": {},
   "outputs": [
    {
     "data": {
      "text/plain": [
       "['1. How to place an order for a Mocha?',\n",
       " '2. Where can I order a lemon cake?',\n",
       " '3. Best places to get a blueberry smoothie?',\n",
       " '4. How can I order a Chicken sandwich?']"
      ]
     },
     "execution_count": 61,
     "metadata": {},
     "output_type": "execute_result"
    }
   ],
   "source": [
    "generate_queries.invoke({\"question\": question})"
   ]
  },
  {
   "cell_type": "code",
   "execution_count": 63,
   "metadata": {},
   "outputs": [],
   "source": [
    "from langchain_core.load import dumps, loads\n",
    "\n",
    "def reciprocal_rank_fusion(results: list[list], k=60):\n",
    "    \"\"\" Reciprocal_rank_fusion that takes multiple lists of ranked documents \n",
    "        and an optional parameter k used in the RRF formula \"\"\"\n",
    "    \n",
    "    # Initialize a dictionary to hold fused scores for each unique document\n",
    "    fused_scores = {}\n",
    "\n",
    "    # Iterate through each list of ranked documents\n",
    "    for docs in results:\n",
    "        # Iterate through each document in the list, with its rank (position in the list)\n",
    "        for rank, doc in enumerate(docs):\n",
    "            # Convert the document to a string format to use as a key (assumes documents can be serialized to JSON)\n",
    "            doc_str = dumps(doc)\n",
    "            # If the document is not yet in the fused_scores dictionary, add it with an initial score of 0\n",
    "            if doc_str not in fused_scores:\n",
    "                fused_scores[doc_str] = 0\n",
    "            # Retrieve the current score of the document, if any\n",
    "            previous_score = fused_scores[doc_str]\n",
    "            # Update the score of the document using the RRF formula: 1 / (rank + k)\n",
    "            fused_scores[doc_str] += 1 / (rank + k)\n",
    "\n",
    "    # Sort the documents based on their fused scores in descending order to get the final reranked results\n",
    "    reranked_results = [\n",
    "        (loads(doc), score)\n",
    "        for doc, score in sorted(fused_scores.items(), key=lambda x: x[1], reverse=True)\n",
    "    ]\n",
    "\n",
    "    # Return the reranked results as a list of tuples, each containing the document and its fused score\n",
    "    return reranked_results"
   ]
  },
  {
   "cell_type": "code",
   "execution_count": 67,
   "metadata": {},
   "outputs": [
    {
     "data": {
      "text/plain": [
       "4"
      ]
     },
     "execution_count": 67,
     "metadata": {},
     "output_type": "execute_result"
    }
   ],
   "source": [
    "retriever = vector_store.as_retriever(k=1)\n",
    "\n",
    "retrieval_chain_rag_fusion = generate_queries | retriever.map() | reciprocal_rank_fusion\n",
    "docs = retrieval_chain_rag_fusion.invoke({\"question\": question})\n",
    "len(docs)"
   ]
  },
  {
   "cell_type": "code",
   "execution_count": 68,
   "metadata": {},
   "outputs": [
    {
     "name": "stdout",
     "output_type": "stream",
     "text": [
      " \n",
      "        Item Name: Mocha\n",
      "        Mocha details:\n",
      "            Price: 4.5$\n",
      "            Category: Coffees\n",
      "            Description: Delicious combination of coffee, milk and chocolate.\n",
      "    \n",
      " \n",
      "        Item Name: Lemon Cake\n",
      "        Lemon Cake details:\n",
      "            Price: 4.0$\n",
      "            Category: Bakery\n",
      "            Description: Sweet and tangy lemon cake with a moist crumb.\n",
      "    \n",
      " \n",
      "        Item Name: Blueberry Smoothie\n",
      "        Blueberry Smoothie details:\n",
      "            Price: 5.5$\n",
      "            Category: Smoothies\n",
      "            Description: Delicious smoothie made with fresh blueberries.\n",
      "    \n",
      " \n",
      "        Item Name: Chicken Sandwich\n",
      "        Chicken Sandwich details:\n",
      "            Price: 5.5$\n",
      "            Category: Sandwiches\n",
      "            Description: Delicious sandwich filled with chicken and veggies.\n",
      "    \n"
     ]
    }
   ],
   "source": [
    "for doc in docs:\n",
    "    print(doc[0].page_content)"
   ]
  },
  {
   "cell_type": "code",
   "execution_count": 70,
   "metadata": {},
   "outputs": [
    {
     "name": "stdout",
     "output_type": "stream",
     "text": [
      " \n",
      "        Item Name: Pain au Chocolat\n",
      "        Pain au Chocolat details:\n",
      "            Price: 3.5$\n",
      "            Category: Bakery\n",
      "            Description: Classic French pastry filled with chocolate.\n",
      "    \n",
      " \n",
      "        Item Name: Croissant\n",
      "        Croissant details:\n",
      "            Price: 2.0$\n",
      "            Category: Bakery\n",
      "            Description: Buttery, flaky pastry, freshly baked to golden perfection.\n",
      "    \n",
      " \n",
      "        Item Name: Chamomile Tea\n",
      "        Chamomile Tea details:\n",
      "            Price: 2.5$\n",
      "            Category: Tea or Chai\n",
      "            Description: A herbal tea made from the flowers of the chamomile plant.\n",
      "    \n",
      " \n",
      "        Item Name: Cortado\n",
      "        Cortado details:\n",
      "            Price: 3.5$\n",
      "            Category: Coffees\n",
      "            Description: A beverage consisting of espresso mixed with a roughly equal amount of warm milk to reduce the acidity.\n",
      "    \n",
      " \n",
      "        Item Name: Cafe au Lait\n",
      "        Cafe au Lait details:\n",
      "            Price: 3.5$\n",
      "            Category: Coffees\n",
      "            Description: A coffee drink made with strong hot coffee and scalded milk.\n",
      "    \n",
      " \n",
      "        Item Name: Rooibos Tea\n",
      "        Rooibos Tea details:\n",
      "            Price: 3.0$\n",
      "            Category: Tea or Chai\n",
      "            Description: A tea made from the leaves of the rooibos plant.\n",
      "    \n",
      " \n",
      "        Item Name: Chocolate Croissant\n",
      "        Chocolate Croissant details:\n",
      "            Price: 3.0$\n",
      "            Category: Bakery\n",
      "            Description: Flaky croissant filled with rich chocolate.\n",
      "    \n"
     ]
    }
   ],
   "source": [
    "retriever = vector_store.as_retriever(k=5)\n",
    "\n",
    "retrieval_chain_rag_fusion = generate_queries | retriever.map() | reciprocal_rank_fusion\n",
    "question = \"what french options do you have?\"\n",
    "docs = retrieval_chain_rag_fusion.invoke({\"question\": question})\n",
    "for doc in docs:\n",
    "    print(doc[0].page_content)"
   ]
  },
  {
   "cell_type": "markdown",
   "metadata": {},
   "source": [
    "## Decomposition\n",
    "\n",
    "### Answer recursively  \n",
    "\n",
    "* https://arxiv.org/pdf/2205.10625.pdf\n",
    "* https://arxiv.org/abs/2212.10509.pdf\n",
    "\n",
    "### Answer individually \n"
   ]
  },
  {
   "cell_type": "code",
   "execution_count": 71,
   "metadata": {},
   "outputs": [],
   "source": [
    "from langchain_core.prompts import ChatPromptTemplate\n",
    "\n",
    "# Decomposition\n",
    "template = \"\"\"You are a helpful assistant that generates multiple sub-questions related to an input question. \\n\n",
    "The goal is to break down the input into a set of sub-problems / sub-questions that can be answers in isolation. \\n\n",
    "Generate multiple search queries related to: {question} \\n\n",
    "Output (3 queries):\"\"\"\n",
    "prompt_decomposition = ChatPromptTemplate.from_template(template)"
   ]
  },
  {
   "cell_type": "code",
   "execution_count": 72,
   "metadata": {},
   "outputs": [
    {
     "data": {
      "text/plain": [
       "['1. Where can I order a Mocha?',\n",
       " '2. Where can I order a lemon cake?',\n",
       " '3. Where can I order a blueberry smoothie and a Chicken sandwich?']"
      ]
     },
     "execution_count": 72,
     "metadata": {},
     "output_type": "execute_result"
    }
   ],
   "source": [
    "# Chain\n",
    "generate_queries_decomposition = ( prompt_decomposition | llm | StrOutputParser() | (lambda x: x.split(\"\\n\")))\n",
    "\n",
    "# Run\n",
    "question = \"Can I place an order for 1 Mocha, 1 lemon cake, 1 blueberry smoothie, and 1 Chicken sandwich?\"\n",
    "questions = generate_queries_decomposition.invoke({\"question\":question})\n",
    "questions"
   ]
  },
  {
   "cell_type": "code",
   "execution_count": 73,
   "metadata": {},
   "outputs": [
    {
     "data": {
      "text/plain": [
       "['1. What are some French cuisine options?',\n",
       " '2. What are some French language learning options?',\n",
       " '3. What are some French travel options?']"
      ]
     },
     "execution_count": 73,
     "metadata": {},
     "output_type": "execute_result"
    }
   ],
   "source": [
    "# Run\n",
    "question = \"What french options do you have?\"\n",
    "questions = generate_queries_decomposition.invoke({\"question\":question})\n",
    "questions"
   ]
  },
  {
   "cell_type": "markdown",
   "metadata": {},
   "source": [
    "May not be so suitable for this use case"
   ]
  },
  {
   "cell_type": "markdown",
   "metadata": {},
   "source": [
    "## Step Back\n",
    "\n",
    "## Part 8: Step Back\n",
    "\n",
    "Paper: \n",
    "\n",
    "* https://arxiv.org/pdf/2310.06117.pdf"
   ]
  },
  {
   "cell_type": "code",
   "execution_count": null,
   "metadata": {},
   "outputs": [],
   "source": []
  },
  {
   "cell_type": "markdown",
   "metadata": {},
   "source": [
    "### HyDE"
   ]
  },
  {
   "cell_type": "code",
   "execution_count": 74,
   "metadata": {},
   "outputs": [],
   "source": [
    "from langchain_core.prompts import ChatPromptTemplate\n",
    "\n",
    "# HyDE document genration\n",
    "template = \"\"\"Please write a scientific paper passage to answer the question\n",
    "Question: {question}\n",
    "Passage:\"\"\"\n",
    "prompt_hyde = ChatPromptTemplate.from_template(template)\n",
    "\n",
    "from langchain_core.output_parsers import StrOutputParser\n",
    "from langchain_openai import AzureChatOpenAI\n",
    "\n",
    "generate_docs_for_retrieval = (\n",
    "    prompt_hyde | llm | StrOutputParser() \n",
    ")"
   ]
  },
  {
   "cell_type": "code",
   "execution_count": 77,
   "metadata": {},
   "outputs": [
    {
     "name": "stdout",
     "output_type": "stream",
     "text": [
      "Title: Analysis of Placing an Order for Multiple Food Items\n",
      "\n",
      "Abstract:\n",
      "This scientific paper aims to investigate the feasibility of placing an order for one Mocha, one lemon cake, one blueberry smoothie, and one Chicken sandwich. By examining the compatibility of these food items, their nutritional content, and potential interactions, we can determine whether this order is suitable for consumption.\n",
      "\n",
      "Introduction:\n",
      "In recent years, the popularity of ordering multiple food items has risen significantly. However, it is essential to consider the compatibility and potential health implications of consuming different food items together. This paper delves into the nutritional aspects and potential interactions of a specific order consisting of one Mocha, one lemon cake, one blueberry smoothie, and one Chicken sandwich.\n",
      "\n",
      "Methods:\n",
      "To evaluate the compatibility of the chosen food items, we conducted a thorough analysis of their nutritional content and potential interactions. We gathered data from reputable sources, including food composition databases and scientific literature. The nutritional information, such as macronutrients (carbohydrates, proteins, and fats), micronutrients (vitamins and minerals), and caloric values, was assessed for each food item. We also considered any potential allergens or dietary restrictions associated with these food items.\n",
      "\n",
      "Results:\n",
      "The Mocha, lemon cake, blueberry smoothie, and Chicken sandwich each possess distinct nutritional profiles. The Mocha contains caffeine, carbohydrates, fats, and protein derived from coffee and milk. The lemon cake contains carbohydrates, fats, and protein from flour, sugar, butter, eggs, and lemon zest. The blueberry smoothie contains carbohydrates, fats, and proteins from blueberries, milk, yogurt, and sweeteners. Finally, the Chicken sandwich consists of carbohydrates, fats, and proteins from bread, chicken, vegetables, and condiments.\n",
      "\n",
      "Discussion:\n",
      "Based on the nutritional analysis, it is evident that this order encompasses a variety of macronutrients, micronutrients, and flavors. However, it is important to consider potential interactions and dietary restrictions. For instance, individuals with lactose intolerance may experience discomfort due to the milk content in the Mocha and blueberry smoothie. Additionally, individuals with gluten sensitivities or allergies should be cautious with the lemon cake and Chicken sandwich, as they may contain gluten-containing ingredients.\n",
      "\n",
      "Conclusion:\n",
      "In conclusion, placing an order for one Mocha, one lemon cake, one blueberry smoothie, and one Chicken sandwich offers a diverse array of flavors and nutrients. However, it is crucial to consider individual dietary restrictions and potential interactions between food items. By being mindful of these factors, individuals can make informed decisions regarding their food choices and ensure a pleasant and healthy dining experience. Further research on specific dietary needs and potential interactions is warranted to provide comprehensive guidelines for ordering multiple food items.\n"
     ]
    }
   ],
   "source": [
    "# Run\n",
    "question = \"Can I place an order for 1 Mocha, 1 lemon cake, 1 blueberry smoothie, and 1 Chicken sandwich?\"\n",
    "docs = generate_docs_for_retrieval.invoke({\"question\":question})\n",
    "print(docs)"
   ]
  },
  {
   "cell_type": "code",
   "execution_count": 84,
   "metadata": {},
   "outputs": [
    {
     "name": "stdout",
     "output_type": "stream",
     "text": [
      " \n",
      "        Item Name: Chicken Sandwich\n",
      "        Chicken Sandwich details:\n",
      "            Price: 5.5$\n",
      "            Category: Sandwiches\n",
      "            Description: Delicious sandwich filled with chicken and veggies.\n",
      "    \n",
      " \n",
      "        Item Name: Mocha\n",
      "        Mocha details:\n",
      "            Price: 4.5$\n",
      "            Category: Coffees\n",
      "            Description: Delicious combination of coffee, milk and chocolate.\n",
      "    \n",
      " \n",
      "        Item Name: Strawberry Banana Smoothie\n",
      "        Strawberry Banana Smoothie details:\n",
      "            Price: 5.0$\n",
      "            Category: Smoothies\n",
      "            Description: Refreshing smoothie made with strawberries and bananas.\n",
      "    \n",
      " \n",
      "        Item Name: Chocolate Smoothie\n",
      "        Chocolate Smoothie details:\n",
      "            Price: 6.0$\n",
      "            Category: Smoothies\n",
      "            Description: Rich and creamy smoothie made with chocolate.\n",
      "    \n",
      " \n",
      "        Item Name: Mango Banana Smoothie\n",
      "        Mango Banana Smoothie details:\n",
      "            Price: 5.5$\n",
      "            Category: Smoothies\n",
      "            Description: Tropical smoothie made with ripe mangoes, and banana.\n",
      "    \n",
      " \n",
      "        Item Name: Blueberry Smoothie\n",
      "        Blueberry Smoothie details:\n",
      "            Price: 5.5$\n",
      "            Category: Smoothies\n",
      "            Description: Delicious smoothie made with fresh blueberries.\n",
      "    \n",
      " \n",
      "        Item Name: Pineapple Smoothie\n",
      "        Pineapple Smoothie details:\n",
      "            Price: 5.5$\n",
      "            Category: Smoothies\n",
      "            Description: Refreshing smoothie made with fresh pineapple.\n",
      "    \n",
      " \n",
      "        Item Name: Peach Smoothie\n",
      "        Peach Smoothie details:\n",
      "            Price: 5.5$\n",
      "            Category: Smoothies\n",
      "            Description: Delicious smoothie made with fresh peaches.\n",
      "    \n"
     ]
    }
   ],
   "source": [
    "# Retrieve\n",
    "retriever = vector_store.as_retriever(k=8)\n",
    "\n",
    "retrieval_chain = generate_docs_for_retrieval | retriever \n",
    "retrieved_docs = retrieval_chain.invoke({\"question\":question})\n",
    "\n",
    "for doc in retrieved_docs:\n",
    "    print(doc.page_content)"
   ]
  },
  {
   "cell_type": "markdown",
   "metadata": {},
   "source": [
    "## Contextual Compression"
   ]
  },
  {
   "cell_type": "code",
   "execution_count": 87,
   "metadata": {},
   "outputs": [],
   "source": [
    "# Helper function for printing docs\n",
    "\n",
    "\n",
    "def pretty_print_docs(docs):\n",
    "    print(\n",
    "        f\"\\n{'-' * 100}\\n\".join(\n",
    "            [f\"Document {i+1}:\\n\\n\" + d.page_content for i, d in enumerate(docs)]\n",
    "        )\n",
    "    )"
   ]
  },
  {
   "cell_type": "code",
   "execution_count": 88,
   "metadata": {},
   "outputs": [
    {
     "name": "stderr",
     "output_type": "stream",
     "text": [
      "c:\\Users\\shchitt\\AppData\\Local\\anaconda3\\envs\\langgraph\\Lib\\site-packages\\langchain\\chains\\llm.py:316: UserWarning: The predict_and_parse method is deprecated, instead pass an output parser directly to LLMChain.\n",
      "  warnings.warn(\n",
      "c:\\Users\\shchitt\\AppData\\Local\\anaconda3\\envs\\langgraph\\Lib\\site-packages\\langchain\\chains\\llm.py:316: UserWarning: The predict_and_parse method is deprecated, instead pass an output parser directly to LLMChain.\n",
      "  warnings.warn(\n",
      "c:\\Users\\shchitt\\AppData\\Local\\anaconda3\\envs\\langgraph\\Lib\\site-packages\\langchain\\chains\\llm.py:316: UserWarning: The predict_and_parse method is deprecated, instead pass an output parser directly to LLMChain.\n",
      "  warnings.warn(\n",
      "c:\\Users\\shchitt\\AppData\\Local\\anaconda3\\envs\\langgraph\\Lib\\site-packages\\langchain\\chains\\llm.py:316: UserWarning: The predict_and_parse method is deprecated, instead pass an output parser directly to LLMChain.\n",
      "  warnings.warn(\n",
      "c:\\Users\\shchitt\\AppData\\Local\\anaconda3\\envs\\langgraph\\Lib\\site-packages\\langchain\\chains\\llm.py:316: UserWarning: The predict_and_parse method is deprecated, instead pass an output parser directly to LLMChain.\n",
      "  warnings.warn(\n",
      "c:\\Users\\shchitt\\AppData\\Local\\anaconda3\\envs\\langgraph\\Lib\\site-packages\\langchain\\chains\\llm.py:316: UserWarning: The predict_and_parse method is deprecated, instead pass an output parser directly to LLMChain.\n",
      "  warnings.warn(\n",
      "c:\\Users\\shchitt\\AppData\\Local\\anaconda3\\envs\\langgraph\\Lib\\site-packages\\langchain\\chains\\llm.py:316: UserWarning: The predict_and_parse method is deprecated, instead pass an output parser directly to LLMChain.\n",
      "  warnings.warn(\n",
      "c:\\Users\\shchitt\\AppData\\Local\\anaconda3\\envs\\langgraph\\Lib\\site-packages\\langchain\\chains\\llm.py:316: UserWarning: The predict_and_parse method is deprecated, instead pass an output parser directly to LLMChain.\n",
      "  warnings.warn(\n",
      "c:\\Users\\shchitt\\AppData\\Local\\anaconda3\\envs\\langgraph\\Lib\\site-packages\\langchain\\chains\\llm.py:316: UserWarning: The predict_and_parse method is deprecated, instead pass an output parser directly to LLMChain.\n",
      "  warnings.warn(\n",
      "c:\\Users\\shchitt\\AppData\\Local\\anaconda3\\envs\\langgraph\\Lib\\site-packages\\langchain\\chains\\llm.py:316: UserWarning: The predict_and_parse method is deprecated, instead pass an output parser directly to LLMChain.\n",
      "  warnings.warn(\n"
     ]
    },
    {
     "name": "stdout",
     "output_type": "stream",
     "text": [
      "Document 1:\n",
      "\n",
      "Item Name: Lemon Cake\n",
      "Lemon Cake details:\n",
      "    Price: 4.0$\n",
      "    Category: Bakery\n",
      "    Description: Sweet and tangy lemon cake with a moist crumb.\n",
      "----------------------------------------------------------------------------------------------------\n",
      "Document 2:\n",
      "\n",
      "Chicken Sandwich\n",
      "Price: 5.5$\n",
      "Category: Sandwiches\n",
      "Description: Delicious sandwich filled with chicken and veggies.\n",
      "----------------------------------------------------------------------------------------------------\n",
      "Document 3:\n",
      "\n",
      "Item Name: Strawberry Banana Smoothie\n",
      "Strawberry Banana Smoothie details:\n",
      "Price: 5.0$\n",
      "Category: Smoothies\n",
      "Description: Refreshing smoothie made with strawberries and bananas.\n",
      "----------------------------------------------------------------------------------------------------\n",
      "Document 4:\n",
      "\n",
      "Item Name: Mocha\n",
      "----------------------------------------------------------------------------------------------------\n",
      "Document 5:\n",
      "\n",
      "Item Name: Chocolate Smoothie\n",
      "Price: 6.0$\n",
      "Category: Smoothies\n",
      "Description: Rich and creamy smoothie made with chocolate.\n",
      "----------------------------------------------------------------------------------------------------\n",
      "Document 6:\n",
      "\n",
      "Item Name: Carrot Cake\n",
      "Carrot Cake details:\n",
      "    Price: 4.0$\n",
      "    Category: Bakery\n",
      "    Description: Moist, sweet cake with a rich carrot and cinnamon flavor.\n",
      "----------------------------------------------------------------------------------------------------\n",
      "Document 7:\n",
      "\n",
      "Item Name: Blueberry Smoothie\n",
      "Price: 5.5$\n",
      "Category: Smoothies\n",
      "Description: Delicious smoothie made with fresh blueberries.\n",
      "----------------------------------------------------------------------------------------------------\n",
      "Document 8:\n",
      "\n",
      "No_OUTPUT\n"
     ]
    }
   ],
   "source": [
    "from langchain.retrievers import ContextualCompressionRetriever\n",
    "from langchain.retrievers.document_compressors import LLMChainExtractor\n",
    "\n",
    "retriever = vector_store.as_retriever(k=10)\n",
    "compressor = LLMChainExtractor.from_llm(llm)\n",
    "compression_retriever = ContextualCompressionRetriever(\n",
    "    base_compressor=compressor, base_retriever=retriever\n",
    ")\n",
    "compressed_docs = compression_retriever.invoke(question)\n",
    "pretty_print_docs(compressed_docs)"
   ]
  },
  {
   "cell_type": "code",
   "execution_count": 91,
   "metadata": {},
   "outputs": [
    {
     "name": "stdout",
     "output_type": "stream",
     "text": [
      "Document 1:\n",
      "\n",
      " \n",
      "        Item Name: Lemon Cake\n",
      "        Lemon Cake details:\n",
      "            Price: 4.0$\n",
      "            Category: Bakery\n",
      "            Description: Sweet and tangy lemon cake with a moist crumb.\n",
      "    \n",
      "----------------------------------------------------------------------------------------------------\n",
      "Document 2:\n",
      "\n",
      " \n",
      "        Item Name: Chicken Sandwich\n",
      "        Chicken Sandwich details:\n",
      "            Price: 5.5$\n",
      "            Category: Sandwiches\n",
      "            Description: Delicious sandwich filled with chicken and veggies.\n",
      "    \n",
      "----------------------------------------------------------------------------------------------------\n",
      "Document 3:\n",
      "\n",
      " \n",
      "        Item Name: Mocha\n",
      "        Mocha details:\n",
      "            Price: 4.5$\n",
      "            Category: Coffees\n",
      "            Description: Delicious combination of coffee, milk and chocolate.\n",
      "    \n",
      "----------------------------------------------------------------------------------------------------\n",
      "Document 4:\n",
      "\n",
      " \n",
      "        Item Name: Blueberry Smoothie\n",
      "        Blueberry Smoothie details:\n",
      "            Price: 5.5$\n",
      "            Category: Smoothies\n",
      "            Description: Delicious smoothie made with fresh blueberries.\n",
      "    \n"
     ]
    }
   ],
   "source": [
    "from langchain.retrievers.document_compressors import LLMChainFilter\n",
    "# from warnings import filterwarnings\n",
    "# filterwarnings(\"ignore\")\n",
    "\n",
    "_filter = LLMChainFilter.from_llm(llm)\n",
    "compression_retriever = ContextualCompressionRetriever(\n",
    "    base_compressor=_filter, base_retriever=retriever\n",
    ")\n",
    "\n",
    "compressed_docs = compression_retriever.invoke(question)\n",
    "pretty_print_docs(compressed_docs)"
   ]
  },
  {
   "cell_type": "code",
   "execution_count": 100,
   "metadata": {},
   "outputs": [
    {
     "name": "stdout",
     "output_type": "stream",
     "text": [
      "Document 1:\n",
      "\n",
      " \n",
      "        Item Name: Mocha\n",
      "        Mocha details:\n",
      "            Price: 4.5$\n",
      "            Category: Coffees\n",
      "            Description: Delicious combination of coffee, milk and chocolate.\n",
      "    \n",
      "----------------------------------------------------------------------------------------------------\n",
      "Document 2:\n",
      "\n",
      " \n",
      "        Item Name: Blueberry Smoothie\n",
      "        Blueberry Smoothie details:\n",
      "            Price: 5.5$\n",
      "            Category: Smoothies\n",
      "            Description: Delicious smoothie made with fresh blueberries.\n",
      "    \n",
      "----------------------------------------------------------------------------------------------------\n",
      "Document 3:\n",
      "\n",
      " \n",
      "        Item Name: Lemon Cake\n",
      "        Lemon Cake details:\n",
      "            Price: 4.0$\n",
      "            Category: Bakery\n",
      "            Description: Sweet and tangy lemon cake with a moist crumb.\n",
      "    \n",
      "----------------------------------------------------------------------------------------------------\n",
      "Document 4:\n",
      "\n",
      " \n",
      "        Item Name: Chocolate Smoothie\n",
      "        Chocolate Smoothie details:\n",
      "            Price: 6.0$\n",
      "            Category: Smoothies\n",
      "            Description: Rich and creamy smoothie made with chocolate.\n",
      "    \n",
      "----------------------------------------------------------------------------------------------------\n",
      "Document 5:\n",
      "\n",
      " \n",
      "        Item Name: Blueberry Muffin\n",
      "        Blueberry Muffin details:\n",
      "            Price: 2.5$\n",
      "            Category: Bakery\n",
      "            Description: Soft and moist muffin packed with fresh blueberries and a crumb topping.\n",
      "    \n",
      "----------------------------------------------------------------------------------------------------\n",
      "Document 6:\n",
      "\n",
      " \n",
      "        Item Name: Strawberry Banana Smoothie\n",
      "        Strawberry Banana Smoothie details:\n",
      "            Price: 5.0$\n",
      "            Category: Smoothies\n",
      "            Description: Refreshing smoothie made with strawberries and bananas.\n",
      "    \n",
      "----------------------------------------------------------------------------------------------------\n",
      "Document 7:\n",
      "\n",
      " \n",
      "        Item Name: Mango Banana Smoothie\n",
      "        Mango Banana Smoothie details:\n",
      "            Price: 5.5$\n",
      "            Category: Smoothies\n",
      "            Description: Tropical smoothie made with ripe mangoes, and banana.\n",
      "    \n",
      "----------------------------------------------------------------------------------------------------\n",
      "Document 8:\n",
      "\n",
      " \n",
      "        Item Name: Peach Smoothie\n",
      "        Peach Smoothie details:\n",
      "            Price: 5.5$\n",
      "            Category: Smoothies\n",
      "            Description: Delicious smoothie made with fresh peaches.\n",
      "    \n"
     ]
    }
   ],
   "source": [
    "from langchain.retrievers.document_compressors import EmbeddingsFilter\n",
    "\n",
    "embeddings_filter = EmbeddingsFilter(embeddings=embeddings, similarity_threshold=0.42)\n",
    "compression_retriever = ContextualCompressionRetriever(\n",
    "    base_compressor=embeddings_filter, base_retriever=retriever\n",
    ")\n",
    "\n",
    "compressed_docs = compression_retriever.invoke(question)\n",
    "pretty_print_docs(compressed_docs)\n",
    "\n",
    "## Not working so well and hard to figure out the similarity_threshold"
   ]
  },
  {
   "cell_type": "code",
   "execution_count": null,
   "metadata": {},
   "outputs": [],
   "source": []
  }
 ],
 "metadata": {
  "kernelspec": {
   "display_name": "food",
   "language": "python",
   "name": "python3"
  },
  "language_info": {
   "codemirror_mode": {
    "name": "ipython",
    "version": 3
   },
   "file_extension": ".py",
   "mimetype": "text/x-python",
   "name": "python",
   "nbconvert_exporter": "python",
   "pygments_lexer": "ipython3",
   "version": "3.11.8"
  }
 },
 "nbformat": 4,
 "nbformat_minor": 2
}
