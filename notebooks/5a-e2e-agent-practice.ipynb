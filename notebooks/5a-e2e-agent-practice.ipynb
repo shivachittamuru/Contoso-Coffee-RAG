{
 "cells": [
  {
   "cell_type": "code",
   "execution_count": 11,
   "metadata": {},
   "outputs": [
    {
     "data": {
      "text/plain": [
       "True"
      ]
     },
     "execution_count": 11,
     "metadata": {},
     "output_type": "execute_result"
    }
   ],
   "source": [
    "# loading the API keys in environment variables\n",
    "import os, json\n",
    "import openai\n",
    "from langchain.embeddings import OpenAIEmbeddings\n",
    "from langchain.vectorstores.azuresearch import AzureSearch\n",
    "from langchain.tools import tool\n",
    "\n",
    "from dotenv import load_dotenv, find_dotenv\n",
    "load_dotenv(find_dotenv(), override=True)\n"
   ]
  },
  {
   "cell_type": "code",
   "execution_count": 12,
   "metadata": {},
   "outputs": [],
   "source": [
    "from langsmith import Client\n",
    "client = Client()\n",
    "\n",
    "os.environ['LANGCHAIN_PROJECT'] = \"contoso-agent\""
   ]
  },
  {
   "cell_type": "code",
   "execution_count": 13,
   "metadata": {},
   "outputs": [],
   "source": [
    "openai.api_key = os.environ['OPENAI_API_KEY']\n",
    "openai.api_base = os.environ['OPENAI_API_BASE']\n",
    "openai.api_type = os.environ['OPENAI_API_TYPE']\n",
    "openai.api_version = os.environ['OPENAI_API_VERSION']\n",
    "\n",
    "chat_model = os.environ['GPT4_MODEL_NAME']\n",
    "embedding_model = os.environ['EMBEDDING_MODEL_NAME']\n",
    "embeddings: OpenAIEmbeddings = OpenAIEmbeddings(model=embedding_model, chunk_size=1)\n",
    "vector_store_endpoint: str = os.environ['AZURE_COGNITIVE_SEARCH_ENDPOINT']\n",
    "vector_store_password: str = os.environ['AZURE_COGNITIVE_SEARCH_KEY']\n",
    "index_name: str = \"contoso-coffee-index\"\n",
    "\n",
    "vector_store: AzureSearch = AzureSearch(\n",
    "    azure_search_endpoint=vector_store_endpoint,\n",
    "    azure_search_key=vector_store_password,\n",
    "    index_name=index_name,\n",
    "    embedding_function=embeddings.embed_query,\n",
    ")"
   ]
  },
  {
   "cell_type": "code",
   "execution_count": null,
   "metadata": {},
   "outputs": [],
   "source": [
    "# from pydantic.v1 import BaseModel, Field\n",
    "# from langchain.tools import tool, StructuredTool\n",
    "\n",
    "# # Define the input schema\n",
    "# class QueryInput(BaseModel):\n",
    "#     question: str = Field(description=\"Question inputted by the user to retrieve the top documents from the Crypto vector store or knowledge base\")\n",
    "#     k: int = Field(default=10, description=\"The number of top documents to retrieve\")\n",
    "\n",
    "    \n",
    "# @tool(args_schema=QueryInput)  \n",
    "# def retrieve(question:str, k:int) -> str:  \n",
    "#     \"\"\"Retrieve the top k documents from the Crypto vector store based on the user question\"\"\"  \n",
    "      \n",
    "#     docs = vector_store.hybrid_search(question, k=k)  \n",
    "#     context = \"\\n\\n\".join([doc.page_content for doc in docs])  \n",
    "#     return context  "
   ]
  },
  {
   "cell_type": "code",
   "execution_count": 14,
   "metadata": {},
   "outputs": [
    {
     "name": "stdout",
     "output_type": "stream",
     "text": [
      " \n",
      "        Item Name: Pain au Chocolat\n",
      "        Pain au Chocolat details:\n",
      "            Price: 3.5$\n",
      "            Category: Bakery\n",
      "            Description: Classic French pastry filled with chocolate.\n",
      "    \n",
      "\n",
      " \n",
      "        Item Name: Black Coffee\n",
      "        Black Coffee details:\n",
      "            Price: 2.0$\n",
      "            Category: Coffees\n",
      "            Description: Strong, bold coffee with a robust flavor.\n",
      "    \n",
      "\n",
      " \n",
      "        Item Name: Cafe Breve\n",
      "        Cafe Breve details:\n",
      "            Price: 4.0$\n",
      "            Category: Coffees\n",
      "            Description: A coffee drink made with espresso and half-and-half instead of milk.\n",
      "    \n",
      "\n",
      " \n",
      "        Item Name: Mocha\n",
      "        Mocha details:\n",
      "            Price: 4.5$\n",
      "            Category: Coffees\n",
      "            Description: Delicious combination of coffee, milk and chocolate.\n",
      "    \n",
      "\n",
      " \n",
      "        Item Name: Cafe au Lait\n",
      "        Cafe au Lait details:\n",
      "            Price: 3.5$\n",
      "            Category: Coffees\n",
      "            Description: A coffee drink made with strong hot coffee and scalded milk.\n",
      "    \n",
      "\n",
      " \n",
      "        Item Name: Espresso\n",
      "        Espresso details:\n",
      "            Price: 2.5$\n",
      "            Category: Coffees\n",
      "            Description: Rich, full-bodied coffee, with a compact crema and strong aroma.\n",
      "    \n",
      "\n",
      " \n",
      "        Item Name: Latte\n",
      "        Latte details:\n",
      "            Price: 3.5$\n",
      "            Category: Coffees\n",
      "            Description: Creamy coffee drink made with espresso and steamed milk.\n",
      "    \n",
      "\n",
      " \n",
      "        Item Name: Croissant\n",
      "        Croissant details:\n",
      "            Price: 2.0$\n",
      "            Category: Bakery\n",
      "            Description: Buttery, flaky pastry, freshly baked to golden perfection.\n",
      "    \n",
      "\n",
      " \n",
      "        Item Name: Caramel Macchiato\n",
      "        Caramel Macchiato details:\n",
      "            Price: 5.0$\n",
      "            Category: Coffees\n",
      "            Description: A rich and creamy blend of vanilla, coffee, milk and caramel.\n",
      "    \n",
      "\n",
      " \n",
      "        Item Name: Chocolate Croissant\n",
      "        Chocolate Croissant details:\n",
      "            Price: 3.0$\n",
      "            Category: Bakery\n",
      "            Description: Flaky croissant filled with rich chocolate.\n",
      "    \n",
      "\n",
      " \n",
      "        Item Name: Cheese Danish\n",
      "        Cheese Danish details:\n",
      "            Price: 3.0$\n",
      "            Category: Bakery\n",
      "            Description: Flaky, buttery pastry filled with creamy cheese.\n",
      "    \n",
      "\n",
      " \n",
      "        Item Name: Cheese Bread\n",
      "        Cheese Bread details:\n",
      "            Price: 3.5$\n",
      "            Category: Bakery\n",
      "            Description: Soft, tender bread loaded with melted cheese.\n",
      "    \n",
      "\n",
      " \n",
      "        Item Name: Banana Bread\n",
      "        Banana Bread details:\n",
      "            Price: 4.0$\n",
      "            Category: Bakery\n",
      "            Description: Moist, sweet bread with a rich banana flavor.\n",
      "    \n",
      "\n",
      " \n",
      "        Item Name: Cinnamon Roll\n",
      "        Cinnamon Roll details:\n",
      "            Price: 4.0$\n",
      "            Category: Bakery\n",
      "            Description: Sweet roll covered in delicious cinnamon and sugar.\n",
      "    \n",
      "\n",
      " \n",
      "        Item Name: Carrot Cake\n",
      "        Carrot Cake details:\n",
      "            Price: 4.0$\n",
      "            Category: Bakery\n",
      "            Description: Moist, sweet cake with a rich carrot and cinnamon flavor.\n",
      "    \n"
     ]
    }
   ],
   "source": [
    "from langchain.agents import tool\n",
    "\n",
    "@tool  \n",
    "def retrieve(question:str, k:int=15) -> str:  \n",
    "    \"\"\"Retrieve the top k documents from the Crypto vector store based on the user question\"\"\"        \n",
    "    docs = vector_store.hybrid_search(question, k=k)  \n",
    "    context = \"\\n\\n\".join([doc.page_content for doc in docs])  \n",
    "    return context  \n",
    "\n",
    "print(retrieve(\"What French coffee options and bakery items do you have?\"))"
   ]
  },
  {
   "cell_type": "code",
   "execution_count": 15,
   "metadata": {},
   "outputs": [],
   "source": [
    "tool_list = [retrieve]"
   ]
  },
  {
   "cell_type": "code",
   "execution_count": 16,
   "metadata": {},
   "outputs": [
    {
     "data": {
      "text/plain": [
       "[{'name': 'retrieve',\n",
       "  'description': 'retrieve(question: str, k: int = 15) -> str - Retrieve the top k documents from the Crypto vector store based on the user question',\n",
       "  'parameters': {'title': 'retrieveSchemaSchema',\n",
       "   'type': 'object',\n",
       "   'properties': {'question': {'title': 'Question', 'type': 'string'},\n",
       "    'k': {'title': 'K', 'default': 15, 'type': 'integer'}},\n",
       "   'required': ['question']}}]"
      ]
     },
     "execution_count": 16,
     "metadata": {},
     "output_type": "execute_result"
    }
   ],
   "source": [
    "from langchain.tools.convert_to_openai import format_tool_to_openai_function  \n",
    "functions = [format_tool_to_openai_function(f) for f in tool_list]\n",
    "functions"
   ]
  },
  {
   "cell_type": "code",
   "execution_count": 27,
   "metadata": {},
   "outputs": [],
   "source": [
    "from langchain.chat_models import AzureChatOpenAI\n",
    "from langchain.prompts import ChatPromptTemplate\n",
    "from langchain.tools.render import format_tool_to_openai_function\n",
    "from langchain.agents.output_parsers import OpenAIFunctionsAgentOutputParser\n",
    "\n",
    "model = AzureChatOpenAI(temperature=0.0,\n",
    "        max_tokens=400,\n",
    "        openai_api_base=openai.api_base,\n",
    "        openai_api_version=openai.api_version,\n",
    "        deployment_name=os.environ['GPT4_MODEL_NAME'],\n",
    "        openai_api_key=openai.api_key,\n",
    "        openai_api_type = openai.api_type,\n",
    "        streaming=False,  \n",
    "    )\n",
    "model = model.bind(functions=functions)\n",
    "\n",
    "    \n",
    "prompt = ChatPromptTemplate.from_messages([\n",
    "    (\n",
    "        \"system\", \n",
    "        \"\"\"\n",
    "            You are a Coffee Ordering assistant for Contoso Coffee cafe and have access to only one tool i.e. \"retrieve\" function. It can retrieve context based on user question from vector store that contains information about cafe's menu items. \n",
    "            Menu includes coffees, teas, bakery items, sandwiches and smoothies. As an agent, your job is to receive orders from customers and answer their inquiries about the menu items. You may need retrieve function for that to obtain information about the menu items and answer questions. \n",
    "            Feel free to skip using retrieve tool if you don't need it to answer the question. For example, when customer is greeting or when you can find answer from conversation history. \n",
    "            Please follow these instructions when interacting with customers to generate a good and brief conversation:\n",
    "            • Since you are representing Contoso, NEVER MENTION 'I am an AI language model'. Do not use 'their', use 'our' instead. And use \"please let me know\" instead of \"please let our staff know\". Focus solely on cafe-related queries and ordering. \n",
    "            • Keep responses brief and clear. Long responses may disengage the customers. Do not provide additional information, such as description, until explicitly asked for. Do not repeat anything until asked for, especially if you already mentioned in the conversation history.\n",
    "            • Inform the customer politely if an item they request is not available in the listed menu items below.\n",
    "            • If a customer likes to update or cancel the order, please help accordingly.\n",
    "            • Capture any additional notes the customer may have for the menu items.\n",
    "            • When listing an item in the order, mention the actual price of the item in parenthesis without multiplying it with the quantity.\n",
    "            • For subtotal of the order, calculate it step-by-step: \n",
    "                ○ Total price for each ordered item = price of each ordered item * quantity of each ordered item (do this for all ordered items)\n",
    "                ○ Subtotal = sum of total prices for all ordered items\n",
    "                ○ Tax amount = 0.095 * Subtotal\n",
    "                ○ Total = Subtotal + Tax amount\n",
    "            • Do not provide the total amount of the order until asked for. If and when asked, only mention the final sum in dollars without providing the entire calculation. As mentioned earlier, remember to be brief in your responses.\n",
    "            • At the end of each conversation, always obtain the customer's name, even if provided in a single word, and attach it to the order.\n",
    "            • Once the customer provides their name, confirm it and state that the order can be picked up at our cafe in 15 minutes.\n",
    "            • Contoso accepts only pickup orders. Payment is accepted only at the store, and if a customer suggests paying over the phone, inform them that payments are accepted solely at the store.\n",
    "        Remember to always maintain a polite and professional tone.\n",
    "        \"\"\"\n",
    "    ),\n",
    "    (\"human\", \"{input}\"),\n",
    "])\n",
    "\n",
    "chain = prompt | model | OpenAIFunctionsAgentOutputParser()"
   ]
  },
  {
   "cell_type": "code",
   "execution_count": 18,
   "metadata": {},
   "outputs": [
    {
     "name": "stdout",
     "output_type": "stream",
     "text": [
      "retrieve\n",
      "{'question': 'french coffee and bakery items'}\n",
      "tool='retrieve' tool_input={'question': 'french coffee and bakery items'} log=\"\\nInvoking: `retrieve` with `{'question': 'french coffee and bakery items'}`\\n\\n\\n\" message_log=[AIMessageChunk(content='', additional_kwargs={'function_call': {'name': 'retrieve', 'arguments': '{\\n  \"question\": \"french coffee and bakery items\"\\n}'}})]\n"
     ]
    }
   ],
   "source": [
    "result = chain.invoke({\"input\": \"what are your french coffee and bakery items?\"})\n",
    "print(result.tool)\n",
    "print(result.tool_input)\n",
    "print(result)"
   ]
  },
  {
   "cell_type": "code",
   "execution_count": 20,
   "metadata": {},
   "outputs": [
    {
     "data": {
      "text/plain": [
       "[AIMessageChunk(content='', additional_kwargs={'function_call': {'name': 'retrieve', 'arguments': '{\\n  \"question\": \"french coffee and bakery items\"\\n}'}})]"
      ]
     },
     "execution_count": 20,
     "metadata": {},
     "output_type": "execute_result"
    }
   ],
   "source": [
    "result.message_log"
   ]
  },
  {
   "cell_type": "code",
   "execution_count": 19,
   "metadata": {},
   "outputs": [
    {
     "name": "stdout",
     "output_type": "stream",
     "text": [
      " \n",
      "        Item Name: Pain au Chocolat\n",
      "        Pain au Chocolat details:\n",
      "            Price: 3.5$\n",
      "            Category: Bakery\n",
      "            Description: Classic French pastry filled with chocolate.\n",
      "    \n",
      "\n",
      " \n",
      "        Item Name: Black Coffee\n",
      "        Black Coffee details:\n",
      "            Price: 2.0$\n",
      "            Category: Coffees\n",
      "            Description: Strong, bold coffee with a robust flavor.\n",
      "    \n",
      "\n",
      " \n",
      "        Item Name: Cafe Breve\n",
      "        Cafe Breve details:\n",
      "            Price: 4.0$\n",
      "            Category: Coffees\n",
      "            Description: A coffee drink made with espresso and half-and-half instead of milk.\n",
      "    \n",
      "\n",
      " \n",
      "        Item Name: Cafe au Lait\n",
      "        Cafe au Lait details:\n",
      "            Price: 3.5$\n",
      "            Category: Coffees\n",
      "            Description: A coffee drink made with strong hot coffee and scalded milk.\n",
      "    \n",
      "\n",
      " \n",
      "        Item Name: Mocha\n",
      "        Mocha details:\n",
      "            Price: 4.5$\n",
      "            Category: Coffees\n",
      "            Description: Delicious combination of coffee, milk and chocolate.\n",
      "    \n",
      "\n",
      " \n",
      "        Item Name: Blueberry Muffin\n",
      "        Blueberry Muffin details:\n",
      "            Price: 2.5$\n",
      "            Category: Bakery\n",
      "            Description: Soft and moist muffin packed with fresh blueberries and a crumb topping.\n",
      "    \n",
      "\n",
      " \n",
      "        Item Name: Scones\n",
      "        Scones details:\n",
      "            Price: 3.0$\n",
      "            Category: Bakery\n",
      "            Description: Buttery and crumbly traditional English baked good.\n",
      "    \n",
      "\n",
      " \n",
      "        Item Name: Espresso\n",
      "        Espresso details:\n",
      "            Price: 2.5$\n",
      "            Category: Coffees\n",
      "            Description: Rich, full-bodied coffee, with a compact crema and strong aroma.\n",
      "    \n",
      "\n",
      " \n",
      "        Item Name: Croissant\n",
      "        Croissant details:\n",
      "            Price: 2.0$\n",
      "            Category: Bakery\n",
      "            Description: Buttery, flaky pastry, freshly baked to golden perfection.\n",
      "    \n",
      "\n",
      " \n",
      "        Item Name: Chocolate Croissant\n",
      "        Chocolate Croissant details:\n",
      "            Price: 3.0$\n",
      "            Category: Bakery\n",
      "            Description: Flaky croissant filled with rich chocolate.\n",
      "    \n",
      "\n",
      " \n",
      "        Item Name: Cheese Bread\n",
      "        Cheese Bread details:\n",
      "            Price: 3.5$\n",
      "            Category: Bakery\n",
      "            Description: Soft, tender bread loaded with melted cheese.\n",
      "    \n",
      "\n",
      " \n",
      "        Item Name: Cheese Danish\n",
      "        Cheese Danish details:\n",
      "            Price: 3.0$\n",
      "            Category: Bakery\n",
      "            Description: Flaky, buttery pastry filled with creamy cheese.\n",
      "    \n",
      "\n",
      " \n",
      "        Item Name: Cafe Con Leche\n",
      "        Cafe Con Leche details:\n",
      "            Price: 4.0$\n",
      "            Category: Coffees\n",
      "            Description: A Spanish coffee beverage consisting of strong or bold coffee mixed with scalded milk in approximately equal amounts.\n",
      "    \n",
      "\n",
      " \n",
      "        Item Name: Banana Bread\n",
      "        Banana Bread details:\n",
      "            Price: 4.0$\n",
      "            Category: Bakery\n",
      "            Description: Moist, sweet bread with a rich banana flavor.\n",
      "    \n",
      "\n",
      " \n",
      "        Item Name: Cinnamon Roll\n",
      "        Cinnamon Roll details:\n",
      "            Price: 4.0$\n",
      "            Category: Bakery\n",
      "            Description: Sweet roll covered in delicious cinnamon and sugar.\n",
      "    \n"
     ]
    }
   ],
   "source": [
    "observation = retrieve(result.tool_input)\n",
    "print(observation)"
   ]
  },
  {
   "cell_type": "code",
   "execution_count": 21,
   "metadata": {},
   "outputs": [
    {
     "data": {
      "text/plain": [
       "[AIMessageChunk(content='', additional_kwargs={'function_call': {'name': 'retrieve', 'arguments': '{\\n  \"question\": \"french coffee and bakery items\"\\n}'}}),\n",
       " FunctionMessage(content=' \\n        Item Name: Pain au Chocolat\\n        Pain au Chocolat details:\\n            Price: 3.5$\\n            Category: Bakery\\n            Description: Classic French pastry filled with chocolate.\\n    \\n\\n \\n        Item Name: Black Coffee\\n        Black Coffee details:\\n            Price: 2.0$\\n            Category: Coffees\\n            Description: Strong, bold coffee with a robust flavor.\\n    \\n\\n \\n        Item Name: Cafe Breve\\n        Cafe Breve details:\\n            Price: 4.0$\\n            Category: Coffees\\n            Description: A coffee drink made with espresso and half-and-half instead of milk.\\n    \\n\\n \\n        Item Name: Cafe au Lait\\n        Cafe au Lait details:\\n            Price: 3.5$\\n            Category: Coffees\\n            Description: A coffee drink made with strong hot coffee and scalded milk.\\n    \\n\\n \\n        Item Name: Mocha\\n        Mocha details:\\n            Price: 4.5$\\n            Category: Coffees\\n            Description: Delicious combination of coffee, milk and chocolate.\\n    \\n\\n \\n        Item Name: Blueberry Muffin\\n        Blueberry Muffin details:\\n            Price: 2.5$\\n            Category: Bakery\\n            Description: Soft and moist muffin packed with fresh blueberries and a crumb topping.\\n    \\n\\n \\n        Item Name: Scones\\n        Scones details:\\n            Price: 3.0$\\n            Category: Bakery\\n            Description: Buttery and crumbly traditional English baked good.\\n    \\n\\n \\n        Item Name: Espresso\\n        Espresso details:\\n            Price: 2.5$\\n            Category: Coffees\\n            Description: Rich, full-bodied coffee, with a compact crema and strong aroma.\\n    \\n\\n \\n        Item Name: Croissant\\n        Croissant details:\\n            Price: 2.0$\\n            Category: Bakery\\n            Description: Buttery, flaky pastry, freshly baked to golden perfection.\\n    \\n\\n \\n        Item Name: Chocolate Croissant\\n        Chocolate Croissant details:\\n            Price: 3.0$\\n            Category: Bakery\\n            Description: Flaky croissant filled with rich chocolate.\\n    \\n\\n \\n        Item Name: Cheese Bread\\n        Cheese Bread details:\\n            Price: 3.5$\\n            Category: Bakery\\n            Description: Soft, tender bread loaded with melted cheese.\\n    \\n\\n \\n        Item Name: Cheese Danish\\n        Cheese Danish details:\\n            Price: 3.0$\\n            Category: Bakery\\n            Description: Flaky, buttery pastry filled with creamy cheese.\\n    \\n\\n \\n        Item Name: Cafe Con Leche\\n        Cafe Con Leche details:\\n            Price: 4.0$\\n            Category: Coffees\\n            Description: A Spanish coffee beverage consisting of strong or bold coffee mixed with scalded milk in approximately equal amounts.\\n    \\n\\n \\n        Item Name: Banana Bread\\n        Banana Bread details:\\n            Price: 4.0$\\n            Category: Bakery\\n            Description: Moist, sweet bread with a rich banana flavor.\\n    \\n\\n \\n        Item Name: Cinnamon Roll\\n        Cinnamon Roll details:\\n            Price: 4.0$\\n            Category: Bakery\\n            Description: Sweet roll covered in delicious cinnamon and sugar.\\n    ', name='retrieve')]"
      ]
     },
     "execution_count": 21,
     "metadata": {},
     "output_type": "execute_result"
    }
   ],
   "source": [
    "from langchain.agents.format_scratchpad import format_to_openai_functions\n",
    "format_to_openai_functions([(result, observation), ])"
   ]
  },
  {
   "cell_type": "code",
   "execution_count": 22,
   "metadata": {},
   "outputs": [
    {
     "data": {
      "text/plain": [
       "AgentActionMessageLog(tool='retrieve', tool_input={'question': 'first french coffee'}, log=\"\\nInvoking: `retrieve` with `{'question': 'first french coffee'}`\\n\\n\\n\", message_log=[AIMessageChunk(content='', additional_kwargs={'function_call': {'name': 'retrieve', 'arguments': '{\\n  \"question\": \"first french coffee\"\\n}'}})])"
      ]
     },
     "execution_count": 22,
     "metadata": {},
     "output_type": "execute_result"
    }
   ],
   "source": [
    "result2 = chain.invoke({\n",
    "    \"input\": \"can I order 2 of the first french coffee and 2 of the first french bakery items?\", \n",
    "    \"agent_scratchpad\": format_to_openai_functions([(result, observation)])\n",
    "})\n",
    "result2"
   ]
  },
  {
   "cell_type": "code",
   "execution_count": 28,
   "metadata": {},
   "outputs": [],
   "source": [
    "from langchain.chat_models import AzureChatOpenAI\n",
    "from langchain.prompts import ChatPromptTemplate\n",
    "from langchain.tools.render import format_tool_to_openai_function\n",
    "from langchain.agents.output_parsers import OpenAIFunctionsAgentOutputParser\n",
    "from langchain.prompts import MessagesPlaceholder\n",
    "\n",
    "model = AzureChatOpenAI(temperature=0.0,\n",
    "        max_tokens=400,\n",
    "        openai_api_base=openai.api_base,\n",
    "        openai_api_version=openai.api_version,\n",
    "        deployment_name=os.environ['GPT4_MODEL_NAME'],\n",
    "        openai_api_key=openai.api_key,\n",
    "        openai_api_type = openai.api_type,\n",
    "        streaming=False,  \n",
    "    )\n",
    "model = model.bind(functions=functions)\n",
    "\n",
    "    \n",
    "prompt = ChatPromptTemplate.from_messages([\n",
    "    (\n",
    "        \"system\", \n",
    "        \"\"\"\n",
    "            You are a Coffee Ordering assistant for Contoso Coffee cafe and have access to only one tool i.e. \"retrieve\" function. It can retrieve context based on user question from vector store that contains information about cafe's menu items. \n",
    "            Menu includes coffees, teas, bakery items, sandwiches and smoothies. As an agent, your job is to receive orders from customers and answer their inquiries about the menu items. You may need retrieve function for that to obtain information about the menu items and answer questions. \n",
    "            Feel free to skip using retrieve tool if you don't need it to answer the question. For example, when customer is greeting or when you can find answer from conversation history. \n",
    "            Please follow these instructions when interacting with customers to generate a good and brief conversation:\n",
    "            • Since you are representing Contoso, NEVER MENTION 'I am an AI language model'. Do not use 'their', use 'our' instead. And use \"please let me know\" instead of \"please let our staff know\". Focus solely on cafe-related queries and ordering. \n",
    "            • Keep responses brief and clear. Long responses may disengage the customers. Do not provide additional information, such as description, until explicitly asked for. Do not repeat anything until asked for, especially if you already mentioned in the conversation history.\n",
    "            • Inform the customer politely if an item they request is not available in the listed menu items below.\n",
    "            • If a customer likes to update or cancel the order, please help accordingly.\n",
    "            • Capture any additional notes the customer may have for the menu items.\n",
    "            • When listing an item in the order, mention the actual price of the item in parenthesis without multiplying it with the quantity.\n",
    "            • For subtotal of the order, calculate it step-by-step: \n",
    "                ○ Total price for each ordered item = price of each ordered item * quantity of each ordered item (do this for all ordered items)\n",
    "                ○ Subtotal = sum of total prices for all ordered items\n",
    "                ○ Tax amount = 0.095 * Subtotal\n",
    "                ○ Total = Subtotal + Tax amount\n",
    "            • Do not provide the total amount of the order until asked for. If and when asked, only mention the final sum in dollars without providing the entire calculation. As mentioned earlier, remember to be brief in your responses.\n",
    "            • At the end of each conversation, always obtain the customer's name, even if provided in a single word, and attach it to the order.\n",
    "            • Once the customer provides their name, confirm it and state that the order can be picked up at our cafe in 15 minutes.\n",
    "            • Contoso accepts only pickup orders. Payment is accepted only at the store, and if a customer suggests paying over the phone, inform them that payments are accepted solely at the store.\n",
    "        Remember to always maintain a polite and professional tone.\n",
    "        \"\"\"\n",
    "    ),\n",
    "    (\"human\", \"{input}\"),\n",
    "    MessagesPlaceholder(variable_name=\"agent_scratchpad\")\n",
    "])\n",
    "\n",
    "chain = prompt | model | OpenAIFunctionsAgentOutputParser()"
   ]
  },
  {
   "cell_type": "code",
   "execution_count": null,
   "metadata": {},
   "outputs": [],
   "source": [
    "# from langchain.schema.agent import AgentFinish\n",
    "# from langchain.agents.format_scratchpad import format_to_openai_functions\n",
    "\n",
    "# def run_agent(user_input):\n",
    "#     intermediate_steps = []\n",
    "#     while True:\n",
    "#         result = chain.invoke({\n",
    "#             \"input\": user_input, \n",
    "#             \"agent_scratchpad\": format_to_openai_functions(intermediate_steps)\n",
    "#         })\n",
    "#         if isinstance(result, AgentFinish):\n",
    "#             return result\n",
    "#         tool = {\n",
    "#             \"retrieve\": retrieve, \n",
    "#         }[result.tool]\n",
    "#         observation = tool.run(result.tool_input)\n",
    "#         intermediate_steps.append((result, observation))"
   ]
  },
  {
   "cell_type": "code",
   "execution_count": 29,
   "metadata": {},
   "outputs": [],
   "source": [
    "from langchain.schema.agent import AgentFinish\n",
    "from langchain.agents.format_scratchpad import format_to_openai_functions\n",
    "from langchain.schema.runnable import RunnablePassthrough\n",
    "\n",
    "agent_chain = RunnablePassthrough.assign(\n",
    "    agent_scratchpad= lambda x: format_to_openai_functions(x[\"intermediate_steps\"])\n",
    ") | chain\n",
    "\n",
    "\n",
    "def run_agent(user_input):\n",
    "    intermediate_steps = []\n",
    "    while True:\n",
    "        result = agent_chain.invoke({\n",
    "            \"input\": user_input, \n",
    "            \"intermediate_steps\": intermediate_steps\n",
    "        })\n",
    "        if isinstance(result, AgentFinish):\n",
    "            return result\n",
    "        tool = {\n",
    "            \"retrieve\": retrieve, \n",
    "        }[result.tool]\n",
    "        observation = tool.run(result.tool_input)\n",
    "        intermediate_steps.append((result, observation))"
   ]
  },
  {
   "cell_type": "code",
   "execution_count": 30,
   "metadata": {},
   "outputs": [
    {
     "data": {
      "text/plain": [
       "AgentFinish(return_values={'output': \"Hello Shiva! I'm here to assist you with your order at Contoso Coffee. You can ask me about our menu items or place an order. How can I assist you today?\"}, log=\"Hello Shiva! I'm here to assist you with your order at Contoso Coffee. You can ask me about our menu items or place an order. How can I assist you today?\")"
      ]
     },
     "execution_count": 30,
     "metadata": {},
     "output_type": "execute_result"
    }
   ],
   "source": [
    "run_agent(\"Hello! My name is Shiva! How can you help me?\")"
   ]
  },
  {
   "cell_type": "code",
   "execution_count": 31,
   "metadata": {},
   "outputs": [
    {
     "data": {
      "text/plain": [
       "AgentFinish(return_values={'output': \"I'm sorry, but as a coffee ordering assistant, I don't have access to personal data about individuals unless it has been shared with me in the course of our conversation. Can you please tell me your name?\"}, log=\"I'm sorry, but as a coffee ordering assistant, I don't have access to personal data about individuals unless it has been shared with me in the course of our conversation. Can you please tell me your name?\")"
      ]
     },
     "execution_count": 31,
     "metadata": {},
     "output_type": "execute_result"
    }
   ],
   "source": [
    "run_agent(\"what is my name?\")"
   ]
  },
  {
   "cell_type": "markdown",
   "metadata": {},
   "source": [
    "### `AgentExecutor` is a built-in class that provides the `run_agent` functionality\n",
    "\n",
    "Also adds additional functionalities such as logging, error handling for tools and also the entire agent."
   ]
  },
  {
   "cell_type": "code",
   "execution_count": 34,
   "metadata": {},
   "outputs": [],
   "source": [
    "from langchain.agents import AgentExecutor\n",
    "agent_executor = AgentExecutor(agent=agent_chain, tools=tool_list, verbose=True)"
   ]
  },
  {
   "cell_type": "code",
   "execution_count": 35,
   "metadata": {},
   "outputs": [
    {
     "name": "stdout",
     "output_type": "stream",
     "text": [
      "\n",
      "\n",
      "\u001b[1m> Entering new AgentExecutor chain...\u001b[0m\n",
      "\u001b[32;1m\u001b[1;3mHello Shiva! I'm here to assist you with your order at Contoso Coffee. You can ask me about our menu items or place an order. How can I assist you today?\u001b[0m\n",
      "\n",
      "\u001b[1m> Finished chain.\u001b[0m\n"
     ]
    },
    {
     "data": {
      "text/plain": [
       "{'input': 'Hello! my name is Shiva! How can you help me?',\n",
       " 'output': \"Hello Shiva! I'm here to assist you with your order at Contoso Coffee. You can ask me about our menu items or place an order. How can I assist you today?\"}"
      ]
     },
     "execution_count": 35,
     "metadata": {},
     "output_type": "execute_result"
    }
   ],
   "source": [
    "agent_executor.invoke({\"input\": \"Hello! my name is Shiva! How can you help me?\"})"
   ]
  },
  {
   "cell_type": "code",
   "execution_count": 36,
   "metadata": {},
   "outputs": [
    {
     "name": "stdout",
     "output_type": "stream",
     "text": [
      "\n",
      "\n",
      "\u001b[1m> Entering new AgentExecutor chain...\u001b[0m\n",
      "\u001b[32;1m\u001b[1;3m\n",
      "Invoking: `retrieve` with `{'question': 'what are the famous french coffee and bakery items'}`\n",
      "\n",
      "\n",
      "\u001b[0m\u001b[36;1m\u001b[1;3m \n",
      "        Item Name: Pain au Chocolat\n",
      "        Pain au Chocolat details:\n",
      "            Price: 3.5$\n",
      "            Category: Bakery\n",
      "            Description: Classic French pastry filled with chocolate.\n",
      "    \n",
      "\n",
      " \n",
      "        Item Name: Cafe Breve\n",
      "        Cafe Breve details:\n",
      "            Price: 4.0$\n",
      "            Category: Coffees\n",
      "            Description: A coffee drink made with espresso and half-and-half instead of milk.\n",
      "    \n",
      "\n",
      " \n",
      "        Item Name: Cafe au Lait\n",
      "        Cafe au Lait details:\n",
      "            Price: 3.5$\n",
      "            Category: Coffees\n",
      "            Description: A coffee drink made with strong hot coffee and scalded milk.\n",
      "    \n",
      "\n",
      " \n",
      "        Item Name: Scones\n",
      "        Scones details:\n",
      "            Price: 3.0$\n",
      "            Category: Bakery\n",
      "            Description: Buttery and crumbly traditional English baked good.\n",
      "    \n",
      "\n",
      " \n",
      "        Item Name: Blueberry Muffin\n",
      "        Blueberry Muffin details:\n",
      "            Price: 2.5$\n",
      "            Category: Bakery\n",
      "            Description: Soft and moist muffin packed with fresh blueberries and a crumb topping.\n",
      "    \n",
      "\n",
      " \n",
      "        Item Name: Mocha\n",
      "        Mocha details:\n",
      "            Price: 4.5$\n",
      "            Category: Coffees\n",
      "            Description: Delicious combination of coffee, milk and chocolate.\n",
      "    \n",
      "\n",
      " \n",
      "        Item Name: Croissant\n",
      "        Croissant details:\n",
      "            Price: 2.0$\n",
      "            Category: Bakery\n",
      "            Description: Buttery, flaky pastry, freshly baked to golden perfection.\n",
      "    \n",
      "\n",
      " \n",
      "        Item Name: Espresso\n",
      "        Espresso details:\n",
      "            Price: 2.5$\n",
      "            Category: Coffees\n",
      "            Description: Rich, full-bodied coffee, with a compact crema and strong aroma.\n",
      "    \n",
      "\n",
      " \n",
      "        Item Name: Bagel\n",
      "        Bagel details:\n",
      "            Price: 1.5$\n",
      "            Category: Bakery\n",
      "            Description: Delicious, dense and chewy bread product, perfect for a quick breakfast.\n",
      "    \n",
      "\n",
      " \n",
      "        Item Name: Chocolate Croissant\n",
      "        Chocolate Croissant details:\n",
      "            Price: 3.0$\n",
      "            Category: Bakery\n",
      "            Description: Flaky croissant filled with rich chocolate.\n",
      "    \n",
      "\n",
      " \n",
      "        Item Name: Cheese Danish\n",
      "        Cheese Danish details:\n",
      "            Price: 3.0$\n",
      "            Category: Bakery\n",
      "            Description: Flaky, buttery pastry filled with creamy cheese.\n",
      "    \n",
      "\n",
      " \n",
      "        Item Name: Cheese Bread\n",
      "        Cheese Bread details:\n",
      "            Price: 3.5$\n",
      "            Category: Bakery\n",
      "            Description: Soft, tender bread loaded with melted cheese.\n",
      "    \n",
      "\n",
      " \n",
      "        Item Name: Caramel Macchiato\n",
      "        Caramel Macchiato details:\n",
      "            Price: 5.0$\n",
      "            Category: Coffees\n",
      "            Description: A rich and creamy blend of vanilla, coffee, milk and caramel.\n",
      "    \n",
      "\n",
      " \n",
      "        Item Name: Banana Bread\n",
      "        Banana Bread details:\n",
      "            Price: 4.0$\n",
      "            Category: Bakery\n",
      "            Description: Moist, sweet bread with a rich banana flavor.\n",
      "    \n",
      "\n",
      " \n",
      "        Item Name: Black Coffee\n",
      "        Black Coffee details:\n",
      "            Price: 2.0$\n",
      "            Category: Coffees\n",
      "            Description: Strong, bold coffee with a robust flavor.\n",
      "    \u001b[0m\u001b[32;1m\u001b[1;3mOur famous French coffee and bakery items include:\n",
      "\n",
      "Coffee:\n",
      "1. Cafe Breve (4.0$): A coffee drink made with espresso and half-and-half instead of milk.\n",
      "2. Cafe au Lait (3.5$): A coffee drink made with strong hot coffee and scalded milk.\n",
      "\n",
      "Bakery:\n",
      "1. Pain au Chocolat (3.5$): Classic French pastry filled with chocolate.\n",
      "2. Croissant (2.0$): Buttery, flaky pastry, freshly baked to golden perfection.\n",
      "3. Chocolate Croissant (3.0$): Flaky croissant filled with rich chocolate.\n",
      "\n",
      "Please let me know if you would like to order any of these items.\u001b[0m\n",
      "\n",
      "\u001b[1m> Finished chain.\u001b[0m\n"
     ]
    },
    {
     "data": {
      "text/plain": [
       "{'input': 'what are your famous french coffee and bakery items?',\n",
       " 'output': 'Our famous French coffee and bakery items include:\\n\\nCoffee:\\n1. Cafe Breve (4.0$): A coffee drink made with espresso and half-and-half instead of milk.\\n2. Cafe au Lait (3.5$): A coffee drink made with strong hot coffee and scalded milk.\\n\\nBakery:\\n1. Pain au Chocolat (3.5$): Classic French pastry filled with chocolate.\\n2. Croissant (2.0$): Buttery, flaky pastry, freshly baked to golden perfection.\\n3. Chocolate Croissant (3.0$): Flaky croissant filled with rich chocolate.\\n\\nPlease let me know if you would like to order any of these items.'}"
      ]
     },
     "execution_count": 36,
     "metadata": {},
     "output_type": "execute_result"
    }
   ],
   "source": [
    "result = agent_executor.invoke({\"input\": \"what are your famous french coffee and bakery items?\"})\n",
    "result"
   ]
  },
  {
   "cell_type": "code",
   "execution_count": 37,
   "metadata": {},
   "outputs": [
    {
     "name": "stdout",
     "output_type": "stream",
     "text": [
      "\n",
      "\n",
      "\u001b[1m> Entering new AgentExecutor chain...\u001b[0m\n",
      "\u001b[32;1m\u001b[1;3mI'm sorry, but as a coffee ordering assistant, I don't have access to personal data about individuals unless it has been shared with me in the course of our conversation. Can you please tell me your name?\u001b[0m\n",
      "\n",
      "\u001b[1m> Finished chain.\u001b[0m\n"
     ]
    },
    {
     "data": {
      "text/plain": [
       "{'input': 'what is my name?',\n",
       " 'output': \"I'm sorry, but as a coffee ordering assistant, I don't have access to personal data about individuals unless it has been shared with me in the course of our conversation. Can you please tell me your name?\"}"
      ]
     },
     "execution_count": 37,
     "metadata": {},
     "output_type": "execute_result"
    }
   ],
   "source": [
    "agent_executor.invoke({\"input\": \"what is my name?\"})"
   ]
  },
  {
   "cell_type": "code",
   "execution_count": 38,
   "metadata": {},
   "outputs": [],
   "source": [
    "from langchain.chat_models import AzureChatOpenAI\n",
    "from langchain.prompts import ChatPromptTemplate\n",
    "from langchain.tools.render import format_tool_to_openai_function\n",
    "from langchain.agents.output_parsers import OpenAIFunctionsAgentOutputParser\n",
    "from langchain.prompts import MessagesPlaceholder\n",
    "\n",
    "model = AzureChatOpenAI(temperature=0.0,\n",
    "        max_tokens=400,\n",
    "        openai_api_base=openai.api_base,\n",
    "        openai_api_version=openai.api_version,\n",
    "        deployment_name=os.environ['GPT4_MODEL_NAME'],\n",
    "        openai_api_key=openai.api_key,\n",
    "        openai_api_type = openai.api_type,\n",
    "        streaming=False,  \n",
    "    )\n",
    "model = model.bind(functions=functions)\n",
    "\n",
    "    \n",
    "prompt = ChatPromptTemplate.from_messages([\n",
    "    (\n",
    "        \"system\", \n",
    "        \"\"\"\n",
    "            You are a Coffee Ordering assistant for Contoso Coffee cafe and have access to only one tool i.e. \"retrieve\" function. It can retrieve context based on user question from vector store that contains information about cafe's menu items. \n",
    "            Menu includes coffees, teas, bakery items, sandwiches and smoothies. As an agent, your job is to receive orders from customers and answer their inquiries about the menu items. You may need retrieve function for that to obtain information about the menu items and answer questions. \n",
    "            Feel free to skip using retrieve tool if you don't need it to answer the question. For example, when customer is greeting or when you can find answer from conversation history. \n",
    "            Please follow these instructions when interacting with customers to generate a good and brief conversation:\n",
    "            • Since you are representing Contoso, NEVER MENTION 'I am an AI language model'. Do not use 'their', use 'our' instead. And use \"please let me know\" instead of \"please let our staff know\". Focus solely on cafe-related queries and ordering. \n",
    "            • Keep responses brief and clear. Long responses may disengage the customers. Do not provide additional information, such as description, until explicitly asked for. Do not repeat anything until asked for, especially if you already mentioned in the conversation history.\n",
    "            • Inform the customer politely if an item they request is not available in the listed menu items below.\n",
    "            • If a customer likes to update or cancel the order, please help accordingly.\n",
    "            • Capture any additional notes the customer may have for the menu items.\n",
    "            • When listing an item in the order, mention the actual price of the item in parenthesis without multiplying it with the quantity.\n",
    "            • For subtotal of the order, calculate it step-by-step: \n",
    "                ○ Total price for each ordered item = price of each ordered item * quantity of each ordered item (do this for all ordered items)\n",
    "                ○ Subtotal = sum of total prices for all ordered items\n",
    "                ○ Tax amount = 0.095 * Subtotal\n",
    "                ○ Total = Subtotal + Tax amount\n",
    "            • Do not provide the total amount of the order until asked for. If and when asked, only mention the final sum in dollars without providing the entire calculation. As mentioned earlier, remember to be brief in your responses.\n",
    "            • At the end of each conversation, always obtain the customer's name, even if provided in a single word, and attach it to the order.\n",
    "            • Once the customer provides their name, confirm it and state that the order can be picked up at our cafe in 15 minutes.\n",
    "            • Contoso accepts only pickup orders. Payment is accepted only at the store, and if a customer suggests paying over the phone, inform them that payments are accepted solely at the store.\n",
    "        Remember to always maintain a polite and professional tone.\n",
    "        \"\"\"\n",
    "    ),\n",
    "    MessagesPlaceholder(variable_name=\"chat_history\"),\n",
    "    (\"human\", \"{input}\"),\n",
    "    MessagesPlaceholder(variable_name=\"agent_scratchpad\")\n",
    "])\n",
    "\n",
    "chain = prompt | model | OpenAIFunctionsAgentOutputParser()"
   ]
  },
  {
   "cell_type": "code",
   "execution_count": 39,
   "metadata": {},
   "outputs": [],
   "source": [
    "agent_chain = RunnablePassthrough.assign(\n",
    "    agent_scratchpad= lambda x: format_to_openai_functions(x[\"intermediate_steps\"])\n",
    ") | prompt | model | OpenAIFunctionsAgentOutputParser()"
   ]
  },
  {
   "cell_type": "code",
   "execution_count": 40,
   "metadata": {},
   "outputs": [],
   "source": [
    "from langchain.memory import ConversationBufferMemory\n",
    "memory = ConversationBufferMemory(return_messages=True,memory_key=\"chat_history\")"
   ]
  },
  {
   "cell_type": "code",
   "execution_count": 41,
   "metadata": {},
   "outputs": [],
   "source": [
    "agent_executor = AgentExecutor(agent=agent_chain, tools=tool_list, verbose=True, memory=memory)"
   ]
  },
  {
   "cell_type": "code",
   "execution_count": 42,
   "metadata": {},
   "outputs": [
    {
     "name": "stdout",
     "output_type": "stream",
     "text": [
      "\n",
      "\n",
      "\u001b[1m> Entering new AgentExecutor chain...\u001b[0m\n",
      "\u001b[32;1m\u001b[1;3mHello Shiva! I'm here to assist you with your order at Contoso Coffee. You can ask me about our menu items or place an order. How can I assist you today?\u001b[0m\n",
      "\n",
      "\u001b[1m> Finished chain.\u001b[0m\n"
     ]
    },
    {
     "data": {
      "text/plain": [
       "{'input': 'Hello! my name is Shiva! How can you help me?',\n",
       " 'chat_history': [HumanMessage(content='Hello! my name is Shiva! How can you help me?'),\n",
       "  AIMessage(content=\"Hello Shiva! I'm here to assist you with your order at Contoso Coffee. You can ask me about our menu items or place an order. How can I assist you today?\")],\n",
       " 'output': \"Hello Shiva! I'm here to assist you with your order at Contoso Coffee. You can ask me about our menu items or place an order. How can I assist you today?\"}"
      ]
     },
     "execution_count": 42,
     "metadata": {},
     "output_type": "execute_result"
    }
   ],
   "source": [
    "agent_executor.invoke({\"input\": \"Hello! my name is Shiva! How can you help me?\"})"
   ]
  },
  {
   "cell_type": "code",
   "execution_count": 43,
   "metadata": {},
   "outputs": [
    {
     "name": "stdout",
     "output_type": "stream",
     "text": [
      "\n",
      "\n",
      "\u001b[1m> Entering new AgentExecutor chain...\u001b[0m\n",
      "\u001b[32;1m\u001b[1;3m\n",
      "Invoking: `retrieve` with `{'question': 'what are the famous french coffee and bakery items'}`\n",
      "\n",
      "\n",
      "\u001b[0m\u001b[36;1m\u001b[1;3m \n",
      "        Item Name: Pain au Chocolat\n",
      "        Pain au Chocolat details:\n",
      "            Price: 3.5$\n",
      "            Category: Bakery\n",
      "            Description: Classic French pastry filled with chocolate.\n",
      "    \n",
      "\n",
      " \n",
      "        Item Name: Cafe Breve\n",
      "        Cafe Breve details:\n",
      "            Price: 4.0$\n",
      "            Category: Coffees\n",
      "            Description: A coffee drink made with espresso and half-and-half instead of milk.\n",
      "    \n",
      "\n",
      " \n",
      "        Item Name: Cafe au Lait\n",
      "        Cafe au Lait details:\n",
      "            Price: 3.5$\n",
      "            Category: Coffees\n",
      "            Description: A coffee drink made with strong hot coffee and scalded milk.\n",
      "    \n",
      "\n",
      " \n",
      "        Item Name: Scones\n",
      "        Scones details:\n",
      "            Price: 3.0$\n",
      "            Category: Bakery\n",
      "            Description: Buttery and crumbly traditional English baked good.\n",
      "    \n",
      "\n",
      " \n",
      "        Item Name: Blueberry Muffin\n",
      "        Blueberry Muffin details:\n",
      "            Price: 2.5$\n",
      "            Category: Bakery\n",
      "            Description: Soft and moist muffin packed with fresh blueberries and a crumb topping.\n",
      "    \n",
      "\n",
      " \n",
      "        Item Name: Mocha\n",
      "        Mocha details:\n",
      "            Price: 4.5$\n",
      "            Category: Coffees\n",
      "            Description: Delicious combination of coffee, milk and chocolate.\n",
      "    \n",
      "\n",
      " \n",
      "        Item Name: Croissant\n",
      "        Croissant details:\n",
      "            Price: 2.0$\n",
      "            Category: Bakery\n",
      "            Description: Buttery, flaky pastry, freshly baked to golden perfection.\n",
      "    \n",
      "\n",
      " \n",
      "        Item Name: Espresso\n",
      "        Espresso details:\n",
      "            Price: 2.5$\n",
      "            Category: Coffees\n",
      "            Description: Rich, full-bodied coffee, with a compact crema and strong aroma.\n",
      "    \n",
      "\n",
      " \n",
      "        Item Name: Bagel\n",
      "        Bagel details:\n",
      "            Price: 1.5$\n",
      "            Category: Bakery\n",
      "            Description: Delicious, dense and chewy bread product, perfect for a quick breakfast.\n",
      "    \n",
      "\n",
      " \n",
      "        Item Name: Chocolate Croissant\n",
      "        Chocolate Croissant details:\n",
      "            Price: 3.0$\n",
      "            Category: Bakery\n",
      "            Description: Flaky croissant filled with rich chocolate.\n",
      "    \n",
      "\n",
      " \n",
      "        Item Name: Cheese Danish\n",
      "        Cheese Danish details:\n",
      "            Price: 3.0$\n",
      "            Category: Bakery\n",
      "            Description: Flaky, buttery pastry filled with creamy cheese.\n",
      "    \n",
      "\n",
      " \n",
      "        Item Name: Cheese Bread\n",
      "        Cheese Bread details:\n",
      "            Price: 3.5$\n",
      "            Category: Bakery\n",
      "            Description: Soft, tender bread loaded with melted cheese.\n",
      "    \n",
      "\n",
      " \n",
      "        Item Name: Caramel Macchiato\n",
      "        Caramel Macchiato details:\n",
      "            Price: 5.0$\n",
      "            Category: Coffees\n",
      "            Description: A rich and creamy blend of vanilla, coffee, milk and caramel.\n",
      "    \n",
      "\n",
      " \n",
      "        Item Name: Banana Bread\n",
      "        Banana Bread details:\n",
      "            Price: 4.0$\n",
      "            Category: Bakery\n",
      "            Description: Moist, sweet bread with a rich banana flavor.\n",
      "    \n",
      "\n",
      " \n",
      "        Item Name: Black Coffee\n",
      "        Black Coffee details:\n",
      "            Price: 2.0$\n",
      "            Category: Coffees\n",
      "            Description: Strong, bold coffee with a robust flavor.\n",
      "    \u001b[0m\u001b[32;1m\u001b[1;3mOur famous French coffee and bakery items include:\n",
      "\n",
      "Coffee:\n",
      "1. Cafe Breve (4.0$): A coffee drink made with espresso and half-and-half instead of milk.\n",
      "2. Cafe au Lait (3.5$): A coffee drink made with strong hot coffee and scalded milk.\n",
      "\n",
      "Bakery:\n",
      "1. Pain au Chocolat (3.5$): Classic French pastry filled with chocolate.\n",
      "2. Croissant (2.0$): Buttery, flaky pastry, freshly baked to golden perfection.\n",
      "3. Chocolate Croissant (3.0$): Flaky croissant filled with rich chocolate.\n",
      "\n",
      "Would you like to order any of these, or is there something else you're interested in?\u001b[0m\n",
      "\n",
      "\u001b[1m> Finished chain.\u001b[0m\n"
     ]
    },
    {
     "data": {
      "text/plain": [
       "{'input': 'what are your famous french coffee and bakery items?',\n",
       " 'chat_history': [HumanMessage(content='Hello! my name is Shiva! How can you help me?'),\n",
       "  AIMessage(content=\"Hello Shiva! I'm here to assist you with your order at Contoso Coffee. You can ask me about our menu items or place an order. How can I assist you today?\"),\n",
       "  HumanMessage(content='what are your famous french coffee and bakery items?'),\n",
       "  AIMessage(content=\"Our famous French coffee and bakery items include:\\n\\nCoffee:\\n1. Cafe Breve (4.0$): A coffee drink made with espresso and half-and-half instead of milk.\\n2. Cafe au Lait (3.5$): A coffee drink made with strong hot coffee and scalded milk.\\n\\nBakery:\\n1. Pain au Chocolat (3.5$): Classic French pastry filled with chocolate.\\n2. Croissant (2.0$): Buttery, flaky pastry, freshly baked to golden perfection.\\n3. Chocolate Croissant (3.0$): Flaky croissant filled with rich chocolate.\\n\\nWould you like to order any of these, or is there something else you're interested in?\")],\n",
       " 'output': \"Our famous French coffee and bakery items include:\\n\\nCoffee:\\n1. Cafe Breve (4.0$): A coffee drink made with espresso and half-and-half instead of milk.\\n2. Cafe au Lait (3.5$): A coffee drink made with strong hot coffee and scalded milk.\\n\\nBakery:\\n1. Pain au Chocolat (3.5$): Classic French pastry filled with chocolate.\\n2. Croissant (2.0$): Buttery, flaky pastry, freshly baked to golden perfection.\\n3. Chocolate Croissant (3.0$): Flaky croissant filled with rich chocolate.\\n\\nWould you like to order any of these, or is there something else you're interested in?\"}"
      ]
     },
     "execution_count": 43,
     "metadata": {},
     "output_type": "execute_result"
    }
   ],
   "source": [
    "agent_executor.invoke({\"input\": \"what are your famous french coffee and bakery items?\"})"
   ]
  },
  {
   "cell_type": "code",
   "execution_count": 44,
   "metadata": {},
   "outputs": [
    {
     "name": "stdout",
     "output_type": "stream",
     "text": [
      "\n",
      "\n",
      "\u001b[1m> Entering new AgentExecutor chain...\u001b[0m\n",
      "\u001b[32;1m\u001b[1;3mYour name is Shiva. How can I assist you further?\u001b[0m\n",
      "\n",
      "\u001b[1m> Finished chain.\u001b[0m\n"
     ]
    },
    {
     "data": {
      "text/plain": [
       "{'input': 'what is my name?',\n",
       " 'chat_history': [HumanMessage(content='Hello! my name is Shiva! How can you help me?'),\n",
       "  AIMessage(content=\"Hello Shiva! I'm here to assist you with your order at Contoso Coffee. You can ask me about our menu items or place an order. How can I assist you today?\"),\n",
       "  HumanMessage(content='what are your famous french coffee and bakery items?'),\n",
       "  AIMessage(content=\"Our famous French coffee and bakery items include:\\n\\nCoffee:\\n1. Cafe Breve (4.0$): A coffee drink made with espresso and half-and-half instead of milk.\\n2. Cafe au Lait (3.5$): A coffee drink made with strong hot coffee and scalded milk.\\n\\nBakery:\\n1. Pain au Chocolat (3.5$): Classic French pastry filled with chocolate.\\n2. Croissant (2.0$): Buttery, flaky pastry, freshly baked to golden perfection.\\n3. Chocolate Croissant (3.0$): Flaky croissant filled with rich chocolate.\\n\\nWould you like to order any of these, or is there something else you're interested in?\"),\n",
       "  HumanMessage(content='what is my name?'),\n",
       "  AIMessage(content='Your name is Shiva. How can I assist you further?')],\n",
       " 'output': 'Your name is Shiva. How can I assist you further?'}"
      ]
     },
     "execution_count": 44,
     "metadata": {},
     "output_type": "execute_result"
    }
   ],
   "source": [
    "agent_executor.invoke({\"input\": \"what is my name?\"})"
   ]
  },
  {
   "cell_type": "code",
   "execution_count": null,
   "metadata": {},
   "outputs": [],
   "source": []
  }
 ],
 "metadata": {
  "kernelspec": {
   "display_name": "food",
   "language": "python",
   "name": "python3"
  },
  "language_info": {
   "codemirror_mode": {
    "name": "ipython",
    "version": 3
   },
   "file_extension": ".py",
   "mimetype": "text/x-python",
   "name": "python",
   "nbconvert_exporter": "python",
   "pygments_lexer": "ipython3",
   "version": "3.10.13"
  }
 },
 "nbformat": 4,
 "nbformat_minor": 2
}
