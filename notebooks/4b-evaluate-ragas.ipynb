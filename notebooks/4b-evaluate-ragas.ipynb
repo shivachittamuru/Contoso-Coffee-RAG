{
 "cells": [
  {
   "cell_type": "markdown",
   "metadata": {},
   "source": [
    "**Metrics to evaluate retrieval:** \n",
    "offers context_relevancy and context_recall which give you the measure of the performance of your retrieval system.\n",
    "\n",
    "**Metrics to evaluate generation:** \n",
    "offers faithfulness which measures hallucinations and answer_relevancy which measures how to the point the answers are to the question."
   ]
  },
  {
   "cell_type": "code",
   "execution_count": 2,
   "metadata": {},
   "outputs": [
    {
     "data": {
      "text/plain": [
       "True"
      ]
     },
     "execution_count": 2,
     "metadata": {},
     "output_type": "execute_result"
    }
   ],
   "source": [
    "import os, json\n",
    "import openai\n",
    "from langchain.embeddings import OpenAIEmbeddings\n",
    "from langchain.vectorstores.azuresearch import AzureSearch\n",
    "from langchain.chains import RetrievalQA\n",
    "from langchain.chat_models import AzureChatOpenAI\n",
    "\n",
    "from dotenv import load_dotenv, find_dotenv\n",
    "load_dotenv(find_dotenv(), override=True)"
   ]
  },
  {
   "cell_type": "code",
   "execution_count": 3,
   "metadata": {},
   "outputs": [],
   "source": [
    "openai.api_key = os.environ['OPENAI_API_KEY']\n",
    "openai.api_base = os.environ['OPENAI_API_BASE']\n",
    "openai.api_type = os.environ['OPENAI_API_TYPE']\n",
    "openai.api_version = os.environ['OPENAI_API_VERSION']\n",
    "\n",
    "chat_model = os.environ['GPT4_MODEL_NAME']\n",
    "embedding_model = os.environ['EMBEDDING_MODEL_NAME']\n",
    "embeddings: OpenAIEmbeddings = OpenAIEmbeddings(model=embedding_model, chunk_size=1)\n",
    "vector_store_endpoint: str = os.environ['AZURE_COGNITIVE_SEARCH_ENDPOINT']\n",
    "vector_store_password: str = os.environ['AZURE_COGNITIVE_SEARCH_KEY']\n",
    "index_name: str = \"contoso-coffee-index\"\n",
    "\n",
    "vector_store: AzureSearch = AzureSearch(\n",
    "    azure_search_endpoint=vector_store_endpoint,\n",
    "    azure_search_key=vector_store_password,\n",
    "    index_name=index_name,\n",
    "    embedding_function=embeddings.embed_query,\n",
    ")"
   ]
  },
  {
   "cell_type": "code",
   "execution_count": 5,
   "metadata": {},
   "outputs": [
    {
     "data": {
      "text/plain": [
       "'The bakery items available are:\\n\\n1. Cinnamon Roll: A sweet roll covered in delicious cinnamon and sugar. It costs $4.0.\\n2. Blueberry Muffin: A soft and moist muffin packed with fresh blueberries and a crumb topping. It costs $2.5.\\n3. Bagel: A delicious, dense and chewy bread product, perfect for a quick breakfast. It costs $1.5.\\n4. Scones: Buttery and crumbly traditional English baked good. It costs $3.0.\\n5. Croissant: A buttery, flaky pastry, freshly baked to golden perfection. It costs $2.0.\\n6. Pecan Pie: A classic dessert filled with sweet, nutty pecans and a flaky crust. It costs $4.5.\\n7. Brownie: A rich, fudgy brownie with a moist center and crispy edges. It costs $3.0.\\n8. Banana Bread: A moist, sweet bread with a rich banana flavor. It costs $4.0.\\n9. Cheese Bread: A soft, tender bread loaded with melted cheese. It costs $3.5.\\n10. Peach Cobbler: A classic dessert filled with sweet, juicy peaches and a flaky crust. It costs $4.5.\\n11. Strawberry Tart: A delightful tart filled with fresh strawberries. It costs $4.5.\\n12. Apple Pie: A classic dessert filled with sweet, juicy apples and a flaky crust. It costs $4.5.\\n13. Chocolate Croissant: A flaky croissant filled with rich chocolate. It costs $3.0.\\n14. Pumpkin Muffin: A sweet, moist muffin filled with pumpkin flavor. It costs $2.5.\\n15. Lemon Cake: A sweet and tangy lemon cake with a moist crumb. It costs $4.0.'"
      ]
     },
     "execution_count": 5,
     "metadata": {},
     "output_type": "execute_result"
    }
   ],
   "source": [
    "llm = AzureChatOpenAI(temperature=0.0,\n",
    "    max_tokens=400,\n",
    "    openai_api_base=openai.api_base,\n",
    "    openai_api_version=openai.api_version,\n",
    "    deployment_name=os.environ['GPT4_MODEL_NAME'],\n",
    "    openai_api_key=openai.api_key,\n",
    "    openai_api_type = openai.api_type,\n",
    ")\n",
    "\n",
    "retriever = vector_store.as_retriever(search_type='similarity', search_kwargs={'k': 15})\n",
    "\n",
    "qa_chain = RetrievalQA.from_chain_type(\n",
    "    llm=llm, \n",
    "    chain_type=\"stuff\", \n",
    "    retriever=retriever, \n",
    "    return_source_documents=False, \n",
    ")\n",
    "\n",
    "# qa_chain = RetrievalQA.from_chain_type(\n",
    "#     llm, retriever=retriever, return_source_documents=True\n",
    "# )\n",
    "\n",
    "question = \"what are your bakery items?\"\n",
    "result = qa_chain({\"query\": question})\n",
    "result[\"result\"]"
   ]
  },
  {
   "cell_type": "code",
   "execution_count": 11,
   "metadata": {},
   "outputs": [
    {
     "ename": "ImportError",
     "evalue": "cannot import name 'AzureOpenAIEmbeddings' from 'langchain.embeddings' (c:\\Users\\shchitt\\AppData\\Local\\anaconda3\\envs\\food\\lib\\site-packages\\langchain\\embeddings\\__init__.py)",
     "output_type": "error",
     "traceback": [
      "\u001b[1;31m---------------------------------------------------------------------------\u001b[0m",
      "\u001b[1;31mImportError\u001b[0m                               Traceback (most recent call last)",
      "\u001b[1;32mc:\\Users\\shchitt\\OneDrive - Microsoft\\Desktop\\Contoso-Coffee-RAG\\notebooks\\4-evaluate-ragas.ipynb Cell 5\u001b[0m line \u001b[0;36m1\n\u001b[1;32m----> <a href='vscode-notebook-cell:/c%3A/Users/shchitt/OneDrive%20-%20Microsoft/Desktop/Contoso-Coffee-RAG/notebooks/4-evaluate-ragas.ipynb#W4sZmlsZQ%3D%3D?line=0'>1</a>\u001b[0m \u001b[39mfrom\u001b[39;00m \u001b[39mragas\u001b[39;00m\u001b[39m.\u001b[39;00m\u001b[39mmetrics\u001b[39;00m \u001b[39mimport\u001b[39;00m faithfulness, answer_relevancy, context_relevancy, context_recall\n\u001b[0;32m      <a href='vscode-notebook-cell:/c%3A/Users/shchitt/OneDrive%20-%20Microsoft/Desktop/Contoso-Coffee-RAG/notebooks/4-evaluate-ragas.ipynb#W4sZmlsZQ%3D%3D?line=1'>2</a>\u001b[0m \u001b[39mfrom\u001b[39;00m \u001b[39mragas\u001b[39;00m\u001b[39m.\u001b[39;00m\u001b[39mlangchain\u001b[39;00m \u001b[39mimport\u001b[39;00m RagasEvaluatorChain\n\u001b[0;32m      <a href='vscode-notebook-cell:/c%3A/Users/shchitt/OneDrive%20-%20Microsoft/Desktop/Contoso-Coffee-RAG/notebooks/4-evaluate-ragas.ipynb#W4sZmlsZQ%3D%3D?line=3'>4</a>\u001b[0m eval_chains \u001b[39m=\u001b[39m {\n\u001b[0;32m      <a href='vscode-notebook-cell:/c%3A/Users/shchitt/OneDrive%20-%20Microsoft/Desktop/Contoso-Coffee-RAG/notebooks/4-evaluate-ragas.ipynb#W4sZmlsZQ%3D%3D?line=4'>5</a>\u001b[0m     m\u001b[39m.\u001b[39mname: RagasEvaluatorChain(metric\u001b[39m=\u001b[39mm) \n\u001b[0;32m      <a href='vscode-notebook-cell:/c%3A/Users/shchitt/OneDrive%20-%20Microsoft/Desktop/Contoso-Coffee-RAG/notebooks/4-evaluate-ragas.ipynb#W4sZmlsZQ%3D%3D?line=5'>6</a>\u001b[0m     \u001b[39mfor\u001b[39;00m m \u001b[39min\u001b[39;00m [faithfulness, answer_relevancy, context_relevancy, context_recall]\n\u001b[0;32m      <a href='vscode-notebook-cell:/c%3A/Users/shchitt/OneDrive%20-%20Microsoft/Desktop/Contoso-Coffee-RAG/notebooks/4-evaluate-ragas.ipynb#W4sZmlsZQ%3D%3D?line=6'>7</a>\u001b[0m }\n",
      "File \u001b[1;32mc:\\Users\\shchitt\\AppData\\Local\\anaconda3\\envs\\food\\lib\\site-packages\\ragas\\__init__.py:1\u001b[0m\n\u001b[1;32m----> 1\u001b[0m \u001b[39mfrom\u001b[39;00m \u001b[39mragas\u001b[39;00m\u001b[39m.\u001b[39;00m\u001b[39mevaluation\u001b[39;00m \u001b[39mimport\u001b[39;00m evaluate\n\u001b[0;32m      3\u001b[0m \u001b[39mtry\u001b[39;00m:\n\u001b[0;32m      4\u001b[0m     \u001b[39mfrom\u001b[39;00m \u001b[39m.\u001b[39;00m\u001b[39m_version\u001b[39;00m \u001b[39mimport\u001b[39;00m version \u001b[39mas\u001b[39;00m __version__\n",
      "File \u001b[1;32mc:\\Users\\shchitt\\AppData\\Local\\anaconda3\\envs\\food\\lib\\site-packages\\ragas\\evaluation.py:10\u001b[0m\n\u001b[0;32m      7\u001b[0m \u001b[39mfrom\u001b[39;00m \u001b[39mdatasets\u001b[39;00m \u001b[39mimport\u001b[39;00m Dataset, concatenate_datasets\n\u001b[0;32m      9\u001b[0m \u001b[39mfrom\u001b[39;00m \u001b[39mragas\u001b[39;00m\u001b[39m.\u001b[39;00m\u001b[39m_analytics\u001b[39;00m \u001b[39mimport\u001b[39;00m EvaluationEvent, track\n\u001b[1;32m---> 10\u001b[0m \u001b[39mfrom\u001b[39;00m \u001b[39mragas\u001b[39;00m\u001b[39m.\u001b[39;00m\u001b[39mmetrics\u001b[39;00m\u001b[39m.\u001b[39;00m\u001b[39mbase\u001b[39;00m \u001b[39mimport\u001b[39;00m Metric\n\u001b[0;32m     11\u001b[0m \u001b[39mfrom\u001b[39;00m \u001b[39mragas\u001b[39;00m\u001b[39m.\u001b[39;00m\u001b[39mmetrics\u001b[39;00m\u001b[39m.\u001b[39;00m\u001b[39mcritique\u001b[39;00m \u001b[39mimport\u001b[39;00m AspectCritique\n\u001b[0;32m     12\u001b[0m \u001b[39mfrom\u001b[39;00m \u001b[39mragas\u001b[39;00m\u001b[39m.\u001b[39;00m\u001b[39mvalidation\u001b[39;00m \u001b[39mimport\u001b[39;00m (\n\u001b[0;32m     13\u001b[0m     remap_column_names,\n\u001b[0;32m     14\u001b[0m     validate_column_dtypes,\n\u001b[0;32m     15\u001b[0m     validate_evaluation_modes,\n\u001b[0;32m     16\u001b[0m )\n",
      "File \u001b[1;32mc:\\Users\\shchitt\\AppData\\Local\\anaconda3\\envs\\food\\lib\\site-packages\\ragas\\metrics\\__init__.py:1\u001b[0m\n\u001b[1;32m----> 1\u001b[0m \u001b[39mfrom\u001b[39;00m \u001b[39mragas\u001b[39;00m\u001b[39m.\u001b[39;00m\u001b[39mmetrics\u001b[39;00m\u001b[39m.\u001b[39;00m\u001b[39m_answer_correctness\u001b[39;00m \u001b[39mimport\u001b[39;00m AnswerCorrectness, answer_correctness\n\u001b[0;32m      2\u001b[0m \u001b[39mfrom\u001b[39;00m \u001b[39mragas\u001b[39;00m\u001b[39m.\u001b[39;00m\u001b[39mmetrics\u001b[39;00m\u001b[39m.\u001b[39;00m\u001b[39m_answer_relevance\u001b[39;00m \u001b[39mimport\u001b[39;00m AnswerRelevancy, answer_relevancy\n\u001b[0;32m      3\u001b[0m \u001b[39mfrom\u001b[39;00m \u001b[39mragas\u001b[39;00m\u001b[39m.\u001b[39;00m\u001b[39mmetrics\u001b[39;00m\u001b[39m.\u001b[39;00m\u001b[39m_answer_similarity\u001b[39;00m \u001b[39mimport\u001b[39;00m AnswerSimilarity, answer_similarity\n",
      "File \u001b[1;32mc:\\Users\\shchitt\\AppData\\Local\\anaconda3\\envs\\food\\lib\\site-packages\\ragas\\metrics\\_answer_correctness.py:9\u001b[0m\n\u001b[0;32m      6\u001b[0m \u001b[39mimport\u001b[39;00m \u001b[39mnumpy\u001b[39;00m \u001b[39mas\u001b[39;00m \u001b[39mnp\u001b[39;00m\n\u001b[0;32m      7\u001b[0m \u001b[39mfrom\u001b[39;00m \u001b[39mdatasets\u001b[39;00m \u001b[39mimport\u001b[39;00m Dataset\n\u001b[1;32m----> 9\u001b[0m \u001b[39mfrom\u001b[39;00m \u001b[39mragas\u001b[39;00m\u001b[39m.\u001b[39;00m\u001b[39mmetrics\u001b[39;00m\u001b[39m.\u001b[39;00m\u001b[39m_answer_similarity\u001b[39;00m \u001b[39mimport\u001b[39;00m AnswerSimilarity\n\u001b[0;32m     10\u001b[0m \u001b[39mfrom\u001b[39;00m \u001b[39mragas\u001b[39;00m\u001b[39m.\u001b[39;00m\u001b[39mmetrics\u001b[39;00m\u001b[39m.\u001b[39;00m\u001b[39m_faithfulness\u001b[39;00m \u001b[39mimport\u001b[39;00m Faithfulness\n\u001b[0;32m     11\u001b[0m \u001b[39mfrom\u001b[39;00m \u001b[39mragas\u001b[39;00m\u001b[39m.\u001b[39;00m\u001b[39mmetrics\u001b[39;00m\u001b[39m.\u001b[39;00m\u001b[39mbase\u001b[39;00m \u001b[39mimport\u001b[39;00m EvaluationMode, MetricWithLLM\n",
      "File \u001b[1;32mc:\\Users\\shchitt\\AppData\\Local\\anaconda3\\envs\\food\\lib\\site-packages\\ragas\\metrics\\_answer_similarity.py:9\u001b[0m\n\u001b[0;32m      6\u001b[0m \u001b[39mimport\u001b[39;00m \u001b[39mnumpy\u001b[39;00m \u001b[39mas\u001b[39;00m \u001b[39mnp\u001b[39;00m\n\u001b[0;32m      7\u001b[0m \u001b[39mfrom\u001b[39;00m \u001b[39mdatasets\u001b[39;00m \u001b[39mimport\u001b[39;00m Dataset\n\u001b[1;32m----> 9\u001b[0m \u001b[39mfrom\u001b[39;00m \u001b[39mragas\u001b[39;00m\u001b[39m.\u001b[39;00m\u001b[39membeddings\u001b[39;00m\u001b[39m.\u001b[39;00m\u001b[39mbase\u001b[39;00m \u001b[39mimport\u001b[39;00m (\n\u001b[0;32m     10\u001b[0m     HuggingfaceEmbeddings,\n\u001b[0;32m     11\u001b[0m     OpenAIEmbeddings,\n\u001b[0;32m     12\u001b[0m     embedding_factory,\n\u001b[0;32m     13\u001b[0m )\n\u001b[0;32m     14\u001b[0m \u001b[39mfrom\u001b[39;00m \u001b[39mragas\u001b[39;00m\u001b[39m.\u001b[39;00m\u001b[39mexceptions\u001b[39;00m \u001b[39mimport\u001b[39;00m OpenAIKeyNotFound\n\u001b[0;32m     15\u001b[0m \u001b[39mfrom\u001b[39;00m \u001b[39mragas\u001b[39;00m\u001b[39m.\u001b[39;00m\u001b[39mmetrics\u001b[39;00m\u001b[39m.\u001b[39;00m\u001b[39mbase\u001b[39;00m \u001b[39mimport\u001b[39;00m EvaluationMode, MetricWithLLM\n",
      "File \u001b[1;32mc:\\Users\\shchitt\\AppData\\Local\\anaconda3\\envs\\food\\lib\\site-packages\\ragas\\embeddings\\__init__.py:1\u001b[0m\n\u001b[1;32m----> 1\u001b[0m \u001b[39mfrom\u001b[39;00m \u001b[39mragas\u001b[39;00m\u001b[39m.\u001b[39;00m\u001b[39membeddings\u001b[39;00m\u001b[39m.\u001b[39;00m\u001b[39mbase\u001b[39;00m \u001b[39mimport\u001b[39;00m (\n\u001b[0;32m      2\u001b[0m     AzureOpenAIEmbeddings,\n\u001b[0;32m      3\u001b[0m     HuggingfaceEmbeddings,\n\u001b[0;32m      4\u001b[0m     OpenAIEmbeddings,\n\u001b[0;32m      5\u001b[0m     RagasEmbeddings,\n\u001b[0;32m      6\u001b[0m )\n\u001b[0;32m      8\u001b[0m __all__ \u001b[39m=\u001b[39m [\n\u001b[0;32m      9\u001b[0m     \u001b[39m\"\u001b[39m\u001b[39mHuggingfaceEmbeddings\u001b[39m\u001b[39m\"\u001b[39m,\n\u001b[0;32m     10\u001b[0m     \u001b[39m\"\u001b[39m\u001b[39mOpenAIEmbeddings\u001b[39m\u001b[39m\"\u001b[39m,\n\u001b[0;32m     11\u001b[0m     \u001b[39m\"\u001b[39m\u001b[39mAzureOpenAIEmbeddings\u001b[39m\u001b[39m\"\u001b[39m,\n\u001b[0;32m     12\u001b[0m     \u001b[39m\"\u001b[39m\u001b[39mRagasEmbeddings\u001b[39m\u001b[39m\"\u001b[39m,\n\u001b[0;32m     13\u001b[0m ]\n",
      "File \u001b[1;32mc:\\Users\\shchitt\\AppData\\Local\\anaconda3\\envs\\food\\lib\\site-packages\\ragas\\embeddings\\base.py:9\u001b[0m\n\u001b[0;32m      6\u001b[0m \u001b[39mfrom\u001b[39;00m \u001b[39mtyping\u001b[39;00m \u001b[39mimport\u001b[39;00m List\n\u001b[0;32m      8\u001b[0m \u001b[39mimport\u001b[39;00m \u001b[39mnumpy\u001b[39;00m \u001b[39mas\u001b[39;00m \u001b[39mnp\u001b[39;00m\n\u001b[1;32m----> 9\u001b[0m \u001b[39mfrom\u001b[39;00m \u001b[39mlangchain\u001b[39;00m\u001b[39m.\u001b[39;00m\u001b[39membeddings\u001b[39;00m \u001b[39mimport\u001b[39;00m AzureOpenAIEmbeddings \u001b[39mas\u001b[39;00m BaseAzureOpenAIEmbeddings\n\u001b[0;32m     10\u001b[0m \u001b[39mfrom\u001b[39;00m \u001b[39mlangchain\u001b[39;00m\u001b[39m.\u001b[39;00m\u001b[39membeddings\u001b[39;00m \u001b[39mimport\u001b[39;00m OpenAIEmbeddings \u001b[39mas\u001b[39;00m BaseOpenAIEmbeddings\n\u001b[0;32m     11\u001b[0m \u001b[39mfrom\u001b[39;00m \u001b[39mlangchain\u001b[39;00m\u001b[39m.\u001b[39;00m\u001b[39mschema\u001b[39;00m\u001b[39m.\u001b[39;00m\u001b[39membeddings\u001b[39;00m \u001b[39mimport\u001b[39;00m Embeddings\n",
      "\u001b[1;31mImportError\u001b[0m: cannot import name 'AzureOpenAIEmbeddings' from 'langchain.embeddings' (c:\\Users\\shchitt\\AppData\\Local\\anaconda3\\envs\\food\\lib\\site-packages\\langchain\\embeddings\\__init__.py)"
     ]
    }
   ],
   "source": [
    "from ragas.metrics import faithfulness, answer_relevancy, context_relevancy, context_recall\n",
    "from ragas.langchain import RagasEvaluatorChain\n",
    "\n",
    "eval_chains = {\n",
    "    m.name: RagasEvaluatorChain(metric=m) \n",
    "    for m in [faithfulness, answer_relevancy, context_relevancy, context_recall]\n",
    "}\n",
    "eval_chains"
   ]
  },
  {
   "cell_type": "code",
   "execution_count": null,
   "metadata": {},
   "outputs": [],
   "source": []
  }
 ],
 "metadata": {
  "kernelspec": {
   "display_name": "food",
   "language": "python",
   "name": "python3"
  },
  "language_info": {
   "codemirror_mode": {
    "name": "ipython",
    "version": 3
   },
   "file_extension": ".py",
   "mimetype": "text/x-python",
   "name": "python",
   "nbconvert_exporter": "python",
   "pygments_lexer": "ipython3",
   "version": "3.10.13"
  }
 },
 "nbformat": 4,
 "nbformat_minor": 2
}
