{
 "cells": [
  {
   "cell_type": "code",
   "execution_count": 1,
   "metadata": {},
   "outputs": [],
   "source": [
    "import os, json\n",
    "import openai\n",
    "from langchain.embeddings import OpenAIEmbeddings\n",
    "from langchain.vectorstores.azuresearch import AzureSearch\n",
    "\n",
    "from dotenv import load_dotenv, find_dotenv\n",
    "load_dotenv(find_dotenv(), override=True)\n",
    "\n",
    "openai.api_key = os.environ['OPENAI_API_KEY']\n",
    "openai.api_base = os.environ['OPENAI_API_BASE']\n",
    "openai.api_type = os.environ['OPENAI_API_TYPE']\n",
    "openai.api_version = os.environ['OPENAI_API_VERSION']\n",
    "\n",
    "from langsmith import Client\n",
    "client = Client()"
   ]
  },
  {
   "cell_type": "code",
   "execution_count": 2,
   "metadata": {},
   "outputs": [
    {
     "data": {
      "text/plain": [
       "[]"
      ]
     },
     "execution_count": 2,
     "metadata": {},
     "output_type": "execute_result"
    }
   ],
   "source": [
    "from langchain.memory import CosmosDBChatMessageHistory\n",
    "\n",
    "# Get the conversation for a specific user and session.\n",
    "session_id = \"Agent-Test-Session660\"\n",
    "user_id = \"Agent-Test-User127\"\n",
    "\n",
    "cosmos = CosmosDBChatMessageHistory(\n",
    "    cosmos_endpoint=os.environ['AZURE_COSMOSDB_ENDPOINT'],\n",
    "    cosmos_database=os.environ['AZURE_COSMOSDB_NAME'],\n",
    "    cosmos_container=os.environ['AZURE_COSMOSDB_CONTAINER_NAME'],\n",
    "    connection_string=os.environ['AZURE_COMOSDB_CONNECTION_STRING'],\n",
    "    session_id=session_id,\n",
    "    user_id=user_id,\n",
    ")\n",
    "\n",
    "# Prepare the CosmosDB for the session.\n",
    "cosmos.prepare_cosmos()\n",
    "\n",
    "cosmos.messages"
   ]
  },
  {
   "cell_type": "code",
   "execution_count": 3,
   "metadata": {},
   "outputs": [
    {
     "name": "stdout",
     "output_type": "stream",
     "text": [
      "\n"
     ]
    }
   ],
   "source": [
    "def cosmos_messages_to_string(messages: list) -> str:\n",
    "    \"\"\"\n",
    "    Converts a list of messages to a string.\n",
    "    \"\"\"\n",
    "    chat_str = \"\"\n",
    "    for message in messages:\n",
    "        chat_str += \"Customer: \" + message.content + \"\\n\"\n",
    "        chat_str += \"AI: \" + message.content + \"\\n\"\n",
    "    return chat_str\n",
    "\n",
    "chat_str = cosmos_messages_to_string(cosmos.messages)\n",
    "print(chat_str)"
   ]
  },
  {
   "cell_type": "code",
   "execution_count": 4,
   "metadata": {},
   "outputs": [
    {
     "name": "stdout",
     "output_type": "stream",
     "text": [
      "{\n",
      "    \"name\": \"OrderInfo\",\n",
      "    \"description\": \"Input is a transcript of a conversation between a customer and an AI assistant discussing an order made at a restaurant.\\nExtract order details such item name, quantity, price, and any additional notes for each item.\",\n",
      "    \"parameters\": {\n",
      "        \"$defs\": {\n",
      "            \"OrderedItem\": {\n",
      "                \"description\": \"Information about each ordered item such as item name, quantity, price and additional notes provided by the customer.\",\n",
      "                \"properties\": {\n",
      "                    \"item\": {\n",
      "                        \"description\": \"Name of the item ordered\",\n",
      "                        \"title\": \"Item\",\n",
      "                        \"type\": \"string\"\n",
      "                    },\n",
      "                    \"quantity\": {\n",
      "                        \"description\": \"Quantity of that ordered item\",\n",
      "                        \"title\": \"Quantity\",\n",
      "                        \"type\": \"integer\"\n",
      "                    },\n",
      "                    \"price\": {\n",
      "                        \"description\": \"Price of that ordered item\",\n",
      "                        \"title\": \"Price\",\n",
      "                        \"type\": \"number\"\n",
      "                    },\n",
      "                    \"item_notes\": {\n",
      "                        \"anyOf\": [\n",
      "                            {\n",
      "                                \"type\": \"string\"\n",
      "                            },\n",
      "                            {\n",
      "                                \"type\": \"null\"\n",
      "                            }\n",
      "                        ],\n",
      "                        \"description\": \"Any additional notes about that item provided by the customer\",\n",
      "                        \"title\": \"Item Notes\"\n",
      "                    }\n",
      "                },\n",
      "                \"required\": [\n",
      "                    \"item\",\n",
      "                    \"quantity\",\n",
      "                    \"price\",\n",
      "                    \"item_notes\"\n",
      "                ],\n",
      "                \"title\": \"OrderedItem\",\n",
      "                \"type\": \"object\"\n",
      "            }\n",
      "        },\n",
      "        \"description\": \"Input is a transcript of a conversation between a customer and an AI assistant discussing an order made at a restaurant.\\nExtract order details such item name, quantity, price, and any additional notes for each item.\",\n",
      "        \"properties\": {\n",
      "            \"order\": {\n",
      "                \"description\": \"List of items ordered and their details\",\n",
      "                \"items\": {\n",
      "                    \"description\": \"Information about each ordered item such as item name, quantity, price and additional notes provided by the customer.\",\n",
      "                    \"properties\": {\n",
      "                        \"item\": {\n",
      "                            \"description\": \"Name of the item ordered\",\n",
      "                            \"title\": \"Item\",\n",
      "                            \"type\": \"string\"\n",
      "                        },\n",
      "                        \"quantity\": {\n",
      "                            \"description\": \"Quantity of that ordered item\",\n",
      "                            \"title\": \"Quantity\",\n",
      "                            \"type\": \"integer\"\n",
      "                        },\n",
      "                        \"price\": {\n",
      "                            \"description\": \"Price of that ordered item\",\n",
      "                            \"title\": \"Price\",\n",
      "                            \"type\": \"number\"\n",
      "                        },\n",
      "                        \"item_notes\": {\n",
      "                            \"anyOf\": [\n",
      "                                {\n",
      "                                    \"type\": \"string\"\n",
      "                                },\n",
      "                                {\n",
      "                                    \"type\": \"null\"\n",
      "                                }\n",
      "                            ],\n",
      "                            \"description\": \"Any additional notes about that item provided by the customer\",\n",
      "                            \"title\": \"Item Notes\"\n",
      "                        }\n",
      "                    },\n",
      "                    \"required\": [\n",
      "                        \"item\",\n",
      "                        \"quantity\",\n",
      "                        \"price\",\n",
      "                        \"item_notes\"\n",
      "                    ],\n",
      "                    \"title\": \"OrderedItem\",\n",
      "                    \"type\": \"object\"\n",
      "                },\n",
      "                \"title\": \"Order\",\n",
      "                \"type\": \"array\"\n",
      "            }\n",
      "        },\n",
      "        \"required\": [\n",
      "            \"order\"\n",
      "        ],\n",
      "        \"title\": \"OrderInfo\",\n",
      "        \"type\": \"object\"\n",
      "    }\n",
      "}\n"
     ]
    }
   ],
   "source": [
    "from typing import List, Dict, Optional\n",
    "from pydantic import BaseModel, Field, root_validator, ValidationError\n",
    "from langchain.utils.openai_functions import convert_pydantic_to_openai_function\n",
    "\n",
    "class OrderedItem(BaseModel):\n",
    "    \"\"\"\n",
    "    Information about each ordered item such as item name, quantity, price and additional notes provided by the customer.\n",
    "    \"\"\"\n",
    "    item: str = Field(description=\"Name of the item ordered\")\n",
    "    quantity: int = Field(description=\"Quantity of that ordered item\")\n",
    "    price: float = Field(description=\"Price of that ordered item\")\n",
    "    item_notes: Optional[str] = Field(description=\"Any additional notes about that item provided by the customer\")\n",
    "    \n",
    "class OrderInfo(BaseModel):\n",
    "    \"\"\"\n",
    "    Input is a transcript of a conversation between a customer and an AI assistant discussing an order made at a restaurant.\n",
    "    Extract order details such item name, quantity, price, and any additional notes for each item.\n",
    "    \"\"\"\n",
    "    order: List[OrderedItem] = Field(description=\"List of items ordered and their details\")\n",
    "\n",
    "order_schema = convert_pydantic_to_openai_function(OrderInfo)\n",
    "print(json.dumps(order_schema, indent=4))"
   ]
  },
  {
   "cell_type": "code",
   "execution_count": 5,
   "metadata": {},
   "outputs": [
    {
     "name": "stdout",
     "output_type": "stream",
     "text": [
      "{\n",
      "    \"name\": \"CustomerName\",\n",
      "    \"description\": \"Input is a transcript of a conversation between a customer and an AI assistant discussing an order made at a restaurant.\\nExtract the customer's name.\",\n",
      "    \"parameters\": {\n",
      "        \"description\": \"Input is a transcript of a conversation between a customer and an AI assistant discussing an order made at a restaurant.\\nExtract the customer's name.\",\n",
      "        \"properties\": {\n",
      "            \"customer_name\": {\n",
      "                \"description\": \"Name of the customer\",\n",
      "                \"title\": \"Customer Name\",\n",
      "                \"type\": \"string\"\n",
      "            }\n",
      "        },\n",
      "        \"required\": [\n",
      "            \"customer_name\"\n",
      "        ],\n",
      "        \"title\": \"CustomerName\",\n",
      "        \"type\": \"object\"\n",
      "    }\n",
      "}\n"
     ]
    }
   ],
   "source": [
    "class CustomerName(BaseModel):\n",
    "    \"\"\"\n",
    "    Input is a transcript of a conversation between a customer and an AI assistant discussing an order made at a restaurant.\n",
    "    Extract the customer's name.\n",
    "    \"\"\"\n",
    "    customer_name: str = Field(description=\"Name of the customer\")\n",
    "    \n",
    "customer_name_schema = convert_pydantic_to_openai_function(CustomerName)\n",
    "print(json.dumps(customer_name_schema, indent=4))"
   ]
  },
  {
   "cell_type": "code",
   "execution_count": 6,
   "metadata": {},
   "outputs": [
    {
     "name": "stdout",
     "output_type": "stream",
     "text": [
      "{\n",
      "    \"order\": [\n",
      "        {\n",
      "            \"item\": \"Burger\",\n",
      "            \"quantity\": 2,\n",
      "            \"price\": 10,\n",
      "            \"item_notes\": \"No onions\"\n",
      "        },\n",
      "        {\n",
      "            \"item\": \"Fries\",\n",
      "            \"quantity\": 1,\n",
      "            \"price\": 5,\n",
      "            \"item_notes\": null\n",
      "        },\n",
      "        {\n",
      "            \"item\": \"Coke\",\n",
      "            \"quantity\": 3,\n",
      "            \"price\": 2,\n",
      "            \"item_notes\": null\n",
      "        }\n",
      "    ]\n",
      "}\n"
     ]
    }
   ],
   "source": [
    "from langchain.prompts import ChatPromptTemplate\n",
    "from langchain.chat_models import AzureChatOpenAI\n",
    "from langchain.output_parsers.openai_functions import JsonOutputFunctionsParser\n",
    "\n",
    "model = AzureChatOpenAI(temperature=0,\n",
    "    openai_api_base=openai.api_base,\n",
    "    openai_api_version=openai.api_version,\n",
    "    deployment_name=\"gpt-35-turbo\",\n",
    "    openai_api_key=openai.api_key,\n",
    "    openai_api_type = openai.api_type,\n",
    ")\n",
    "\n",
    "extraction_functions = [convert_pydantic_to_openai_function(OrderInfo)]\n",
    "\n",
    "order_prompt = ChatPromptTemplate.from_messages([\n",
    "    (\"system\", \"\"\"\n",
    "            You are a world class algorithm for extracting information in structured formats from a restaurant order conversation between a customer and an AI assistant.\n",
    "            Your task is to extract and save the pertinent details, specifically the ordered food items, quantity ordered, their prices and any additional notes requested for each ordered item included in the order. \n",
    "            Make sure to extract only those items that were ordered.\n",
    "        \"\"\"),\n",
    "    (\"user\", \"{input}\")\n",
    "])\n",
    "\n",
    "extraction_model = model.bind(\n",
    "    functions=extraction_functions,\n",
    "    function_call={\"name\": \"OrderInfo\"}\n",
    ")\n",
    "\n",
    "order_extraction_chain = order_prompt | extraction_model | JsonOutputFunctionsParser()\n",
    "order_result = order_extraction_chain.invoke({\"input\": chat_str})\n",
    "print(json.dumps(order_result, indent=4))\n"
   ]
  },
  {
   "cell_type": "code",
   "execution_count": 7,
   "metadata": {},
   "outputs": [
    {
     "name": "stdout",
     "output_type": "stream",
     "text": [
      "Customer name: John\n"
     ]
    }
   ],
   "source": [
    "extraction_functions = [convert_pydantic_to_openai_function(CustomerName)]\n",
    "\n",
    "name_prompt = ChatPromptTemplate.from_messages([\n",
    "    (\"system\", \"\"\"\n",
    "            You are a world class algorithm for extracting information in structured formats from a restaurant order conversation between a customer and an AI assistant.\n",
    "            Your task is to extract the customer's name included in the order.\n",
    "        \"\"\"),\n",
    "    (\"user\", \"{input}\")\n",
    "])\n",
    "\n",
    "extraction_model = model.bind(\n",
    "    functions=extraction_functions,\n",
    "    function_call={\"name\": \"CustomerName\"}\n",
    ")\n",
    "\n",
    "name_extraction_chain = name_prompt | extraction_model | JsonOutputFunctionsParser()\n",
    "name = name_extraction_chain.invoke({\"input\": chat_str})\n",
    "customer_name = name[\"customer_name\"]\n",
    "print(f\"Customer name: {customer_name}\")"
   ]
  },
  {
   "cell_type": "code",
   "execution_count": null,
   "metadata": {},
   "outputs": [],
   "source": []
  }
 ],
 "metadata": {
  "kernelspec": {
   "display_name": "food",
   "language": "python",
   "name": "python3"
  },
  "language_info": {
   "codemirror_mode": {
    "name": "ipython",
    "version": 3
   },
   "file_extension": ".py",
   "mimetype": "text/x-python",
   "name": "python",
   "nbconvert_exporter": "python",
   "pygments_lexer": "ipython3",
   "version": "3.10.13"
  }
 },
 "nbformat": 4,
 "nbformat_minor": 2
}
