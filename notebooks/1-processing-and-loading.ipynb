{
 "cells": [
  {
   "cell_type": "code",
   "execution_count": 1,
   "metadata": {},
   "outputs": [
    {
     "data": {
      "text/plain": [
       "True"
      ]
     },
     "execution_count": 1,
     "metadata": {},
     "output_type": "execute_result"
    }
   ],
   "source": [
    "from azure.cosmos import CosmosClient, exceptions, PartitionKey\n",
    "import os\n",
    "import json\n",
    "\n",
    "from dotenv import load_dotenv, find_dotenv\n",
    "load_dotenv(find_dotenv(), override=True)"
   ]
  },
  {
   "cell_type": "code",
   "execution_count": 2,
   "metadata": {},
   "outputs": [
    {
     "data": {
      "text/plain": [
       "<DatabaseProxy [dbs/coffeeDatabase]>"
      ]
     },
     "execution_count": 2,
     "metadata": {},
     "output_type": "execute_result"
    }
   ],
   "source": [
    "# Create a database\n",
    "\n",
    "URL = os.environ['AZURE_COSMOSDB_ENDPOINT']\n",
    "KEY = os.environ['AZURE_COSMOSDB_KEY']\n",
    "client = CosmosClient(URL, credential=KEY)\n",
    "DATABASE_NAME = 'coffeeDatabase'\n",
    "try:\n",
    "    database = client.create_database(DATABASE_NAME)\n",
    "except exceptions.CosmosResourceExistsError:\n",
    "    database = client.get_database_client(DATABASE_NAME)\n",
    "database"
   ]
  },
  {
   "cell_type": "code",
   "execution_count": 3,
   "metadata": {},
   "outputs": [
    {
     "name": "stdout",
     "output_type": "stream",
     "text": [
      "{\n",
      "    \"id\": \"coffeeDatabase\",\n",
      "    \"_rid\": \"uBp0AA==\",\n",
      "    \"_self\": \"dbs/uBp0AA==/\",\n",
      "    \"_etag\": \"\\\"00005408-0000-0500-0000-656966f40000\\\"\",\n",
      "    \"_colls\": \"colls/\",\n",
      "    \"_users\": \"users/\",\n",
      "    \"_ts\": 1701406452\n",
      "}\n"
     ]
    }
   ],
   "source": [
    "properties = database.read()\n",
    "print(json.dumps(properties, indent=4))"
   ]
  },
  {
   "cell_type": "code",
   "execution_count": 4,
   "metadata": {},
   "outputs": [
    {
     "data": {
      "text/plain": [
       "<ContainerProxy [dbs/coffeeDatabase/colls/menuContainer]>"
      ]
     },
     "execution_count": 4,
     "metadata": {},
     "output_type": "execute_result"
    }
   ],
   "source": [
    "# Create a container\n",
    "\n",
    "CONTAINER_NAME = 'menuContainer'\n",
    "\n",
    "try:\n",
    "    container = database.create_container(id=CONTAINER_NAME, partition_key=PartitionKey(path=\"/item_id\"))\n",
    "except exceptions.CosmosResourceExistsError:\n",
    "    container = database.get_container_client(CONTAINER_NAME)\n",
    "except exceptions.CosmosHttpResponseError:\n",
    "    raise\n",
    "\n",
    "container"
   ]
  },
  {
   "cell_type": "code",
   "execution_count": 5,
   "metadata": {},
   "outputs": [],
   "source": [
    "# Upload data to Cosmos DB container\n",
    "with open('../data/contoso.json') as f:  \n",
    "    documents = json.load(f)  \n",
    "\n",
    "for document in documents:  \n",
    "    container.upsert_item(body=document)"
   ]
  },
  {
   "cell_type": "code",
   "execution_count": 6,
   "metadata": {},
   "outputs": [
    {
     "data": {
      "text/plain": [
       "{'id': 'c001',\n",
       " 'item': 'Espresso',\n",
       " 'price': 2.5,\n",
       " 'description': 'Rich, full-bodied coffee, with a compact crema and strong aroma.',\n",
       " 'category': 'Coffees',\n",
       " '_rid': 'uBp0AIaQaQIBAAAAAAAAAA==',\n",
       " '_self': 'dbs/uBp0AA==/colls/uBp0AIaQaQI=/docs/uBp0AIaQaQIBAAAAAAAAAA==/',\n",
       " '_etag': '\"11003bd2-0000-0500-0000-658dc87e0000\"',\n",
       " '_attachments': 'attachments/',\n",
       " '_ts': 1703790718}"
      ]
     },
     "execution_count": 6,
     "metadata": {},
     "output_type": "execute_result"
    }
   ],
   "source": [
    "# Query the data  \n",
    "query = \"SELECT * FROM c\"  \n",
    "items = list(container.query_items(  \n",
    "    query=query,  \n",
    "    enable_cross_partition_query=True  \n",
    "))  \n",
    "  \n",
    "# Convert the data to JSON  \n",
    "json_data = json.dumps(items, indent=4)\n",
    "\n",
    "items[0]\n",
    " "
   ]
  },
  {
   "cell_type": "code",
   "execution_count": null,
   "metadata": {},
   "outputs": [],
   "source": []
  }
 ],
 "metadata": {
  "kernelspec": {
   "display_name": "food",
   "language": "python",
   "name": "python3"
  },
  "language_info": {
   "codemirror_mode": {
    "name": "ipython",
    "version": 3
   },
   "file_extension": ".py",
   "mimetype": "text/x-python",
   "name": "python",
   "nbconvert_exporter": "python",
   "pygments_lexer": "ipython3",
   "version": "3.10.13"
  }
 },
 "nbformat": 4,
 "nbformat_minor": 2
}
